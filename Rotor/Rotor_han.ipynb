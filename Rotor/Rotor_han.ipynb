{
 "cells": [
  {
   "attachments": {},
   "cell_type": "markdown",
   "metadata": {},
   "source": [
    "<p align=\"center\">\n",
    "    <img src=\"https://github.com/YoungsukHan/Hyundai_equip/assets/44924554/076ffad6-abf4-431b-af15-10373ba06182\" align=\"right\">\n",
    "</p>"
   ]
  },
  {
   "attachments": {},
   "cell_type": "markdown",
   "metadata": {
    "id": "54IWUjHa9CqL"
   },
   "source": [
    "# **회전기계 진동 데이터 AI 실습**\n",
    "\n",
    "**제목:** 회전기계의 고장유형 분석을 위한 AI 데이터셋 가이드북  <br>\n",
    "**Description:** 회전기계로부터 수집한 데이터를 전처리하고, 신경망 학습을 이용하여 회전기계의 정상/고장 여부 및 고장 유형을 판단하고자 함\n",
    "\n",
    "본 자료는 정부에서 운영하는 아래의 KAMP(한국인공지능제조플랫폼)의 데이터 및 예제를 수정한 교육자료입니다.\n",
    "\n",
    "중소벤처기업부, Korea AI Manufacturing Platform(KAMP), 회전기계 고장유형 AI 데이터셋, KAIST, 2021.12.27., https://kamp-ai.kr\n",
    "\n",
    "https://www.kamp-ai.kr/aidataDetail?AI_SEARCH=%ED%9A%8C%EC%A0%84%EA%B8%B0%EA%B3%84&page=1&DATASET_SEQ=18&EQUIP_SEL=&GUBUN_SEL=&FILE_TYPE_SEL=&WDATE_SEL="
   ]
  },
  {
   "cell_type": "markdown",
   "metadata": {
    "id": "I3fUfelNb8m2"
   },
   "source": [
    "※ 분석하기에 앞서 다음과 같은 가상환경이 구축되어있는지 확인해주세요. <br>\n",
    "Python 버전 : 3.10.12"
   ]
  },
  {
   "cell_type": "code",
   "execution_count": 1,
   "metadata": {
    "colab": {
     "base_uri": "https://localhost:8080/"
    },
    "executionInfo": {
     "elapsed": 321,
     "status": "ok",
     "timestamp": 1705226039138,
     "user": {
      "displayName": "‍정재윤(산업경영공학과)",
      "userId": "12900926733115983320"
     },
     "user_tz": -540
    },
    "id": "2OgXQHJMb8m7",
    "outputId": "207cebc1-e957-4acb-a65e-30493f1ab0d2"
   },
   "outputs": [
    {
     "name": "stdout",
     "output_type": "stream",
     "text": [
      "Python 3.10.12\n"
     ]
    }
   ],
   "source": [
    "!python --version"
   ]
  },
  {
   "attachments": {},
   "cell_type": "markdown",
   "metadata": {
    "id": "DynrnO0mb8m-"
   },
   "source": [
    "## 1. 분석 개요\n",
    "\n",
    "### 1.1 분석 배경\n",
    "\n",
    "**공정(설비) 개요:**\n",
    "- 회전기계는 발전소, 공장 등의 다양한 산업 현장에서 터빈, 펌프, 전동기, 압축기, 송풍기 등으로 사용됩니다. \n",
    "- 이들 기계는 동력원을 통해 회전축 주위를 회전하는 기계로, 주요 설비로 사용됩니다.\n",
    "\n",
    "![Rotor_1](https://github.com/YoungsukHan/Hyundai_equip/assets/44924554/f996a9a1-a32f-4b2f-8ba3-a3f2769b9685)\n",
    "<center>[회전기계 설비(사진)]</center> <br>\n",
    "\n",
    "**이슈사항(Pain Point):**\n",
    "- 회전기계가 예상치 못한 고장으로 인해 가동이 중단되면 유지보수 비용뿐만 아니라 시스템 가동 중지로 인한 비계획적 손실이 발생합니다.\n",
    "### 1.2 분석 목표\n",
    "\n",
    "**분석 목표:**\n",
    "- 회전기계의 진동 데이터를 분석하여 기계의 정상 상태와 비정상 상태를 분류하고, 비정상 상태의 유형 판별을 딥러닝 알고리즘을 활용하여 해결하고자합니다.\n",
    "\n",
    "**제조 데이터 분석 기대효과:**\n",
    "- 데이터 분석을 통해 회전기계의 운영 조건에 따른 기계 상태를 예측하고, 고장 발생을 미리 파악하여 유지보수 계획을 최적화할 수 있습니다.\n",
    "\n",
    "### 1.3 제조데이터 소개\n",
    "\n",
    "**데이터 수집 방법:**\n",
    "- 제조 분야: 회전기계가 사용되는 모든 산업 분야\n",
    "- 제조 공정명: 회전기계시스템 및 그 운영 데이터\n",
    "- 수집장비: 진동 센서\n",
    "- 수집기간: 2020년 3월 4일 ~ 2020년 4월 30일 (약 2개월)\n",
    "- 수집주기: 약 140초의 가속도(진동) 신호 수집\n",
    "\n",
    "![Rotor_6](https://github.com/YoungsukHan/Hyundai_equip/assets/44924554/9da136c0-ef10-4448-91d5-7af5f7609c4f)\n",
    "\n",
    "**데이터 유형/구조:**<br>\n",
    "![Rotor_2](https://github.com/YoungsukHan/Hyundai_equip/assets/44924554/0b02204d-6efb-44c8-be29-ce9af6d9a16f)\n",
    " - 데이터 크기, 데이터 수량: 약 1,500,000개의 관측치\n",
    " - 데이터 속성 정의 표:<br>\n",
    "![Rotor_3](https://github.com/YoungsukHan/Hyundai_equip/assets/44924554/456b46c2-fbca-4e73-956a-5ae39e6198dc)\n",
    "![Rotor_4](https://github.com/YoungsukHan/Hyundai_equip/assets/44924554/62d7d1a4-6457-44bf-8162-1ca6bf9d852e)\n",
    " - 독립변수/종속변수 정의:<br>\n",
    "![Rotor_5](https://github.com/YoungsukHan/Hyundai_equip/assets/44924554/8902dc27-db43-4c22-99ae-bbe722025bf6)"
   ]
  },
  {
   "cell_type": "markdown",
   "metadata": {
    "id": "BYq8JLs3-phY"
   },
   "source": [
    "## 2. 분석 실습\n"
   ]
  },
  {
   "cell_type": "markdown",
   "metadata": {},
   "source": [
    "### 2-1. 라이브러리 / 데이터 불러오기"
   ]
  },
  {
   "cell_type": "markdown",
   "metadata": {},
   "source": [
    "#### 필요한 라이브러리 설치 및 불러오기"
   ]
  },
  {
   "cell_type": "code",
   "execution_count": 2,
   "metadata": {},
   "outputs": [
    {
     "name": "stdout",
     "output_type": "stream",
     "text": [
      "Requirement already satisfied: pip in c:\\users\\han\\miniconda3\\envs\\hyundai_equip_6\\lib\\site-packages (24.0)\n"
     ]
    }
   ],
   "source": [
    "!pip install --upgrade pip"
   ]
  },
  {
   "cell_type": "code",
   "execution_count": 3,
   "metadata": {},
   "outputs": [
    {
     "name": "stdout",
     "output_type": "stream",
     "text": [
      "Requirement already satisfied: tensorflow==2.16.1 in c:\\users\\han\\miniconda3\\envs\\hyundai_equip_6\\lib\\site-packages (2.16.1)\n",
      "Requirement already satisfied: pandas==2.2.2 in c:\\users\\han\\miniconda3\\envs\\hyundai_equip_6\\lib\\site-packages (2.2.2)\n",
      "Requirement already satisfied: numpy==1.26.4 in c:\\users\\han\\miniconda3\\envs\\hyundai_equip_6\\lib\\site-packages (1.26.4)\n",
      "Requirement already satisfied: matplotlib==3.9.0 in c:\\users\\han\\miniconda3\\envs\\hyundai_equip_6\\lib\\site-packages (3.9.0)\n",
      "Requirement already satisfied: scikit-learn==1.5.0 in c:\\users\\han\\miniconda3\\envs\\hyundai_equip_6\\lib\\site-packages (1.5.0)\n",
      "Requirement already satisfied: imbalanced-learn==0.9.0 in c:\\users\\han\\miniconda3\\envs\\hyundai_equip_6\\lib\\site-packages (0.9.0)\n",
      "Requirement already satisfied: tensorflow-intel==2.16.1 in c:\\users\\han\\miniconda3\\envs\\hyundai_equip_6\\lib\\site-packages (from tensorflow==2.16.1) (2.16.1)\n",
      "Requirement already satisfied: python-dateutil>=2.8.2 in c:\\users\\han\\miniconda3\\envs\\hyundai_equip_6\\lib\\site-packages (from pandas==2.2.2) (2.9.0.post0)\n",
      "Requirement already satisfied: pytz>=2020.1 in c:\\users\\han\\miniconda3\\envs\\hyundai_equip_6\\lib\\site-packages (from pandas==2.2.2) (2024.1)\n",
      "Requirement already satisfied: tzdata>=2022.7 in c:\\users\\han\\miniconda3\\envs\\hyundai_equip_6\\lib\\site-packages (from pandas==2.2.2) (2024.1)\n",
      "Requirement already satisfied: contourpy>=1.0.1 in c:\\users\\han\\miniconda3\\envs\\hyundai_equip_6\\lib\\site-packages (from matplotlib==3.9.0) (1.2.1)\n",
      "Requirement already satisfied: cycler>=0.10 in c:\\users\\han\\miniconda3\\envs\\hyundai_equip_6\\lib\\site-packages (from matplotlib==3.9.0) (0.12.1)\n",
      "Requirement already satisfied: fonttools>=4.22.0 in c:\\users\\han\\miniconda3\\envs\\hyundai_equip_6\\lib\\site-packages (from matplotlib==3.9.0) (4.52.1)\n",
      "Requirement already satisfied: kiwisolver>=1.3.1 in c:\\users\\han\\miniconda3\\envs\\hyundai_equip_6\\lib\\site-packages (from matplotlib==3.9.0) (1.4.5)\n",
      "Requirement already satisfied: packaging>=20.0 in c:\\users\\han\\miniconda3\\envs\\hyundai_equip_6\\lib\\site-packages (from matplotlib==3.9.0) (24.0)\n",
      "Requirement already satisfied: pillow>=8 in c:\\users\\han\\miniconda3\\envs\\hyundai_equip_6\\lib\\site-packages (from matplotlib==3.9.0) (10.3.0)\n",
      "Requirement already satisfied: pyparsing>=2.3.1 in c:\\users\\han\\miniconda3\\envs\\hyundai_equip_6\\lib\\site-packages (from matplotlib==3.9.0) (3.1.2)\n",
      "Requirement already satisfied: scipy>=1.6.0 in c:\\users\\han\\miniconda3\\envs\\hyundai_equip_6\\lib\\site-packages (from scikit-learn==1.5.0) (1.13.1)\n",
      "Requirement already satisfied: joblib>=1.2.0 in c:\\users\\han\\miniconda3\\envs\\hyundai_equip_6\\lib\\site-packages (from scikit-learn==1.5.0) (1.4.2)\n",
      "Requirement already satisfied: threadpoolctl>=3.1.0 in c:\\users\\han\\miniconda3\\envs\\hyundai_equip_6\\lib\\site-packages (from scikit-learn==1.5.0) (3.5.0)\n",
      "Requirement already satisfied: absl-py>=1.0.0 in c:\\users\\han\\miniconda3\\envs\\hyundai_equip_6\\lib\\site-packages (from tensorflow-intel==2.16.1->tensorflow==2.16.1) (2.1.0)\n",
      "Requirement already satisfied: astunparse>=1.6.0 in c:\\users\\han\\miniconda3\\envs\\hyundai_equip_6\\lib\\site-packages (from tensorflow-intel==2.16.1->tensorflow==2.16.1) (1.6.3)\n",
      "Requirement already satisfied: flatbuffers>=23.5.26 in c:\\users\\han\\miniconda3\\envs\\hyundai_equip_6\\lib\\site-packages (from tensorflow-intel==2.16.1->tensorflow==2.16.1) (24.3.25)\n",
      "Requirement already satisfied: gast!=0.5.0,!=0.5.1,!=0.5.2,>=0.2.1 in c:\\users\\han\\miniconda3\\envs\\hyundai_equip_6\\lib\\site-packages (from tensorflow-intel==2.16.1->tensorflow==2.16.1) (0.5.4)\n",
      "Requirement already satisfied: google-pasta>=0.1.1 in c:\\users\\han\\miniconda3\\envs\\hyundai_equip_6\\lib\\site-packages (from tensorflow-intel==2.16.1->tensorflow==2.16.1) (0.2.0)\n",
      "Requirement already satisfied: h5py>=3.10.0 in c:\\users\\han\\miniconda3\\envs\\hyundai_equip_6\\lib\\site-packages (from tensorflow-intel==2.16.1->tensorflow==2.16.1) (3.11.0)\n",
      "Requirement already satisfied: libclang>=13.0.0 in c:\\users\\han\\miniconda3\\envs\\hyundai_equip_6\\lib\\site-packages (from tensorflow-intel==2.16.1->tensorflow==2.16.1) (18.1.1)\n",
      "Requirement already satisfied: ml-dtypes~=0.3.1 in c:\\users\\han\\miniconda3\\envs\\hyundai_equip_6\\lib\\site-packages (from tensorflow-intel==2.16.1->tensorflow==2.16.1) (0.3.2)\n",
      "Requirement already satisfied: opt-einsum>=2.3.2 in c:\\users\\han\\miniconda3\\envs\\hyundai_equip_6\\lib\\site-packages (from tensorflow-intel==2.16.1->tensorflow==2.16.1) (3.3.0)\n",
      "Requirement already satisfied: protobuf!=4.21.0,!=4.21.1,!=4.21.2,!=4.21.3,!=4.21.4,!=4.21.5,<5.0.0dev,>=3.20.3 in c:\\users\\han\\miniconda3\\envs\\hyundai_equip_6\\lib\\site-packages (from tensorflow-intel==2.16.1->tensorflow==2.16.1) (4.25.3)\n",
      "Requirement already satisfied: requests<3,>=2.21.0 in c:\\users\\han\\miniconda3\\envs\\hyundai_equip_6\\lib\\site-packages (from tensorflow-intel==2.16.1->tensorflow==2.16.1) (2.32.2)\n",
      "Requirement already satisfied: setuptools in c:\\users\\han\\miniconda3\\envs\\hyundai_equip_6\\lib\\site-packages (from tensorflow-intel==2.16.1->tensorflow==2.16.1) (70.0.0)\n",
      "Requirement already satisfied: six>=1.12.0 in c:\\users\\han\\miniconda3\\envs\\hyundai_equip_6\\lib\\site-packages (from tensorflow-intel==2.16.1->tensorflow==2.16.1) (1.16.0)\n",
      "Requirement already satisfied: termcolor>=1.1.0 in c:\\users\\han\\miniconda3\\envs\\hyundai_equip_6\\lib\\site-packages (from tensorflow-intel==2.16.1->tensorflow==2.16.1) (2.4.0)\n",
      "Requirement already satisfied: typing-extensions>=3.6.6 in c:\\users\\han\\miniconda3\\envs\\hyundai_equip_6\\lib\\site-packages (from tensorflow-intel==2.16.1->tensorflow==2.16.1) (4.12.0)\n",
      "Requirement already satisfied: wrapt>=1.11.0 in c:\\users\\han\\miniconda3\\envs\\hyundai_equip_6\\lib\\site-packages (from tensorflow-intel==2.16.1->tensorflow==2.16.1) (1.16.0)\n",
      "Requirement already satisfied: grpcio<2.0,>=1.24.3 in c:\\users\\han\\miniconda3\\envs\\hyundai_equip_6\\lib\\site-packages (from tensorflow-intel==2.16.1->tensorflow==2.16.1) (1.64.0)\n",
      "Requirement already satisfied: tensorboard<2.17,>=2.16 in c:\\users\\han\\miniconda3\\envs\\hyundai_equip_6\\lib\\site-packages (from tensorflow-intel==2.16.1->tensorflow==2.16.1) (2.16.2)\n",
      "Requirement already satisfied: keras>=3.0.0 in c:\\users\\han\\miniconda3\\envs\\hyundai_equip_6\\lib\\site-packages (from tensorflow-intel==2.16.1->tensorflow==2.16.1) (3.3.3)\n",
      "Requirement already satisfied: tensorflow-io-gcs-filesystem>=0.23.1 in c:\\users\\han\\miniconda3\\envs\\hyundai_equip_6\\lib\\site-packages (from tensorflow-intel==2.16.1->tensorflow==2.16.1) (0.31.0)\n",
      "Requirement already satisfied: wheel<1.0,>=0.23.0 in c:\\users\\han\\miniconda3\\envs\\hyundai_equip_6\\lib\\site-packages (from astunparse>=1.6.0->tensorflow-intel==2.16.1->tensorflow==2.16.1) (0.43.0)\n",
      "Requirement already satisfied: rich in c:\\users\\han\\miniconda3\\envs\\hyundai_equip_6\\lib\\site-packages (from keras>=3.0.0->tensorflow-intel==2.16.1->tensorflow==2.16.1) (13.7.1)\n",
      "Requirement already satisfied: namex in c:\\users\\han\\miniconda3\\envs\\hyundai_equip_6\\lib\\site-packages (from keras>=3.0.0->tensorflow-intel==2.16.1->tensorflow==2.16.1) (0.0.8)\n",
      "Requirement already satisfied: optree in c:\\users\\han\\miniconda3\\envs\\hyundai_equip_6\\lib\\site-packages (from keras>=3.0.0->tensorflow-intel==2.16.1->tensorflow==2.16.1) (0.11.0)\n",
      "Requirement already satisfied: charset-normalizer<4,>=2 in c:\\users\\han\\miniconda3\\envs\\hyundai_equip_6\\lib\\site-packages (from requests<3,>=2.21.0->tensorflow-intel==2.16.1->tensorflow==2.16.1) (3.3.2)\n",
      "Requirement already satisfied: idna<4,>=2.5 in c:\\users\\han\\miniconda3\\envs\\hyundai_equip_6\\lib\\site-packages (from requests<3,>=2.21.0->tensorflow-intel==2.16.1->tensorflow==2.16.1) (3.7)\n",
      "Requirement already satisfied: urllib3<3,>=1.21.1 in c:\\users\\han\\miniconda3\\envs\\hyundai_equip_6\\lib\\site-packages (from requests<3,>=2.21.0->tensorflow-intel==2.16.1->tensorflow==2.16.1) (2.2.1)\n",
      "Requirement already satisfied: certifi>=2017.4.17 in c:\\users\\han\\miniconda3\\envs\\hyundai_equip_6\\lib\\site-packages (from requests<3,>=2.21.0->tensorflow-intel==2.16.1->tensorflow==2.16.1) (2024.2.2)\n",
      "Requirement already satisfied: markdown>=2.6.8 in c:\\users\\han\\miniconda3\\envs\\hyundai_equip_6\\lib\\site-packages (from tensorboard<2.17,>=2.16->tensorflow-intel==2.16.1->tensorflow==2.16.1) (3.6)\n",
      "Requirement already satisfied: tensorboard-data-server<0.8.0,>=0.7.0 in c:\\users\\han\\miniconda3\\envs\\hyundai_equip_6\\lib\\site-packages (from tensorboard<2.17,>=2.16->tensorflow-intel==2.16.1->tensorflow==2.16.1) (0.7.2)\n",
      "Requirement already satisfied: werkzeug>=1.0.1 in c:\\users\\han\\miniconda3\\envs\\hyundai_equip_6\\lib\\site-packages (from tensorboard<2.17,>=2.16->tensorflow-intel==2.16.1->tensorflow==2.16.1) (3.0.3)\n",
      "Requirement already satisfied: MarkupSafe>=2.1.1 in c:\\users\\han\\miniconda3\\envs\\hyundai_equip_6\\lib\\site-packages (from werkzeug>=1.0.1->tensorboard<2.17,>=2.16->tensorflow-intel==2.16.1->tensorflow==2.16.1) (2.1.5)\n",
      "Requirement already satisfied: markdown-it-py>=2.2.0 in c:\\users\\han\\miniconda3\\envs\\hyundai_equip_6\\lib\\site-packages (from rich->keras>=3.0.0->tensorflow-intel==2.16.1->tensorflow==2.16.1) (3.0.0)\n",
      "Requirement already satisfied: pygments<3.0.0,>=2.13.0 in c:\\users\\han\\miniconda3\\envs\\hyundai_equip_6\\lib\\site-packages (from rich->keras>=3.0.0->tensorflow-intel==2.16.1->tensorflow==2.16.1) (2.18.0)\n",
      "Requirement already satisfied: mdurl~=0.1 in c:\\users\\han\\miniconda3\\envs\\hyundai_equip_6\\lib\\site-packages (from markdown-it-py>=2.2.0->rich->keras>=3.0.0->tensorflow-intel==2.16.1->tensorflow==2.16.1) (0.1.2)\n"
     ]
    }
   ],
   "source": [
    "!pip install tensorflow==2.16.1 pandas==2.2.2 numpy==1.26.4 matplotlib==3.9.0 scikit-learn==1.5.0 imbalanced-learn==0.9.0"
   ]
  },
  {
   "cell_type": "code",
   "execution_count": 4,
   "metadata": {
    "executionInfo": {
     "elapsed": 6856,
     "status": "ok",
     "timestamp": 1705226046786,
     "user": {
      "displayName": "‍정재윤(산업경영공학과)",
      "userId": "12900926733115983320"
     },
     "user_tz": -540
    },
    "id": "0hUhGYY6b8nA"
   },
   "outputs": [],
   "source": [
    "import glob\n",
    "import os\n",
    "import pandas as pd\n",
    "import numpy as np\n",
    "import matplotlib.pyplot as plt\n",
    "from sklearn.preprocessing import MinMaxScaler\n",
    "from sklearn.metrics import classification_report, confusion_matrix, ConfusionMatrixDisplay, accuracy_score, f1_score\n",
    "from sklearn.model_selection import train_test_split\n",
    "from tensorflow.keras.models import Sequential\n",
    "from tensorflow.keras.layers import Dense, Dropout"
   ]
  },
  {
   "cell_type": "markdown",
   "metadata": {},
   "source": [
    "#### 데이터 불러오기"
   ]
  },
  {
   "cell_type": "code",
   "execution_count": 5,
   "metadata": {},
   "outputs": [],
   "source": [
    "# group1 데이터 로드\n",
    "sensor1 = pd.read_csv('./dataset/g1_sensor1.csv', names=['time', 'normal', 'type1', 'type2', 'type3'])\n",
    "sensor2 = pd.read_csv('./dataset/g1_sensor2.csv', names=['time', 'normal', 'type1', 'type2', 'type3'])\n",
    "sensor3 = pd.read_csv('./dataset/g1_sensor3.csv', names=['time', 'normal', 'type1', 'type2', 'type3'])\n",
    "sensor4 = pd.read_csv('./dataset/g1_sensor4.csv', names=['time', 'normal', 'type1', 'type2', 'type3'])"
   ]
  },
  {
   "cell_type": "markdown",
   "metadata": {
    "id": "BYq8JLs3-phY"
   },
   "source": [
    "### 2-2. 데이터 특성 파악\n"
   ]
  },
  {
   "cell_type": "markdown",
   "metadata": {},
   "source": [
    "#### 데이터 기본 구조 파악"
   ]
  },
  {
   "cell_type": "code",
   "execution_count": 6,
   "metadata": {
    "scrolled": true
   },
   "outputs": [
    {
     "data": {
      "text/html": [
       "<div>\n",
       "<style scoped>\n",
       "    .dataframe tbody tr th:only-of-type {\n",
       "        vertical-align: middle;\n",
       "    }\n",
       "\n",
       "    .dataframe tbody tr th {\n",
       "        vertical-align: top;\n",
       "    }\n",
       "\n",
       "    .dataframe thead th {\n",
       "        text-align: right;\n",
       "    }\n",
       "</style>\n",
       "<table border=\"1\" class=\"dataframe\">\n",
       "  <thead>\n",
       "    <tr style=\"text-align: right;\">\n",
       "      <th></th>\n",
       "      <th>time</th>\n",
       "      <th>normal</th>\n",
       "      <th>type1</th>\n",
       "      <th>type2</th>\n",
       "      <th>type3</th>\n",
       "    </tr>\n",
       "  </thead>\n",
       "  <tbody>\n",
       "    <tr>\n",
       "      <th>0</th>\n",
       "      <td>0.000000</td>\n",
       "      <td>-0.853307</td>\n",
       "      <td>-3.464579</td>\n",
       "      <td>0.555219</td>\n",
       "      <td>3.919664</td>\n",
       "    </tr>\n",
       "    <tr>\n",
       "      <th>1</th>\n",
       "      <td>0.000736</td>\n",
       "      <td>-0.740463</td>\n",
       "      <td>-2.448986</td>\n",
       "      <td>-0.234687</td>\n",
       "      <td>4.145351</td>\n",
       "    </tr>\n",
       "    <tr>\n",
       "      <th>2</th>\n",
       "      <td>0.001472</td>\n",
       "      <td>-0.138630</td>\n",
       "      <td>-1.922383</td>\n",
       "      <td>-0.009000</td>\n",
       "      <td>2.941685</td>\n",
       "    </tr>\n",
       "    <tr>\n",
       "      <th>3</th>\n",
       "      <td>0.002208</td>\n",
       "      <td>0.049443</td>\n",
       "      <td>-0.906790</td>\n",
       "      <td>-0.272301</td>\n",
       "      <td>2.603155</td>\n",
       "    </tr>\n",
       "    <tr>\n",
       "      <th>4</th>\n",
       "      <td>0.002944</td>\n",
       "      <td>-0.289088</td>\n",
       "      <td>-0.568259</td>\n",
       "      <td>-0.986978</td>\n",
       "      <td>1.361874</td>\n",
       "    </tr>\n",
       "  </tbody>\n",
       "</table>\n",
       "</div>"
      ],
      "text/plain": [
       "       time    normal     type1     type2     type3\n",
       "0  0.000000 -0.853307 -3.464579  0.555219  3.919664\n",
       "1  0.000736 -0.740463 -2.448986 -0.234687  4.145351\n",
       "2  0.001472 -0.138630 -1.922383 -0.009000  2.941685\n",
       "3  0.002208  0.049443 -0.906790 -0.272301  2.603155\n",
       "4  0.002944 -0.289088 -0.568259 -0.986978  1.361874"
      ]
     },
     "execution_count": 6,
     "metadata": {},
     "output_type": "execute_result"
    }
   ],
   "source": [
    "sensor1.head()"
   ]
  },
  {
   "cell_type": "code",
   "execution_count": 7,
   "metadata": {},
   "outputs": [
    {
     "name": "stdout",
     "output_type": "stream",
     "text": [
      "<class 'pandas.core.frame.DataFrame'>\n",
      "RangeIndex: 190218 entries, 0 to 190217\n",
      "Data columns (total 5 columns):\n",
      " #   Column  Non-Null Count   Dtype  \n",
      "---  ------  --------------   -----  \n",
      " 0   time    190218 non-null  float64\n",
      " 1   normal  190218 non-null  float64\n",
      " 2   type1   190218 non-null  float64\n",
      " 3   type2   190218 non-null  float64\n",
      " 4   type3   190218 non-null  float64\n",
      "dtypes: float64(5)\n",
      "memory usage: 7.3 MB\n"
     ]
    }
   ],
   "source": [
    "sensor1.info()"
   ]
  },
  {
   "cell_type": "code",
   "execution_count": 8,
   "metadata": {
    "scrolled": true
   },
   "outputs": [
    {
     "name": "stdout",
     "output_type": "stream",
     "text": [
      "                time         normal          type1          type2  \\\n",
      "count  190218.000000  190218.000000  190218.000000  190218.000000   \n",
      "mean       69.999856      -0.000037      -0.000087       0.000036   \n",
      "std        40.414754       0.708399       1.700166       0.724812   \n",
      "min         0.000000      -2.251143      -6.699430      -2.366852   \n",
      "25%        34.999928      -0.595441      -1.525924      -0.560912   \n",
      "50%        69.999856       0.080996      -0.024703      -0.030856   \n",
      "75%       104.999784       0.578801       1.540837       0.572961   \n",
      "max       139.999712       2.037394       6.616120       2.311678   \n",
      "\n",
      "               type3  \n",
      "count  190218.000000  \n",
      "mean       -0.000067  \n",
      "std         1.870773  \n",
      "min        -6.941574  \n",
      "25%        -1.664113  \n",
      "50%         0.392694  \n",
      "75%         1.567799  \n",
      "max         7.540028  \n"
     ]
    }
   ],
   "source": [
    "print(sensor1.describe())"
   ]
  },
  {
   "cell_type": "code",
   "execution_count": 9,
   "metadata": {},
   "outputs": [
    {
     "name": "stdout",
     "output_type": "stream",
     "text": [
      "sensor 1의 데이터 크기 (190218, 5)\n",
      "sensor 2의 데이터 크기 (184211, 5)\n",
      "sensor 3의 데이터 크기 (196079, 5)\n",
      "sensor 4의 데이터 크기 (183969, 5)\n"
     ]
    }
   ],
   "source": [
    "print('sensor 1의 데이터 크기', sensor1.shape)\n",
    "print('sensor 2의 데이터 크기', sensor2.shape)\n",
    "print('sensor 3의 데이터 크기', sensor3.shape)\n",
    "print('sensor 4의 데이터 크기', sensor4.shape)"
   ]
  },
  {
   "cell_type": "markdown",
   "metadata": {
    "id": "BYq8JLs3-phY"
   },
   "source": [
    "### 2-3. 데이터 정제(전처리)\n"
   ]
  },
  {
   "cell_type": "markdown",
   "metadata": {},
   "source": [
    "#### 데이터 선형보간\n",
    "각 센서별 sampling rate은 다음과 같다. <br>\n",
    "\n",
    "| Sensor 1 | Sensor 2 | Sensor 3 | Sensor 4 |\n",
    "|:--------:|:--------:|----------|----------|\n",
    "| 0.000736 | 0.000760 | 0.000714 | 0.000761 |\n",
    "\n",
    "계측된 센서 데이터의 계측 시간 간격 (sampling rate)이 일정하지 않은 경우, 데이터 간 정확한 비교가 어려우므로 계측 시간의 동일화를 위해 전처리(선형 보간)가 요구된다. 선형보간의 방법은 아래 그림과 같다.\n",
    "<br>\n",
    "![interpolation.png](https://raw.githubusercontent.com/jjyjung/ai/gh-pages/img/interpolation.png)<br>\n",
    "<br>\n",
    "따라서 표에 나온 sampling rate을 이용하여 각 센서의 데이터를 0.001 sec 간격으로 선형보간 한다 (총 140초). <br>\n",
    " - interpolate.interp1d() : [선형보간 함수](https://docs.scipy.org/doc/scipy/reference/generated/scipy.interpolate.interp1d.html)를 이용하였다."
   ]
  },
  {
   "cell_type": "code",
   "execution_count": 10,
   "metadata": {},
   "outputs": [],
   "source": [
    "from scipy import interpolate\n",
    "\n",
    "x_new = np.arange(0, 140, 0.001)\n",
    "\n",
    "y_new1 = []; y_new2 = []; y_new3 = []; y_new4 = []\n",
    "for item in ['normal', 'type1', 'type2', 'type3']:\n",
    "    f_linear1 = interpolate.interp1d(sensor1['time'], sensor1[item], kind='linear'); y_new1.append(f_linear1(x_new))\n",
    "    f_linear2 = interpolate.interp1d(sensor2['time'], sensor2[item], kind='linear'); y_new2.append(f_linear2(x_new))\n",
    "    f_linear3 = interpolate.interp1d(sensor3['time'], sensor3[item], kind='linear'); y_new3.append(f_linear3(x_new))\n",
    "    f_linear4 = interpolate.interp1d(sensor4['time'], sensor4[item], kind='linear'); y_new4.append(f_linear4(x_new))\n",
    "\n",
    "sensor1 = pd.DataFrame(np.array(y_new1).T, columns = ['normal', 'type1', 'type2', 'type3'])\n",
    "sensor2 = pd.DataFrame(np.array(y_new2).T, columns = ['normal', 'type1', 'type2', 'type3'])\n",
    "sensor3 = pd.DataFrame(np.array(y_new3).T, columns = ['normal', 'type1', 'type2', 'type3'])\n",
    "sensor4 = pd.DataFrame(np.array(y_new4).T, columns = ['normal', 'type1', 'type2', 'type3'])"
   ]
  },
  {
   "cell_type": "code",
   "execution_count": 11,
   "metadata": {},
   "outputs": [
    {
     "data": {
      "text/html": [
       "<div>\n",
       "<style scoped>\n",
       "    .dataframe tbody tr th:only-of-type {\n",
       "        vertical-align: middle;\n",
       "    }\n",
       "\n",
       "    .dataframe tbody tr th {\n",
       "        vertical-align: top;\n",
       "    }\n",
       "\n",
       "    .dataframe thead th {\n",
       "        text-align: right;\n",
       "    }\n",
       "</style>\n",
       "<table border=\"1\" class=\"dataframe\">\n",
       "  <thead>\n",
       "    <tr style=\"text-align: right;\">\n",
       "      <th></th>\n",
       "      <th>normal</th>\n",
       "      <th>type1</th>\n",
       "      <th>type2</th>\n",
       "      <th>type3</th>\n",
       "    </tr>\n",
       "  </thead>\n",
       "  <tbody>\n",
       "    <tr>\n",
       "      <th>0</th>\n",
       "      <td>-0.853307</td>\n",
       "      <td>-3.464579</td>\n",
       "      <td>0.555219</td>\n",
       "      <td>3.919664</td>\n",
       "    </tr>\n",
       "    <tr>\n",
       "      <th>1</th>\n",
       "      <td>-0.524588</td>\n",
       "      <td>-2.260096</td>\n",
       "      <td>-0.153734</td>\n",
       "      <td>3.713601</td>\n",
       "    </tr>\n",
       "    <tr>\n",
       "      <th>2</th>\n",
       "      <td>-0.003708</td>\n",
       "      <td>-1.193805</td>\n",
       "      <td>-0.197890</td>\n",
       "      <td>2.698827</td>\n",
       "    </tr>\n",
       "    <tr>\n",
       "      <th>3</th>\n",
       "      <td>-0.297674</td>\n",
       "      <td>-0.490986</td>\n",
       "      <td>-0.972668</td>\n",
       "      <td>1.338978</td>\n",
       "    </tr>\n",
       "    <tr>\n",
       "      <th>4</th>\n",
       "      <td>-0.091203</td>\n",
       "      <td>0.790771</td>\n",
       "      <td>-0.913384</td>\n",
       "      <td>0.701167</td>\n",
       "    </tr>\n",
       "    <tr>\n",
       "      <th>...</th>\n",
       "      <td>...</td>\n",
       "      <td>...</td>\n",
       "      <td>...</td>\n",
       "      <td>...</td>\n",
       "    </tr>\n",
       "    <tr>\n",
       "      <th>139995</th>\n",
       "      <td>-1.057411</td>\n",
       "      <td>-1.389236</td>\n",
       "      <td>0.664186</td>\n",
       "      <td>-1.498190</td>\n",
       "    </tr>\n",
       "    <tr>\n",
       "      <th>139996</th>\n",
       "      <td>-0.513635</td>\n",
       "      <td>-1.368793</td>\n",
       "      <td>1.050553</td>\n",
       "      <td>-0.982626</td>\n",
       "    </tr>\n",
       "    <tr>\n",
       "      <th>139997</th>\n",
       "      <td>-1.085213</td>\n",
       "      <td>-2.281763</td>\n",
       "      <td>0.868204</td>\n",
       "      <td>-2.144997</td>\n",
       "    </tr>\n",
       "    <tr>\n",
       "      <th>139998</th>\n",
       "      <td>-0.677177</td>\n",
       "      <td>-1.887220</td>\n",
       "      <td>0.792975</td>\n",
       "      <td>-2.146224</td>\n",
       "    </tr>\n",
       "    <tr>\n",
       "      <th>139999</th>\n",
       "      <td>-1.387764</td>\n",
       "      <td>-2.427315</td>\n",
       "      <td>1.187928</td>\n",
       "      <td>-3.057968</td>\n",
       "    </tr>\n",
       "  </tbody>\n",
       "</table>\n",
       "<p>140000 rows × 4 columns</p>\n",
       "</div>"
      ],
      "text/plain": [
       "          normal     type1     type2     type3\n",
       "0      -0.853307 -3.464579  0.555219  3.919664\n",
       "1      -0.524588 -2.260096 -0.153734  3.713601\n",
       "2      -0.003708 -1.193805 -0.197890  2.698827\n",
       "3      -0.297674 -0.490986 -0.972668  1.338978\n",
       "4      -0.091203  0.790771 -0.913384  0.701167\n",
       "...          ...       ...       ...       ...\n",
       "139995 -1.057411 -1.389236  0.664186 -1.498190\n",
       "139996 -0.513635 -1.368793  1.050553 -0.982626\n",
       "139997 -1.085213 -2.281763  0.868204 -2.144997\n",
       "139998 -0.677177 -1.887220  0.792975 -2.146224\n",
       "139999 -1.387764 -2.427315  1.187928 -3.057968\n",
       "\n",
       "[140000 rows x 4 columns]"
      ]
     },
     "execution_count": 11,
     "metadata": {},
     "output_type": "execute_result"
    }
   ],
   "source": [
    "sensor1"
   ]
  },
  {
   "cell_type": "markdown",
   "metadata": {},
   "source": [
    "선형 보간 작업을 위해 데이터를 센서별로 묶어두었지만, 실제 취득된 형태로 데이터를 다시 조정합니다"
   ]
  },
  {
   "cell_type": "code",
   "execution_count": 12,
   "metadata": {},
   "outputs": [],
   "source": [
    "normal_ = pd.concat([sensor1['normal'],sensor2['normal'],sensor3['normal'],sensor4['normal']],axis=1)\n",
    "type1_  = pd.concat([sensor1['type1'], sensor2['type1'], sensor3['type1'], sensor4['type1']], axis=1)\n",
    "type2_  = pd.concat([sensor1['type2'], sensor2['type2'], sensor3['type2'], sensor4['type2']], axis=1)\n",
    "type3_  = pd.concat([sensor1['type3'], sensor2['type3'], sensor3['type3'], sensor4['type3']], axis=1)\n",
    "\n",
    "normal_.columns = ['s1', 's2', 's3', 's4']; type1_.columns = ['s1', 's2', 's3', 's4']\n",
    "type2_.columns  = ['s1', 's2', 's3', 's4']; type3_.columns = ['s1', 's2', 's3', 's4']"
   ]
  },
  {
   "cell_type": "code",
   "execution_count": 13,
   "metadata": {},
   "outputs": [
    {
     "data": {
      "text/html": [
       "<div>\n",
       "<style scoped>\n",
       "    .dataframe tbody tr th:only-of-type {\n",
       "        vertical-align: middle;\n",
       "    }\n",
       "\n",
       "    .dataframe tbody tr th {\n",
       "        vertical-align: top;\n",
       "    }\n",
       "\n",
       "    .dataframe thead th {\n",
       "        text-align: right;\n",
       "    }\n",
       "</style>\n",
       "<table border=\"1\" class=\"dataframe\">\n",
       "  <thead>\n",
       "    <tr style=\"text-align: right;\">\n",
       "      <th></th>\n",
       "      <th>s1</th>\n",
       "      <th>s2</th>\n",
       "      <th>s3</th>\n",
       "      <th>s4</th>\n",
       "    </tr>\n",
       "  </thead>\n",
       "  <tbody>\n",
       "    <tr>\n",
       "      <th>0</th>\n",
       "      <td>-0.853307</td>\n",
       "      <td>0.048823</td>\n",
       "      <td>-0.437626</td>\n",
       "      <td>-1.116226</td>\n",
       "    </tr>\n",
       "    <tr>\n",
       "      <th>1</th>\n",
       "      <td>-0.524588</td>\n",
       "      <td>-0.029477</td>\n",
       "      <td>-0.149817</td>\n",
       "      <td>-0.659694</td>\n",
       "    </tr>\n",
       "    <tr>\n",
       "      <th>2</th>\n",
       "      <td>-0.003708</td>\n",
       "      <td>-0.004751</td>\n",
       "      <td>0.280889</td>\n",
       "      <td>-0.857345</td>\n",
       "    </tr>\n",
       "    <tr>\n",
       "      <th>3</th>\n",
       "      <td>-0.297674</td>\n",
       "      <td>0.009673</td>\n",
       "      <td>-0.303281</td>\n",
       "      <td>-0.685318</td>\n",
       "    </tr>\n",
       "    <tr>\n",
       "      <th>4</th>\n",
       "      <td>-0.091203</td>\n",
       "      <td>0.096215</td>\n",
       "      <td>-0.320263</td>\n",
       "      <td>-0.303108</td>\n",
       "    </tr>\n",
       "    <tr>\n",
       "      <th>...</th>\n",
       "      <td>...</td>\n",
       "      <td>...</td>\n",
       "      <td>...</td>\n",
       "      <td>...</td>\n",
       "    </tr>\n",
       "    <tr>\n",
       "      <th>139995</th>\n",
       "      <td>-1.057411</td>\n",
       "      <td>0.587429</td>\n",
       "      <td>0.275044</td>\n",
       "      <td>0.289837</td>\n",
       "    </tr>\n",
       "    <tr>\n",
       "      <th>139996</th>\n",
       "      <td>-0.513635</td>\n",
       "      <td>-0.137874</td>\n",
       "      <td>-0.045973</td>\n",
       "      <td>0.131462</td>\n",
       "    </tr>\n",
       "    <tr>\n",
       "      <th>139997</th>\n",
       "      <td>-1.085213</td>\n",
       "      <td>0.002242</td>\n",
       "      <td>-0.164593</td>\n",
       "      <td>-0.087380</td>\n",
       "    </tr>\n",
       "    <tr>\n",
       "      <th>139998</th>\n",
       "      <td>-0.677177</td>\n",
       "      <td>-0.308897</td>\n",
       "      <td>0.288252</td>\n",
       "      <td>1.319862</td>\n",
       "    </tr>\n",
       "    <tr>\n",
       "      <th>139999</th>\n",
       "      <td>-1.387764</td>\n",
       "      <td>-0.731303</td>\n",
       "      <td>0.395425</td>\n",
       "      <td>-0.125739</td>\n",
       "    </tr>\n",
       "  </tbody>\n",
       "</table>\n",
       "<p>140000 rows × 4 columns</p>\n",
       "</div>"
      ],
      "text/plain": [
       "              s1        s2        s3        s4\n",
       "0      -0.853307  0.048823 -0.437626 -1.116226\n",
       "1      -0.524588 -0.029477 -0.149817 -0.659694\n",
       "2      -0.003708 -0.004751  0.280889 -0.857345\n",
       "3      -0.297674  0.009673 -0.303281 -0.685318\n",
       "4      -0.091203  0.096215 -0.320263 -0.303108\n",
       "...          ...       ...       ...       ...\n",
       "139995 -1.057411  0.587429  0.275044  0.289837\n",
       "139996 -0.513635 -0.137874 -0.045973  0.131462\n",
       "139997 -1.085213  0.002242 -0.164593 -0.087380\n",
       "139998 -0.677177 -0.308897  0.288252  1.319862\n",
       "139999 -1.387764 -0.731303  0.395425 -0.125739\n",
       "\n",
       "[140000 rows x 4 columns]"
      ]
     },
     "execution_count": 13,
     "metadata": {},
     "output_type": "execute_result"
    }
   ],
   "source": [
    "normal_"
   ]
  },
  {
   "cell_type": "code",
   "execution_count": 14,
   "metadata": {},
   "outputs": [
    {
     "name": "stdout",
     "output_type": "stream",
     "text": [
      "normal 상태 데이터의 사이즈 (140000, 4)\n",
      "type1  상태 데이터의 사이즈 (140000, 4)\n",
      "type2  상태 데이터의 사이즈 (140000, 4)\n",
      "type3  상태 데이터의 사이즈 (140000, 4)\n"
     ]
    }
   ],
   "source": [
    "print('normal 상태 데이터의 사이즈', normal_.shape)\n",
    "print('type1  상태 데이터의 사이즈', type1_.shape)\n",
    "print('type2  상태 데이터의 사이즈', type2_.shape)\n",
    "print('type3  상태 데이터의 사이즈', type3_.shape)"
   ]
  },
  {
   "cell_type": "markdown",
   "metadata": {},
   "source": [
    "#### 데이터 필터링 (Filtering)\n",
    "\n",
    "센서로부터 취득한 데이터는 기본적으로 기계학습에 좋지 않은 영향을 주는 노이즈(Noise)가 포함되어 있다. 센서 데이터에 평균을 취하면 데이터의 노이즈를 제거할 수 있는데, 측정하려는 물리량이 시간에따라 변하는 경우에는 적절하지 않다(데이터의 동적인 변화를 모두 smoothing하는 결과). 따라서 데이터에서 노이즈를 제거하면서, 동적인 변화를 반영하는 방법으로 이동평균필터가 있으며, 본 가이드북에서는 데이터의 노이즈를 처리하기 위해 이동평균필터(Moving Average filter)를 사용하였다.\n",
    "\n",
    "- 이동평균필터 (Moving Average filter)는 python에서 [np.convolve()](https://numpy.org/doc/stable/reference/generated/numpy.convolve.html) 함수로 구현된다 (MATLAB의 filter 함수와 동일). <br>\n",
    "    - np.convolve() : 1차원 신호를 입력으로 받아, 최근 M개의 측정값들의 평균을 구한다.\n",
    "    \n",
    "    - 모든 데이터의 평균이 아니라, 정해진 크기(M개)의 최근 측정값들로만 평균을 구한다. <br>\n",
    "    - 일반적으로 신호 데이터의 변동이 빠른 경우에는 M값을 작게하고, 신호 데이터의 변동이 느린 경우에는 M값을 크게한다. <br>\n",
    "    - 자세한 이론은 [자료](https://www.analog.com/media/en/technical-documentation/dsp-book/dsp_book_Ch15.pdf)를 참고하면 좋다."
   ]
  },
  {
   "cell_type": "code",
   "execution_count": 15,
   "metadata": {},
   "outputs": [],
   "source": [
    "M = 15\n",
    "\n",
    "normal_s1 = np.convolve(normal_['s1'], np.ones(M), 'valid') / M; normal_s1 = normal_s1.reshape(len(normal_s1),1)\n",
    "normal_s2 = np.convolve(normal_['s2'], np.ones(M), 'valid') / M; normal_s2 = normal_s2.reshape(len(normal_s2),1)\n",
    "normal_s3 = np.convolve(normal_['s3'], np.ones(M), 'valid') / M; normal_s3 = normal_s3.reshape(len(normal_s3),1)\n",
    "normal_s4 = np.convolve(normal_['s4'], np.ones(M), 'valid') / M; normal_s4 = normal_s4.reshape(len(normal_s4),1)\n",
    "\n",
    "type1_s1 = np.convolve(type1_['s1'], np.ones(M), 'valid') / M; type1_s1 = type1_s1.reshape(len(type1_s1),1)\n",
    "type1_s2 = np.convolve(type1_['s2'], np.ones(M), 'valid') / M; type1_s2 = type1_s2.reshape(len(type1_s2),1)\n",
    "type1_s3 = np.convolve(type1_['s3'], np.ones(M), 'valid') / M; type1_s3 = type1_s3.reshape(len(type1_s3),1)\n",
    "type1_s4 = np.convolve(type1_['s4'], np.ones(M), 'valid') / M; type1_s4 = type1_s4.reshape(len(type1_s4),1)\n",
    "\n",
    "type2_s1 = np.convolve(type2_['s1'], np.ones(M), 'valid') / M; type2_s1 = type2_s1.reshape(len(type2_s1),1)\n",
    "type2_s2 = np.convolve(type2_['s2'], np.ones(M), 'valid') / M; type2_s2 = type2_s2.reshape(len(type2_s2),1)\n",
    "type2_s3 = np.convolve(type2_['s3'], np.ones(M), 'valid') / M; type2_s3 = type2_s3.reshape(len(type2_s3),1)\n",
    "type2_s4 = np.convolve(type2_['s4'], np.ones(M), 'valid') / M; type2_s4 = type2_s4.reshape(len(type2_s4),1)\n",
    "\n",
    "type3_s1 = np.convolve(type3_['s1'], np.ones(M), 'valid') / M; type3_s1 = type3_s1.reshape(len(type3_s1),1)\n",
    "type3_s2 = np.convolve(type3_['s2'], np.ones(M), 'valid') / M; type3_s2 = type3_s2.reshape(len(type3_s2),1)\n",
    "type3_s3 = np.convolve(type3_['s3'], np.ones(M), 'valid') / M; type3_s3 = type3_s3.reshape(len(type3_s3),1)\n",
    "type3_s4 = np.convolve(type3_['s4'], np.ones(M), 'valid') / M; type3_s4 = type3_s4.reshape(len(type3_s4),1)"
   ]
  },
  {
   "cell_type": "code",
   "execution_count": 16,
   "metadata": {},
   "outputs": [],
   "source": [
    "normal_temp = np.concatenate((normal_s1,normal_s2,normal_s3,normal_s4), axis = 1)\n",
    "type1_temp = np.concatenate((type1_s1,type1_s2,type1_s3,type1_s4), axis = 1)\n",
    "type2_temp = np.concatenate((type2_s1,type2_s2,type2_s3,type2_s4), axis = 1)\n",
    "type3_temp = np.concatenate((type3_s1,type3_s2,type3_s3,type3_s4), axis = 1)"
   ]
  },
  {
   "cell_type": "markdown",
   "metadata": {},
   "source": [
    "#### 데이터 정규화\n",
    "\n",
    "데이터 (140000,4)의 센서 값들이 다양한 Range를 갖는다. <br>\n",
    "이는 신경망 학습에 그대로 이용하기엔 적절하지 않다. <br>\n",
    "일반적으로 인풋 값들을 정규화(Normalization)하는데, 본 가이드북에서는 Min-max normalization 활용하여 진행하였다. <br>\n",
    "Min-max normalization는 데이터를 0과 1 사이의 값으로 scaling한다.\n",
    "\n",
    "1) Normal data의 최대값(max)과 최소값(min)을 구한다. <br>\n",
    "2) 정규화할 데이터 값(x)과 앞서 구한 최대값(Xmax), 최소값(Xmin)을 다음의 식에 대입한다.\n",
    "\n",
    "![sensor1.png](https://raw.githubusercontent.com/jjyjung/ai/gh-pages/img/minmax.png)<br>\n",
    "3) 이와 같은 식은 sklearn.preprocessing의 MinMaxScaler에 구현되어있다."
   ]
  },
  {
   "cell_type": "code",
   "execution_count": 17,
   "metadata": {},
   "outputs": [
    {
     "name": "stderr",
     "output_type": "stream",
     "text": [
      "C:\\Users\\Han\\Miniconda3\\envs\\hyundai_equip_6\\lib\\site-packages\\sklearn\\base.py:493: UserWarning: X does not have valid feature names, but MinMaxScaler was fitted with feature names\n",
      "  warnings.warn(\n",
      "C:\\Users\\Han\\Miniconda3\\envs\\hyundai_equip_6\\lib\\site-packages\\sklearn\\base.py:493: UserWarning: X does not have valid feature names, but MinMaxScaler was fitted with feature names\n",
      "  warnings.warn(\n",
      "C:\\Users\\Han\\Miniconda3\\envs\\hyundai_equip_6\\lib\\site-packages\\sklearn\\base.py:493: UserWarning: X does not have valid feature names, but MinMaxScaler was fitted with feature names\n",
      "  warnings.warn(\n",
      "C:\\Users\\Han\\Miniconda3\\envs\\hyundai_equip_6\\lib\\site-packages\\sklearn\\base.py:493: UserWarning: X does not have valid feature names, but MinMaxScaler was fitted with feature names\n",
      "  warnings.warn(\n"
     ]
    }
   ],
   "source": [
    "from sklearn.preprocessing import MinMaxScaler\n",
    "\n",
    "scaler = MinMaxScaler()\n",
    "scaler.fit(normal_)\n",
    "normal = scaler.transform(normal_temp)\n",
    "type1  = scaler.transform(type1_temp)\n",
    "type2  = scaler.transform(type2_temp)\n",
    "type3  = scaler.transform(type3_temp)"
   ]
  },
  {
   "cell_type": "markdown",
   "metadata": {},
   "source": [
    "# 데이터 사이즈 조정\n",
    "이동평균 필터링 후에 데이터의 사이즈를 조정한다 <br>\n",
    "데이터 사이즈를 (10000, 4)로 맞춰주었다.(딥러닝 학습 시간 고려)"
   ]
  },
  {
   "cell_type": "code",
   "execution_count": 18,
   "metadata": {},
   "outputs": [],
   "source": [
    "# normal = normal[100000:125000][:]\n",
    "# type1  = type1[100000:125000][:]\n",
    "# type2  = type2[100000:125000][:]\n",
    "# type3  = type3[100000:125000][:]\n",
    "\n",
    "normal = normal[100000:110000][:]\n",
    "type1  = type1[100000:110000][:]\n",
    "type2  = type2[100000:110000][:]\n",
    "type3  = type3[100000:110000][:]"
   ]
  },
  {
   "cell_type": "code",
   "execution_count": 19,
   "metadata": {
    "scrolled": true
   },
   "outputs": [
    {
     "name": "stdout",
     "output_type": "stream",
     "text": [
      "[[0.64328714 0.55881164 0.58473478 0.50628721]\n",
      " [0.66064775 0.56581905 0.57048603 0.52476451]\n",
      " [0.67430631 0.5707941  0.5702254  0.5442626 ]\n",
      " ...\n",
      " [0.68456922 0.41732953 0.60915979 0.47505373]\n",
      " [0.69207456 0.4057493  0.6115001  0.47268531]\n",
      " [0.69536447 0.41728719 0.62070549 0.47517462]]\n",
      "------------------------------------------------\n",
      "normal data size =  (10000, 4)\n"
     ]
    }
   ],
   "source": [
    "print(normal)\n",
    "print('------------------------------------------------')\n",
    "print('normal data size = ', normal.shape)"
   ]
  },
  {
   "cell_type": "markdown",
   "metadata": {},
   "source": [
    "#### 데이터 라벨링 및 유형별 분배\n",
    "Normal, type1-3 abnormal data를 라벨링하고, 1:1:1:1의 비율로 각각 training data, validation data, test data로 나눈다. <br>\n",
    "이 때, 학습 : 검증 : 테스트 = 6 : 2 : 2 이다."
   ]
  },
  {
   "cell_type": "code",
   "execution_count": 20,
   "metadata": {},
   "outputs": [],
   "source": [
    "# 데이터 라벨링 및 분배\n",
    "def label_and_split_data(data, label, split_indices):\n",
    "    y = np.full(len(data), label)\n",
    "    return data[:split_indices[0]], data[split_indices[0]:split_indices[1]], data[split_indices[1]:], \\\n",
    "           y[:split_indices[0]], y[split_indices[0]:split_indices[1]], y[split_indices[1]:]\n",
    "\n",
    "# split_indices = [15000, 20000]\n",
    "split_indices = [6000, 8000]\n",
    "normal_train, normal_val, normal_test, normal_y_train, normal_y_val, normal_y_test = label_and_split_data(normal, 0, split_indices)\n",
    "type1_train, type1_val, type1_test, type1_y_train, type1_y_val, type1_y_test = label_and_split_data(type1, 1, split_indices)\n",
    "type2_train, type2_val, type2_test, type2_y_train, type2_y_val, type2_y_test = label_and_split_data(type2, 2, split_indices)\n",
    "type3_train, type3_val, type3_test, type3_y_train, type3_y_val, type3_y_test = label_and_split_data(type3, 3, split_indices)"
   ]
  },
  {
   "cell_type": "markdown",
   "metadata": {},
   "source": [
    "#### Window 정의 함수 생성\n",
    "Window는 딥러닝을 학습하기 위한 단위로, window size는 timestep과 같다고 생각하면 된다. <br>\n",
    "입력한 timestep만큼의 데이터를 저장하여 과거 값(예를들어, 1~10)을 통해 현재 종속변수를 예측하는 것이다.\n",
    "\n"
   ]
  },
  {
   "cell_type": "code",
   "execution_count": 21,
   "metadata": {},
   "outputs": [],
   "source": [
    "def create_dataset(X, y, time_steps=1):\n",
    "    Xs, ys = [], []\n",
    "    for i in range(len(X) - time_steps):\n",
    "        Xs.append(X[i:(i + time_steps)])\n",
    "        ys.append(y[i + time_steps - 1])\n",
    "    return np.array(Xs), np.array(ys)\n",
    "    \n",
    "def generate_datasets(train, val, test, y_train, y_val, y_test, time_steps):\n",
    "    X_train, y_train = create_dataset(train, y_train, time_steps)\n",
    "    X_val, y_val = create_dataset(val, y_val, time_steps)\n",
    "    X_test, y_test = create_dataset(test, y_test, time_steps)\n",
    "    return X_train, y_train, X_val, y_val, X_test, y_test"
   ]
  },
  {
   "cell_type": "code",
   "execution_count": 22,
   "metadata": {},
   "outputs": [],
   "source": [
    "TIME_STEPS = 500  # 0.5초 단위\n",
    "\n",
    "X_normal_train, y_normal_train, X_normal_val, y_normal_val, X_normal_test, y_normal_test = generate_datasets(normal_train, normal_val, normal_test, normal_y_train, normal_y_val, normal_y_test, TIME_STEPS)\n",
    "X_type1_train, y_type1_train, X_type1_val, y_type1_val, X_type1_test, y_type1_test = generate_datasets(type1_train, type1_val, type1_test, type1_y_train, type1_y_val, type1_y_test, TIME_STEPS)\n",
    "X_type2_train, y_type2_train, X_type2_val, y_type2_val, X_type2_test, y_type2_test = generate_datasets(type2_train, type2_val, type2_test, type2_y_train, type2_y_val, type2_y_test, TIME_STEPS)\n",
    "X_type3_train, y_type3_train, X_type3_val, y_type3_val, X_type3_test, y_type3_test = generate_datasets(type3_train, type3_val, type3_test, type3_y_train, type3_y_val, type3_y_test, TIME_STEPS)"
   ]
  },
  {
   "cell_type": "markdown",
   "metadata": {},
   "source": [
    "#### 데이터 병합 및 셔플"
   ]
  },
  {
   "cell_type": "code",
   "execution_count": 23,
   "metadata": {},
   "outputs": [],
   "source": [
    "def concatenate_datasets(X_sets, y_sets):\n",
    "    X = np.concatenate(X_sets, axis=0)\n",
    "    y = np.concatenate(y_sets, axis=0)\n",
    "    return X, y"
   ]
  },
  {
   "cell_type": "code",
   "execution_count": 24,
   "metadata": {},
   "outputs": [],
   "source": [
    "X_train, y_train = concatenate_datasets([X_normal_train, X_type1_train, X_type2_train, X_type3_train], [y_normal_train, y_type1_train, y_type2_train, y_type3_train])\n",
    "X_val, y_val = concatenate_datasets([X_normal_val, X_type1_val, X_type2_val, X_type3_val], [y_normal_val, y_type1_val, y_type2_val, y_type3_val])\n",
    "X_test, y_test = concatenate_datasets([X_normal_test, X_type1_test, X_type2_test, X_type3_test], [y_normal_test, y_type1_test, y_type2_test, y_type3_test])"
   ]
  },
  {
   "cell_type": "code",
   "execution_count": 25,
   "metadata": {},
   "outputs": [],
   "source": [
    "def shuffle_data(X, y):\n",
    "    indices = np.arange(X.shape[0])\n",
    "    np.random.shuffle(indices)\n",
    "    return X[indices], y[indices]\n",
    "\n",
    "X_train, y_train = shuffle_data(X_train, y_train)\n",
    "X_val, y_val = shuffle_data(X_val, y_val)\n",
    "X_test, y_test = shuffle_data(X_test, y_test)"
   ]
  },
  {
   "cell_type": "code",
   "execution_count": 26,
   "metadata": {},
   "outputs": [
    {
     "name": "stdout",
     "output_type": "stream",
     "text": [
      "train data의 형태: (22000, 500, 4)\n",
      "valid data의 형태: (6000, 500, 4)\n",
      " test data의 형태: (6000, 500, 4)\n"
     ]
    }
   ],
   "source": [
    "print(\"train data의 형태:\", X_train.shape)\n",
    "print(\"valid data의 형태:\", X_val.shape)\n",
    "print(\" test data의 형태:\", X_test.shape)"
   ]
  },
  {
   "cell_type": "markdown",
   "metadata": {
    "id": "BYq8JLs3-phY"
   },
   "source": [
    "### 2-4. DNN 모델링\n"
   ]
  },
  {
   "cell_type": "markdown",
   "metadata": {},
   "source": [
    "**심층 신경망(DNN)**\n",
    "- 심층 신경망(Deep Neural Network)은 여러 층의 노드로 구성된 신경망 구조를 쌓아 학습시키는 AI 알고리즘입니다.\n",
    "\n",
    "    |<b>DNN의 기본구조</b> |\n",
    "    | :--: |\n",
    "    | ![](https://parallelr.com/uploads/2016/02/dnn_architecture.png)|\n",
    "    | (출처:https://parallelr.com/2016/02/13/r-deep-neural-network-from-scratch/)|\n",
    "\n",
    "  \n",
    "- 각 노드는 입력 데이터를 받아 연산 후 결과를 출력하며, 활성화 함수(예: 시그모이드, ReLU)를 통해 비선형 변환을 수행합니다.\n",
    "\n",
    "    |<b>활성화 함수 예: ReLU, sigmoid</b> |\n",
    "    | :--: |\n",
    "    | ![CNC_5](https://github.com/YoungsukHan/Hyundai_equip/assets/44924554/19863edd-d7a5-4d73-8462-cd238e520c82)|\n"
   ]
  },
  {
   "cell_type": "markdown",
   "metadata": {},
   "source": [
    "### DNN 모델 구축"
   ]
  },
  {
   "cell_type": "code",
   "execution_count": 27,
   "metadata": {},
   "outputs": [
    {
     "name": "stdout",
     "output_type": "stream",
     "text": [
      "train data의 형태: (22000, 500, 4)\n"
     ]
    }
   ],
   "source": [
    "print(\"train data의 형태:\", X_train.shape)"
   ]
  },
  {
   "cell_type": "code",
   "execution_count": 28,
   "metadata": {},
   "outputs": [
    {
     "name": "stderr",
     "output_type": "stream",
     "text": [
      "C:\\Users\\Han\\Miniconda3\\envs\\hyundai_equip_6\\lib\\site-packages\\keras\\src\\layers\\reshaping\\flatten.py:37: UserWarning: Do not pass an `input_shape`/`input_dim` argument to a layer. When using Sequential models, prefer using an `Input(shape)` object as the first layer in the model instead.\n",
      "  super().__init__(**kwargs)\n"
     ]
    },
    {
     "data": {
      "text/html": [
       "<pre style=\"white-space:pre;overflow-x:auto;line-height:normal;font-family:Menlo,'DejaVu Sans Mono',consolas,'Courier New',monospace\"><span style=\"font-weight: bold\">Model: \"sequential\"</span>\n",
       "</pre>\n"
      ],
      "text/plain": [
       "\u001b[1mModel: \"sequential\"\u001b[0m\n"
      ]
     },
     "metadata": {},
     "output_type": "display_data"
    },
    {
     "data": {
      "text/html": [
       "<pre style=\"white-space:pre;overflow-x:auto;line-height:normal;font-family:Menlo,'DejaVu Sans Mono',consolas,'Courier New',monospace\">┏━━━━━━━━━━━━━━━━━━━━━━━━━━━━━━━━━━━━━━┳━━━━━━━━━━━━━━━━━━━━━━━━━━━━━┳━━━━━━━━━━━━━━━━━┓\n",
       "┃<span style=\"font-weight: bold\"> Layer (type)                         </span>┃<span style=\"font-weight: bold\"> Output Shape                </span>┃<span style=\"font-weight: bold\">         Param # </span>┃\n",
       "┡━━━━━━━━━━━━━━━━━━━━━━━━━━━━━━━━━━━━━━╇━━━━━━━━━━━━━━━━━━━━━━━━━━━━━╇━━━━━━━━━━━━━━━━━┩\n",
       "│ flatten (<span style=\"color: #0087ff; text-decoration-color: #0087ff\">Flatten</span>)                    │ (<span style=\"color: #00d7ff; text-decoration-color: #00d7ff\">None</span>, <span style=\"color: #00af00; text-decoration-color: #00af00\">2000</span>)                │               <span style=\"color: #00af00; text-decoration-color: #00af00\">0</span> │\n",
       "├──────────────────────────────────────┼─────────────────────────────┼─────────────────┤\n",
       "│ dense (<span style=\"color: #0087ff; text-decoration-color: #0087ff\">Dense</span>)                        │ (<span style=\"color: #00d7ff; text-decoration-color: #00d7ff\">None</span>, <span style=\"color: #00af00; text-decoration-color: #00af00\">64</span>)                  │         <span style=\"color: #00af00; text-decoration-color: #00af00\">128,064</span> │\n",
       "├──────────────────────────────────────┼─────────────────────────────┼─────────────────┤\n",
       "│ dense_1 (<span style=\"color: #0087ff; text-decoration-color: #0087ff\">Dense</span>)                      │ (<span style=\"color: #00d7ff; text-decoration-color: #00d7ff\">None</span>, <span style=\"color: #00af00; text-decoration-color: #00af00\">64</span>)                  │           <span style=\"color: #00af00; text-decoration-color: #00af00\">4,160</span> │\n",
       "├──────────────────────────────────────┼─────────────────────────────┼─────────────────┤\n",
       "│ dense_2 (<span style=\"color: #0087ff; text-decoration-color: #0087ff\">Dense</span>)                      │ (<span style=\"color: #00d7ff; text-decoration-color: #00d7ff\">None</span>, <span style=\"color: #00af00; text-decoration-color: #00af00\">4</span>)                   │             <span style=\"color: #00af00; text-decoration-color: #00af00\">260</span> │\n",
       "└──────────────────────────────────────┴─────────────────────────────┴─────────────────┘\n",
       "</pre>\n"
      ],
      "text/plain": [
       "┏━━━━━━━━━━━━━━━━━━━━━━━━━━━━━━━━━━━━━━┳━━━━━━━━━━━━━━━━━━━━━━━━━━━━━┳━━━━━━━━━━━━━━━━━┓\n",
       "┃\u001b[1m \u001b[0m\u001b[1mLayer (type)                        \u001b[0m\u001b[1m \u001b[0m┃\u001b[1m \u001b[0m\u001b[1mOutput Shape               \u001b[0m\u001b[1m \u001b[0m┃\u001b[1m \u001b[0m\u001b[1m        Param #\u001b[0m\u001b[1m \u001b[0m┃\n",
       "┡━━━━━━━━━━━━━━━━━━━━━━━━━━━━━━━━━━━━━━╇━━━━━━━━━━━━━━━━━━━━━━━━━━━━━╇━━━━━━━━━━━━━━━━━┩\n",
       "│ flatten (\u001b[38;5;33mFlatten\u001b[0m)                    │ (\u001b[38;5;45mNone\u001b[0m, \u001b[38;5;34m2000\u001b[0m)                │               \u001b[38;5;34m0\u001b[0m │\n",
       "├──────────────────────────────────────┼─────────────────────────────┼─────────────────┤\n",
       "│ dense (\u001b[38;5;33mDense\u001b[0m)                        │ (\u001b[38;5;45mNone\u001b[0m, \u001b[38;5;34m64\u001b[0m)                  │         \u001b[38;5;34m128,064\u001b[0m │\n",
       "├──────────────────────────────────────┼─────────────────────────────┼─────────────────┤\n",
       "│ dense_1 (\u001b[38;5;33mDense\u001b[0m)                      │ (\u001b[38;5;45mNone\u001b[0m, \u001b[38;5;34m64\u001b[0m)                  │           \u001b[38;5;34m4,160\u001b[0m │\n",
       "├──────────────────────────────────────┼─────────────────────────────┼─────────────────┤\n",
       "│ dense_2 (\u001b[38;5;33mDense\u001b[0m)                      │ (\u001b[38;5;45mNone\u001b[0m, \u001b[38;5;34m4\u001b[0m)                   │             \u001b[38;5;34m260\u001b[0m │\n",
       "└──────────────────────────────────────┴─────────────────────────────┴─────────────────┘\n"
      ]
     },
     "metadata": {},
     "output_type": "display_data"
    },
    {
     "data": {
      "text/html": [
       "<pre style=\"white-space:pre;overflow-x:auto;line-height:normal;font-family:Menlo,'DejaVu Sans Mono',consolas,'Courier New',monospace\"><span style=\"font-weight: bold\"> Total params: </span><span style=\"color: #00af00; text-decoration-color: #00af00\">132,484</span> (517.52 KB)\n",
       "</pre>\n"
      ],
      "text/plain": [
       "\u001b[1m Total params: \u001b[0m\u001b[38;5;34m132,484\u001b[0m (517.52 KB)\n"
      ]
     },
     "metadata": {},
     "output_type": "display_data"
    },
    {
     "data": {
      "text/html": [
       "<pre style=\"white-space:pre;overflow-x:auto;line-height:normal;font-family:Menlo,'DejaVu Sans Mono',consolas,'Courier New',monospace\"><span style=\"font-weight: bold\"> Trainable params: </span><span style=\"color: #00af00; text-decoration-color: #00af00\">132,484</span> (517.52 KB)\n",
       "</pre>\n"
      ],
      "text/plain": [
       "\u001b[1m Trainable params: \u001b[0m\u001b[38;5;34m132,484\u001b[0m (517.52 KB)\n"
      ]
     },
     "metadata": {},
     "output_type": "display_data"
    },
    {
     "data": {
      "text/html": [
       "<pre style=\"white-space:pre;overflow-x:auto;line-height:normal;font-family:Menlo,'DejaVu Sans Mono',consolas,'Courier New',monospace\"><span style=\"font-weight: bold\"> Non-trainable params: </span><span style=\"color: #00af00; text-decoration-color: #00af00\">0</span> (0.00 B)\n",
       "</pre>\n"
      ],
      "text/plain": [
       "\u001b[1m Non-trainable params: \u001b[0m\u001b[38;5;34m0\u001b[0m (0.00 B)\n"
      ]
     },
     "metadata": {},
     "output_type": "display_data"
    }
   ],
   "source": [
    "from tensorflow.keras.models import Sequential\n",
    "from tensorflow.keras.layers import Dense, Dropout, Flatten\n",
    "# AI 모델 파라미터 설정\n",
    "batch_size = 5000\n",
    "epochs = 20\n",
    "\n",
    "# AI 모델 디자인\n",
    "model = Sequential()\n",
    "model.add(Flatten(input_shape=(TIME_STEPS, X_train.shape[2])))\n",
    "model.add(Dense(64, activation='relu'))\n",
    "model.add(Dense(64, activation='relu'))\n",
    "model.add(Dense(4, activation='softmax'))\n",
    "\n",
    "# 모델 컴파일\n",
    "model.compile(optimizer='adam', loss='sparse_categorical_crossentropy', metrics=['accuracy'])\n",
    "\n",
    "# 모델 요약\n",
    "model.summary()"
   ]
  },
  {
   "cell_type": "markdown",
   "metadata": {},
   "source": [
    "#### 모델 학습"
   ]
  },
  {
   "cell_type": "code",
   "execution_count": 29,
   "metadata": {},
   "outputs": [
    {
     "name": "stdout",
     "output_type": "stream",
     "text": [
      "Epoch 1/20\n",
      "\u001b[1m5/5\u001b[0m \u001b[32m━━━━━━━━━━━━━━━━━━━━\u001b[0m\u001b[37m\u001b[0m \u001b[1m1s\u001b[0m 57ms/step - accuracy: 0.2106 - loss: 1.7575 - val_accuracy: 0.2500 - val_loss: 1.4416\n",
      "Epoch 2/20\n",
      "\u001b[1m5/5\u001b[0m \u001b[32m━━━━━━━━━━━━━━━━━━━━\u001b[0m\u001b[37m\u001b[0m \u001b[1m0s\u001b[0m 20ms/step - accuracy: 0.2528 - loss: 1.4509 - val_accuracy: 0.2952 - val_loss: 1.4066\n",
      "Epoch 3/20\n",
      "\u001b[1m5/5\u001b[0m \u001b[32m━━━━━━━━━━━━━━━━━━━━\u001b[0m\u001b[37m\u001b[0m \u001b[1m0s\u001b[0m 22ms/step - accuracy: 0.2761 - loss: 1.4161 - val_accuracy: 0.2458 - val_loss: 1.3882\n",
      "Epoch 4/20\n",
      "\u001b[1m5/5\u001b[0m \u001b[32m━━━━━━━━━━━━━━━━━━━━\u001b[0m\u001b[37m\u001b[0m \u001b[1m0s\u001b[0m 24ms/step - accuracy: 0.2829 - loss: 1.3950 - val_accuracy: 0.2403 - val_loss: 1.3771\n",
      "Epoch 5/20\n",
      "\u001b[1m5/5\u001b[0m \u001b[32m━━━━━━━━━━━━━━━━━━━━\u001b[0m\u001b[37m\u001b[0m \u001b[1m0s\u001b[0m 19ms/step - accuracy: 0.2474 - loss: 1.3817 - val_accuracy: 0.3583 - val_loss: 1.3736\n",
      "Epoch 6/20\n",
      "\u001b[1m5/5\u001b[0m \u001b[32m━━━━━━━━━━━━━━━━━━━━\u001b[0m\u001b[37m\u001b[0m \u001b[1m0s\u001b[0m 19ms/step - accuracy: 0.3234 - loss: 1.3752 - val_accuracy: 0.3685 - val_loss: 1.3670\n",
      "Epoch 7/20\n",
      "\u001b[1m5/5\u001b[0m \u001b[32m━━━━━━━━━━━━━━━━━━━━\u001b[0m\u001b[37m\u001b[0m \u001b[1m0s\u001b[0m 21ms/step - accuracy: 0.3360 - loss: 1.3676 - val_accuracy: 0.3573 - val_loss: 1.3623\n",
      "Epoch 8/20\n",
      "\u001b[1m5/5\u001b[0m \u001b[32m━━━━━━━━━━━━━━━━━━━━\u001b[0m\u001b[37m\u001b[0m \u001b[1m0s\u001b[0m 21ms/step - accuracy: 0.3548 - loss: 1.3615 - val_accuracy: 0.2818 - val_loss: 1.3554\n",
      "Epoch 9/20\n",
      "\u001b[1m5/5\u001b[0m \u001b[32m━━━━━━━━━━━━━━━━━━━━\u001b[0m\u001b[37m\u001b[0m \u001b[1m0s\u001b[0m 20ms/step - accuracy: 0.2851 - loss: 1.3524 - val_accuracy: 0.3705 - val_loss: 1.3373\n",
      "Epoch 10/20\n",
      "\u001b[1m5/5\u001b[0m \u001b[32m━━━━━━━━━━━━━━━━━━━━\u001b[0m\u001b[37m\u001b[0m \u001b[1m0s\u001b[0m 20ms/step - accuracy: 0.3612 - loss: 1.3358 - val_accuracy: 0.3595 - val_loss: 1.3205\n",
      "Epoch 11/20\n",
      "\u001b[1m5/5\u001b[0m \u001b[32m━━━━━━━━━━━━━━━━━━━━\u001b[0m\u001b[37m\u001b[0m \u001b[1m0s\u001b[0m 20ms/step - accuracy: 0.4075 - loss: 1.3220 - val_accuracy: 0.4240 - val_loss: 1.3051\n",
      "Epoch 12/20\n",
      "\u001b[1m5/5\u001b[0m \u001b[32m━━━━━━━━━━━━━━━━━━━━\u001b[0m\u001b[37m\u001b[0m \u001b[1m0s\u001b[0m 21ms/step - accuracy: 0.3938 - loss: 1.3058 - val_accuracy: 0.4268 - val_loss: 1.2865\n",
      "Epoch 13/20\n",
      "\u001b[1m5/5\u001b[0m \u001b[32m━━━━━━━━━━━━━━━━━━━━\u001b[0m\u001b[37m\u001b[0m \u001b[1m0s\u001b[0m 21ms/step - accuracy: 0.4043 - loss: 1.2883 - val_accuracy: 0.4263 - val_loss: 1.2680\n",
      "Epoch 14/20\n",
      "\u001b[1m5/5\u001b[0m \u001b[32m━━━━━━━━━━━━━━━━━━━━\u001b[0m\u001b[37m\u001b[0m \u001b[1m0s\u001b[0m 19ms/step - accuracy: 0.4261 - loss: 1.2684 - val_accuracy: 0.3903 - val_loss: 1.2436\n",
      "Epoch 15/20\n",
      "\u001b[1m5/5\u001b[0m \u001b[32m━━━━━━━━━━━━━━━━━━━━\u001b[0m\u001b[37m\u001b[0m \u001b[1m0s\u001b[0m 19ms/step - accuracy: 0.4163 - loss: 1.2470 - val_accuracy: 0.4582 - val_loss: 1.2177\n",
      "Epoch 16/20\n",
      "\u001b[1m5/5\u001b[0m \u001b[32m━━━━━━━━━━━━━━━━━━━━\u001b[0m\u001b[37m\u001b[0m \u001b[1m0s\u001b[0m 20ms/step - accuracy: 0.4314 - loss: 1.2215 - val_accuracy: 0.4318 - val_loss: 1.1853\n",
      "Epoch 17/20\n",
      "\u001b[1m5/5\u001b[0m \u001b[32m━━━━━━━━━━━━━━━━━━━━\u001b[0m\u001b[37m\u001b[0m \u001b[1m0s\u001b[0m 20ms/step - accuracy: 0.4333 - loss: 1.1896 - val_accuracy: 0.4533 - val_loss: 1.1539\n",
      "Epoch 18/20\n",
      "\u001b[1m5/5\u001b[0m \u001b[32m━━━━━━━━━━━━━━━━━━━━\u001b[0m\u001b[37m\u001b[0m \u001b[1m0s\u001b[0m 21ms/step - accuracy: 0.4459 - loss: 1.1613 - val_accuracy: 0.4082 - val_loss: 1.1276\n",
      "Epoch 19/20\n",
      "\u001b[1m5/5\u001b[0m \u001b[32m━━━━━━━━━━━━━━━━━━━━\u001b[0m\u001b[37m\u001b[0m \u001b[1m0s\u001b[0m 21ms/step - accuracy: 0.4367 - loss: 1.1342 - val_accuracy: 0.4662 - val_loss: 1.0943\n",
      "Epoch 20/20\n",
      "\u001b[1m5/5\u001b[0m \u001b[32m━━━━━━━━━━━━━━━━━━━━\u001b[0m\u001b[37m\u001b[0m \u001b[1m0s\u001b[0m 23ms/step - accuracy: 0.4373 - loss: 1.1045 - val_accuracy: 0.4830 - val_loss: 1.0641\n"
     ]
    }
   ],
   "source": [
    "# 모델 훈련\n",
    "history = model.fit(X_train, y_train, epochs=epochs, batch_size=batch_size, validation_data=(X_val, y_val))"
   ]
  },
  {
   "cell_type": "markdown",
   "metadata": {},
   "source": [
    "#### 손실 그래프 시각화"
   ]
  },
  {
   "cell_type": "code",
   "execution_count": 30,
   "metadata": {},
   "outputs": [
    {
     "data": {
      "image/png": "[encoded data removed]",
      "text/plain": [
       "<Figure size 640x480 with 1 Axes>"
      ]
     },
     "metadata": {},
     "output_type": "display_data"
    }
   ],
   "source": [
    "# 손실 그래프 시각화\n",
    "plt.figure()\n",
    "plt.plot(history.history['loss'], label='Training Loss')\n",
    "plt.plot(history.history['val_loss'], label='Validation Loss')\n",
    "plt.legend()\n",
    "plt.show()"
   ]
  },
  {
   "cell_type": "markdown",
   "metadata": {
    "id": "BYq8JLs3-phY"
   },
   "source": [
    "### 모델 평가\n"
   ]
  },
  {
   "cell_type": "code",
   "execution_count": 31,
   "metadata": {
    "scrolled": true
   },
   "outputs": [
    {
     "name": "stdout",
     "output_type": "stream",
     "text": [
      "\u001b[1m188/188\u001b[0m \u001b[32m━━━━━━━━━━━━━━━━━━━━\u001b[0m\u001b[37m\u001b[0m \u001b[1m0s\u001b[0m 802us/step\n",
      "              precision    recall  f1-score   support\n",
      "\n",
      "           0       0.46      0.57      0.51      1500\n",
      "           1       0.62      0.42      0.50      1500\n",
      "           2       0.33      0.40      0.36      1500\n",
      "           3       0.62      0.55      0.58      1500\n",
      "\n",
      "    accuracy                           0.48      6000\n",
      "   macro avg       0.51      0.48      0.49      6000\n",
      "weighted avg       0.51      0.48      0.49      6000\n",
      "\n",
      "[[851   0 649   0]\n",
      " [ 73 627 300 500]\n",
      " [899   0 601   0]\n",
      " [ 36 389 252 823]]\n"
     ]
    },
    {
     "data": {
      "image/png": "[encoded data removed]",
      "text/plain": [
       "<Figure size 640x480 with 2 Axes>"
      ]
     },
     "metadata": {},
     "output_type": "display_data"
    }
   ],
   "source": [
    "# 예측값 계산\n",
    "y_pred = model.predict(X_test)\n",
    "y_pred_class = np.argmax(y_pred, axis=1)\n",
    "\n",
    "# 성능 평가\n",
    "print(classification_report(y_test, y_pred_class))\n",
    "print(confusion_matrix(y_test, y_pred_class))\n",
    "\n",
    "# 혼동 행렬 시각화\n",
    "disp = ConfusionMatrixDisplay(confusion_matrix=confusion_matrix(y_test, y_pred_class), display_labels=['normal', 'type1', 'type2', 'type3'])\n",
    "disp.plot()\n",
    "plt.show()"
   ]
  },
  {
   "cell_type": "code",
   "execution_count": 32,
   "metadata": {
    "scrolled": true
   },
   "outputs": [
    {
     "name": "stdout",
     "output_type": "stream",
     "text": [
      "Accuracy: 0.4837\n",
      "F1 Score: 0.4880\n"
     ]
    }
   ],
   "source": [
    "# F1 Score 및 Accuracy 계산\n",
    "accuracy = accuracy_score(y_test, y_pred_class)\n",
    "f1 = f1_score(y_test, y_pred_class, average='weighted')\n",
    "\n",
    "print(f'Accuracy: {accuracy:.4f}')\n",
    "print(f'F1 Score: {f1:.4f}')\n",
    "\n",
    "DNN_accuracy = accuracy"
   ]
  },
  {
   "cell_type": "markdown",
   "metadata": {
    "id": "BYq8JLs3-phY"
   },
   "source": [
    "### 2-5. CNN 모델링\n"
   ]
  },
  {
   "cell_type": "markdown",
   "metadata": {
    "id": "BYq8JLs3-phY"
   },
   "source": [
    "**CNN**\n",
    "- 합성곱 신경망(Convolutional Neural Network, CNN)은 이미지 처리에 주로 사용되는 딥러닝 모델로, 이미지의 패턴과 특징을 자동으로 추출하여 분류 및 인식을 수행합니다.\n",
    "- CNN은 이미지 분류, 객체 인식, 얼굴 인식 등 다양한 컴퓨터 비전 작업에서 뛰어난 성능을 보입니다.<br>\n",
    "- CNN의 주요 구성 요소\n",
    "  1. 합성곱 층 (Convolutional Layer): 입력 이미지에 여러 개의 필터를 적용하여 특징 맵을 생성합니다.\n",
    "  2. 풀링 층 (Pooling Layer): 특징 맵의 크기를 줄여 계산량을 감소시키고, 중요한 특징을 추출합니다.\n",
    "  3. 완전 연결 층 (Fully Connected Layer): 추출된 특징을 기반으로 최종 출력을 생성합니다.<br>\n",
    "\n",
    "    |<b>CNN의 기본 구조</b> |\n",
    "    | :--: |\n",
    "    | ![](https://media.licdn.com/dms/image/D5612AQGOui8XZUZJSA/article-cover_image-shrink_600_2000/0/1680532048475?e=1722470400&v=beta&t=0wvlOsASQ4GVANk_DcYNZC4XEeHV4X9hf0JhtCpEiNQ)|\n",
    "    |출처: https://www.linkedin.com/pulse/what-convolutional-neural-network-cnn-deep-learning-nafiz-shahriar/|\n",
    "\n",
    "**1-D CNN**\n",
    "- 1-D CNN (1차원 합성곱 신경망)은 시계열 데이터, 신호 처리, 텍스트 데이터 등 1차원 데이터를 처리하는 데 적합한 모델입니다.\n",
    "- 2차원 이미지를 처리하는 일반적인 CNN과 달리, 1-D CNN은 1차원 데이터의 패턴을 학습하고 특징을 추출합니다.\n",
    " \n",
    "    |<b>1-D CNN의 기본 구조</b> |\n",
    "    | :--: |\n",
    "    | ![](https://miro.medium.com/v2/resize:fit:1400/1*iJyzEak-RGfpcBC9v-8oAg.png)|\n",
    "    |출처: https://www.google.com/url?sa=i&url=https%3A%2F%2Ftowardsdatascience.com%2Fhow-to-use-convolutional-neural-networks-for-time-series-classification-56b1b0a07a57&psig=AOvVaw1HHYhpGxsMj5Gws5uQbKr9&ust=1717153551480000&source=images&cd=vfe&opi=89978449&ved=0CBQQjhxqFwoTCPDSvq2etYYDFQAAAAAdAAAAABAE|"
   ]
  },
  {
   "cell_type": "code",
   "execution_count": 33,
   "metadata": {},
   "outputs": [
    {
     "name": "stderr",
     "output_type": "stream",
     "text": [
      "C:\\Users\\Han\\Miniconda3\\envs\\hyundai_equip_6\\lib\\site-packages\\keras\\src\\layers\\convolutional\\base_conv.py:107: UserWarning: Do not pass an `input_shape`/`input_dim` argument to a layer. When using Sequential models, prefer using an `Input(shape)` object as the first layer in the model instead.\n",
      "  super().__init__(activity_regularizer=activity_regularizer, **kwargs)\n"
     ]
    }
   ],
   "source": [
    "from tensorflow.keras.models import Sequential\n",
    "from tensorflow.keras.layers import Conv1D, GlobalMaxPooling1D, Flatten, Dense, Dropout\n",
    "\n",
    "# 1D-CNN 모델 정의\n",
    "model = Sequential()\n",
    "model.add(Conv1D(filters=64, kernel_size=2, activation='relu', input_shape=(TIME_STEPS, X_train.shape[2])))\n",
    "model.add(GlobalMaxPooling1D())\n",
    "model.add(Dense(100, activation='relu'))\n",
    "model.add(Dense(4, activation='softmax'))\n",
    "\n",
    "model.compile(optimizer='adam', loss='sparse_categorical_crossentropy', metrics=['accuracy'])"
   ]
  },
  {
   "cell_type": "markdown",
   "metadata": {},
   "source": [
    "#### 모델 학습"
   ]
  },
  {
   "cell_type": "code",
   "execution_count": 34,
   "metadata": {
    "scrolled": true
   },
   "outputs": [
    {
     "name": "stdout",
     "output_type": "stream",
     "text": [
      "Epoch 1/20\n",
      "\u001b[1m5/5\u001b[0m \u001b[32m━━━━━━━━━━━━━━━━━━━━\u001b[0m\u001b[37m\u001b[0m \u001b[1m5s\u001b[0m 837ms/step - accuracy: 0.2499 - loss: 1.4019 - val_accuracy: 0.4980 - val_loss: 1.3731\n",
      "Epoch 2/20\n",
      "\u001b[1m5/5\u001b[0m \u001b[32m━━━━━━━━━━━━━━━━━━━━\u001b[0m\u001b[37m\u001b[0m \u001b[1m4s\u001b[0m 800ms/step - accuracy: 0.3194 - loss: 1.3701 - val_accuracy: 0.2500 - val_loss: 1.3537\n",
      "Epoch 3/20\n",
      "\u001b[1m5/5\u001b[0m \u001b[32m━━━━━━━━━━━━━━━━━━━━\u001b[0m\u001b[37m\u001b[0m \u001b[1m4s\u001b[0m 799ms/step - accuracy: 0.2514 - loss: 1.3526 - val_accuracy: 0.2500 - val_loss: 1.3356\n",
      "Epoch 4/20\n",
      "\u001b[1m5/5\u001b[0m \u001b[32m━━━━━━━━━━━━━━━━━━━━\u001b[0m\u001b[37m\u001b[0m \u001b[1m4s\u001b[0m 792ms/step - accuracy: 0.2493 - loss: 1.3351 - val_accuracy: 0.2500 - val_loss: 1.3145\n",
      "Epoch 5/20\n",
      "\u001b[1m5/5\u001b[0m \u001b[32m━━━━━━━━━━━━━━━━━━━━\u001b[0m\u001b[37m\u001b[0m \u001b[1m4s\u001b[0m 786ms/step - accuracy: 0.2518 - loss: 1.3137 - val_accuracy: 0.2620 - val_loss: 1.2898\n",
      "Epoch 6/20\n",
      "\u001b[1m5/5\u001b[0m \u001b[32m━━━━━━━━━━━━━━━━━━━━\u001b[0m\u001b[37m\u001b[0m \u001b[1m4s\u001b[0m 802ms/step - accuracy: 0.3958 - loss: 1.2909 - val_accuracy: 0.4740 - val_loss: 1.2637\n",
      "Epoch 7/20\n",
      "\u001b[1m5/5\u001b[0m \u001b[32m━━━━━━━━━━━━━━━━━━━━\u001b[0m\u001b[37m\u001b[0m \u001b[1m4s\u001b[0m 785ms/step - accuracy: 0.5387 - loss: 1.2637 - val_accuracy: 0.4155 - val_loss: 1.2320\n",
      "Epoch 8/20\n",
      "\u001b[1m5/5\u001b[0m \u001b[32m━━━━━━━━━━━━━━━━━━━━\u001b[0m\u001b[37m\u001b[0m \u001b[1m4s\u001b[0m 817ms/step - accuracy: 0.4889 - loss: 1.2333 - val_accuracy: 0.5000 - val_loss: 1.1942\n",
      "Epoch 9/20\n",
      "\u001b[1m5/5\u001b[0m \u001b[32m━━━━━━━━━━━━━━━━━━━━\u001b[0m\u001b[37m\u001b[0m \u001b[1m4s\u001b[0m 826ms/step - accuracy: 0.5093 - loss: 1.1955 - val_accuracy: 0.5007 - val_loss: 1.1510\n",
      "Epoch 10/20\n",
      "\u001b[1m5/5\u001b[0m \u001b[32m━━━━━━━━━━━━━━━━━━━━\u001b[0m\u001b[37m\u001b[0m \u001b[1m4s\u001b[0m 863ms/step - accuracy: 0.5200 - loss: 1.1527 - val_accuracy: 0.5120 - val_loss: 1.1021\n",
      "Epoch 11/20\n",
      "\u001b[1m5/5\u001b[0m \u001b[32m━━━━━━━━━━━━━━━━━━━━\u001b[0m\u001b[37m\u001b[0m \u001b[1m4s\u001b[0m 812ms/step - accuracy: 0.5345 - loss: 1.1049 - val_accuracy: 0.5078 - val_loss: 1.0477\n",
      "Epoch 12/20\n",
      "\u001b[1m5/5\u001b[0m \u001b[32m━━━━━━━━━━━━━━━━━━━━\u001b[0m\u001b[37m\u001b[0m \u001b[1m4s\u001b[0m 804ms/step - accuracy: 0.5290 - loss: 1.0512 - val_accuracy: 0.5008 - val_loss: 0.9918\n",
      "Epoch 13/20\n",
      "\u001b[1m5/5\u001b[0m \u001b[32m━━━━━━━━━━━━━━━━━━━━\u001b[0m\u001b[37m\u001b[0m \u001b[1m4s\u001b[0m 799ms/step - accuracy: 0.5307 - loss: 0.9964 - val_accuracy: 0.5232 - val_loss: 0.9344\n",
      "Epoch 14/20\n",
      "\u001b[1m5/5\u001b[0m \u001b[32m━━━━━━━━━━━━━━━━━━━━\u001b[0m\u001b[37m\u001b[0m \u001b[1m4s\u001b[0m 831ms/step - accuracy: 0.5942 - loss: 0.9398 - val_accuracy: 0.5505 - val_loss: 0.8801\n",
      "Epoch 15/20\n",
      "\u001b[1m5/5\u001b[0m \u001b[32m━━━━━━━━━━━━━━━━━━━━\u001b[0m\u001b[37m\u001b[0m \u001b[1m4s\u001b[0m 804ms/step - accuracy: 0.6172 - loss: 0.8884 - val_accuracy: 0.5757 - val_loss: 0.8320\n",
      "Epoch 16/20\n",
      "\u001b[1m5/5\u001b[0m \u001b[32m━━━━━━━━━━━━━━━━━━━━\u001b[0m\u001b[37m\u001b[0m \u001b[1m4s\u001b[0m 814ms/step - accuracy: 0.6235 - loss: 0.8411 - val_accuracy: 0.6027 - val_loss: 0.7905\n",
      "Epoch 17/20\n",
      "\u001b[1m5/5\u001b[0m \u001b[32m━━━━━━━━━━━━━━━━━━━━\u001b[0m\u001b[37m\u001b[0m \u001b[1m4s\u001b[0m 832ms/step - accuracy: 0.6135 - loss: 0.8015 - val_accuracy: 0.6725 - val_loss: 0.7554\n",
      "Epoch 18/20\n",
      "\u001b[1m5/5\u001b[0m \u001b[32m━━━━━━━━━━━━━━━━━━━━\u001b[0m\u001b[37m\u001b[0m \u001b[1m4s\u001b[0m 821ms/step - accuracy: 0.6336 - loss: 0.7678 - val_accuracy: 0.6775 - val_loss: 0.7267\n",
      "Epoch 19/20\n",
      "\u001b[1m5/5\u001b[0m \u001b[32m━━━━━━━━━━━━━━━━━━━━\u001b[0m\u001b[37m\u001b[0m \u001b[1m4s\u001b[0m 823ms/step - accuracy: 0.6451 - loss: 0.7396 - val_accuracy: 0.6747 - val_loss: 0.7041\n",
      "Epoch 20/20\n",
      "\u001b[1m5/5\u001b[0m \u001b[32m━━━━━━━━━━━━━━━━━━━━\u001b[0m\u001b[37m\u001b[0m \u001b[1m4s\u001b[0m 822ms/step - accuracy: 0.6410 - loss: 0.7174 - val_accuracy: 0.6777 - val_loss: 0.6848\n"
     ]
    }
   ],
   "source": [
    "# 모델 훈련\n",
    "history = model.fit(X_train, y_train, epochs=epochs, batch_size=batch_size, validation_data=(X_val, y_val))"
   ]
  },
  {
   "cell_type": "markdown",
   "metadata": {},
   "source": [
    "#### 손실 그래프 시각화"
   ]
  },
  {
   "cell_type": "code",
   "execution_count": 35,
   "metadata": {},
   "outputs": [
    {
     "data": {
      "image/png": "[encoded data removed]",
      "text/plain": [
       "<Figure size 640x480 with 1 Axes>"
      ]
     },
     "metadata": {},
     "output_type": "display_data"
    }
   ],
   "source": [
    "# 손실 그래프 시각화\n",
    "plt.figure()\n",
    "plt.plot(history.history['loss'], label='Training Loss')\n",
    "plt.plot(history.history['val_loss'], label='Validation Loss')\n",
    "plt.legend()\n",
    "plt.show()"
   ]
  },
  {
   "cell_type": "markdown",
   "metadata": {
    "id": "BYq8JLs3-phY"
   },
   "source": [
    "### 모델 평가\n"
   ]
  },
  {
   "cell_type": "code",
   "execution_count": 36,
   "metadata": {
    "scrolled": true
   },
   "outputs": [
    {
     "name": "stdout",
     "output_type": "stream",
     "text": [
      "\u001b[1m188/188\u001b[0m \u001b[32m━━━━━━━━━━━━━━━━━━━━\u001b[0m\u001b[37m\u001b[0m \u001b[1m0s\u001b[0m 1ms/step\n",
      "              precision    recall  f1-score   support\n",
      "\n",
      "           0       0.00      0.00      0.00      1500\n",
      "           1       1.00      0.68      0.81      1500\n",
      "           2       0.50      1.00      0.67      1500\n",
      "           3       0.76      1.00      0.86      1500\n",
      "\n",
      "    accuracy                           0.67      6000\n",
      "   macro avg       0.56      0.67      0.58      6000\n",
      "weighted avg       0.56      0.67      0.58      6000\n",
      "\n",
      "[[   0    0 1500    0]\n",
      " [   0 1018    0  482]\n",
      " [   0    0 1500    0]\n",
      " [   0    0    0 1500]]\n"
     ]
    },
    {
     "name": "stderr",
     "output_type": "stream",
     "text": [
      "C:\\Users\\Han\\Miniconda3\\envs\\hyundai_equip_6\\lib\\site-packages\\sklearn\\metrics\\_classification.py:1517: UndefinedMetricWarning: Precision is ill-defined and being set to 0.0 in labels with no predicted samples. Use `zero_division` parameter to control this behavior.\n",
      "  _warn_prf(average, modifier, f\"{metric.capitalize()} is\", len(result))\n",
      "C:\\Users\\Han\\Miniconda3\\envs\\hyundai_equip_6\\lib\\site-packages\\sklearn\\metrics\\_classification.py:1517: UndefinedMetricWarning: Precision is ill-defined and being set to 0.0 in labels with no predicted samples. Use `zero_division` parameter to control this behavior.\n",
      "  _warn_prf(average, modifier, f\"{metric.capitalize()} is\", len(result))\n",
      "C:\\Users\\Han\\Miniconda3\\envs\\hyundai_equip_6\\lib\\site-packages\\sklearn\\metrics\\_classification.py:1517: UndefinedMetricWarning: Precision is ill-defined and being set to 0.0 in labels with no predicted samples. Use `zero_division` parameter to control this behavior.\n",
      "  _warn_prf(average, modifier, f\"{metric.capitalize()} is\", len(result))\n"
     ]
    },
    {
     "data": {
      "image/png": "[encoded data removed]",
      "text/plain": [
       "<Figure size 640x480 with 2 Axes>"
      ]
     },
     "metadata": {},
     "output_type": "display_data"
    }
   ],
   "source": [
    "# 예측값 계산\n",
    "y_pred = model.predict(X_test)\n",
    "y_pred_class = np.argmax(y_pred, axis=1)\n",
    "\n",
    "# 성능 평가\n",
    "print(classification_report(y_test, y_pred_class))\n",
    "print(confusion_matrix(y_test, y_pred_class))\n",
    "\n",
    "# 혼동 행렬 시각화\n",
    "disp = ConfusionMatrixDisplay(confusion_matrix=confusion_matrix(y_test, y_pred_class), display_labels=['normal', 'type1', 'type2', 'type3'])\n",
    "disp.plot()\n",
    "plt.show()"
   ]
  },
  {
   "cell_type": "code",
   "execution_count": 37,
   "metadata": {
    "scrolled": true
   },
   "outputs": [
    {
     "name": "stdout",
     "output_type": "stream",
     "text": [
      "Accuracy: 0.6697\n",
      "F1 Score: 0.5842\n"
     ]
    }
   ],
   "source": [
    "# F1 Score 및 Accuracy 계산\n",
    "accuracy = accuracy_score(y_test, y_pred_class)\n",
    "f1 = f1_score(y_test, y_pred_class, average='weighted')\n",
    "\n",
    "print(f'Accuracy: {accuracy:.4f}')\n",
    "print(f'F1 Score: {f1:.4f}')\n",
    "\n",
    "CNN_accuray = accuracy"
   ]
  },
  {
   "cell_type": "markdown",
   "metadata": {
    "id": "BYq8JLs3-phY"
   },
   "source": [
    "### 2-6. RNN 모델링\n"
   ]
  },
  {
   "cell_type": "markdown",
   "metadata": {},
   "source": [
    "**LSTM**\n",
    "- LSTM은 RNN(Recurrent Neural Network, 이하 RNN)의 장기의존성 문제를 극복하기 위하여 고안된 특별한 종류의 RNN으로, 이는 일반 RNN 알고리즘에 비해 아주 뛰어나고 다양한 분야에서 활용이 가능합니다.\n",
    "- RNN은 순환 구조를 이루어 음성, 문자 등 순차적으로 등장하는 데이터(Sequential data)처리에 적합한 딥러닝 모델으로 여러 가지 형태로 활용됩니다.<br>\n",
    "\n",
    "    |<b>RNN의 여러 가지 활용 형태</b> |\n",
    "    | :--: |\n",
    "    | ![](https://github.com/YoungsukHan/Hyundai_equip/assets/44924554/ed07e978-d365-4b4c-9734-8fa8e2e6f014)|\n",
    "\n",
    "    |<b>RNN의 기본 구조</b> |\n",
    "    | :--: |\n",
    "    | ![](https://github.com/YoungsukHan/Hyundai_equip/assets/44924554/8d7436fb-7bd0-48fb-93d3-1cd9525b4262)|\n",
    "  \n",
    "- RNN에는 앞서 언급하였던 장기 의존성(Long-Term Dependency) 문제가 존재하는데, 이는 관련 정보와 그 정보를 사용하는 거리가 멀 경우 두 정보의 연결이 어려워집니다.\n",
    "  \n",
    "    |<b>RNN의 장기 의존성 문제</b> |\n",
    "    | :--: |\n",
    "    | ![](https://github.com/YoungsukHan/Hyundai_equip/assets/44924554/78b74247-1b6b-4090-86ec-9693a2035524)|\n",
    "\n",
    "- LSTM은 RNN의 은닉층(hidden state)에 셀 스테이트(cell-state)를 추가한 구조입니다.\n",
    "\n",
    "    |<b>RNN과 LSTM의 기본구조</b> |\n",
    "    | :--: |\n",
    "    | ![](https://github.com/YoungsukHan/Hyundai_equip/assets/44924554/dc4da1bd-6ea7-40a1-9bec-8e5aef0cb20b)|\n",
    "  \n",
    "- LSTM은 4단계로 학습을 진행합니다.<br>\n",
    "  ① 셀 스테이트에서 어떤 정보를 버릴지 선택<br>\n",
    "  ② 새로운 정보가 셀 스테이트에 저장될지를 결정<br>\n",
    "  ③ 셀 스테이트 업데이트<br>\n",
    "  ④ 출력 값 결정<br>"
   ]
  },
  {
   "cell_type": "code",
   "execution_count": 44,
   "metadata": {},
   "outputs": [
    {
     "name": "stderr",
     "output_type": "stream",
     "text": [
      "C:\\Users\\Han\\Miniconda3\\envs\\hyundai_equip_6\\lib\\site-packages\\keras\\src\\layers\\rnn\\rnn.py:204: UserWarning: Do not pass an `input_shape`/`input_dim` argument to a layer. When using Sequential models, prefer using an `Input(shape)` object as the first layer in the model instead.\n",
      "  super().__init__(**kwargs)\n"
     ]
    }
   ],
   "source": [
    "from tensorflow.keras.models import Sequential\n",
    "from tensorflow.keras.layers import LSTM, Dense, Dropout\n",
    "\n",
    "batch_size = 1000\n",
    "epochs = 20\n",
    "\n",
    "# LSTM 모델 정의\n",
    "model = Sequential()\n",
    "model.add(LSTM(64, activation='tanh', input_shape=(TIME_STEPS, X_train.shape[2])))\n",
    "model.add(Dense(4, activation='softmax'))\n",
    "\n",
    "model.compile(optimizer='adam', loss='sparse_categorical_crossentropy', metrics=['accuracy'])"
   ]
  },
  {
   "cell_type": "code",
   "execution_count": 45,
   "metadata": {
    "scrolled": true
   },
   "outputs": [
    {
     "name": "stdout",
     "output_type": "stream",
     "text": [
      "Epoch 1/20\n",
      "\u001b[1m22/22\u001b[0m \u001b[32m━━━━━━━━━━━━━━━━━━━━\u001b[0m\u001b[37m\u001b[0m \u001b[1m19s\u001b[0m 847ms/step - accuracy: 0.2626 - loss: 1.3875 - val_accuracy: 0.2760 - val_loss: 1.3831\n",
      "Epoch 2/20\n",
      "\u001b[1m22/22\u001b[0m \u001b[32m━━━━━━━━━━━━━━━━━━━━\u001b[0m\u001b[37m\u001b[0m \u001b[1m18s\u001b[0m 829ms/step - accuracy: 0.3188 - loss: 1.3758 - val_accuracy: 0.2500 - val_loss: 1.4250\n",
      "Epoch 3/20\n",
      "\u001b[1m22/22\u001b[0m \u001b[32m━━━━━━━━━━━━━━━━━━━━\u001b[0m\u001b[37m\u001b[0m \u001b[1m19s\u001b[0m 852ms/step - accuracy: 0.3200 - loss: 1.3614 - val_accuracy: 0.5588 - val_loss: 1.2676\n",
      "Epoch 4/20\n",
      "\u001b[1m22/22\u001b[0m \u001b[32m━━━━━━━━━━━━━━━━━━━━\u001b[0m\u001b[37m\u001b[0m \u001b[1m19s\u001b[0m 874ms/step - accuracy: 0.4007 - loss: 1.2258 - val_accuracy: 0.2500 - val_loss: 1.3659\n",
      "Epoch 5/20\n",
      "\u001b[1m22/22\u001b[0m \u001b[32m━━━━━━━━━━━━━━━━━━━━\u001b[0m\u001b[37m\u001b[0m \u001b[1m19s\u001b[0m 871ms/step - accuracy: 0.2494 - loss: 1.3986 - val_accuracy: 0.2560 - val_loss: 1.2852\n",
      "Epoch 6/20\n",
      "\u001b[1m22/22\u001b[0m \u001b[32m━━━━━━━━━━━━━━━━━━━━\u001b[0m\u001b[37m\u001b[0m \u001b[1m19s\u001b[0m 886ms/step - accuracy: 0.3858 - loss: 1.2784 - val_accuracy: 0.5110 - val_loss: 1.2183\n",
      "Epoch 7/20\n",
      "\u001b[1m22/22\u001b[0m \u001b[32m━━━━━━━━━━━━━━━━━━━━\u001b[0m\u001b[37m\u001b[0m \u001b[1m20s\u001b[0m 897ms/step - accuracy: 0.5069 - loss: 1.1842 - val_accuracy: 0.5000 - val_loss: 0.8977\n",
      "Epoch 8/20\n",
      "\u001b[1m22/22\u001b[0m \u001b[32m━━━━━━━━━━━━━━━━━━━━\u001b[0m\u001b[37m\u001b[0m \u001b[1m20s\u001b[0m 889ms/step - accuracy: 0.4933 - loss: 0.8369 - val_accuracy: 0.5033 - val_loss: 0.7728\n",
      "Epoch 9/20\n",
      "\u001b[1m22/22\u001b[0m \u001b[32m━━━━━━━━━━━━━━━━━━━━\u001b[0m\u001b[37m\u001b[0m \u001b[1m20s\u001b[0m 894ms/step - accuracy: 0.4957 - loss: 0.7512 - val_accuracy: 0.5107 - val_loss: 0.7183\n",
      "Epoch 10/20\n",
      "\u001b[1m22/22\u001b[0m \u001b[32m━━━━━━━━━━━━━━━━━━━━\u001b[0m\u001b[37m\u001b[0m \u001b[1m21s\u001b[0m 953ms/step - accuracy: 0.4967 - loss: 0.7164 - val_accuracy: 0.4708 - val_loss: 0.7016\n",
      "Epoch 11/20\n",
      "\u001b[1m22/22\u001b[0m \u001b[32m━━━━━━━━━━━━━━━━━━━━\u001b[0m\u001b[37m\u001b[0m \u001b[1m21s\u001b[0m 973ms/step - accuracy: 0.4975 - loss: 0.7043 - val_accuracy: 0.5003 - val_loss: 0.6985\n",
      "Epoch 12/20\n",
      "\u001b[1m22/22\u001b[0m \u001b[32m━━━━━━━━━━━━━━━━━━━━\u001b[0m\u001b[37m\u001b[0m \u001b[1m22s\u001b[0m 989ms/step - accuracy: 0.5106 - loss: 0.7020 - val_accuracy: 0.5303 - val_loss: 0.6978\n",
      "Epoch 13/20\n",
      "\u001b[1m22/22\u001b[0m \u001b[32m━━━━━━━━━━━━━━━━━━━━\u001b[0m\u001b[37m\u001b[0m \u001b[1m22s\u001b[0m 979ms/step - accuracy: 0.5035 - loss: 0.7010 - val_accuracy: 0.5340 - val_loss: 0.6960\n",
      "Epoch 14/20\n",
      "\u001b[1m22/22\u001b[0m \u001b[32m━━━━━━━━━━━━━━━━━━━━\u001b[0m\u001b[37m\u001b[0m \u001b[1m22s\u001b[0m 1s/step - accuracy: 0.5114 - loss: 0.6955 - val_accuracy: 0.4707 - val_loss: 0.6956\n",
      "Epoch 15/20\n",
      "\u001b[1m22/22\u001b[0m \u001b[32m━━━━━━━━━━━━━━━━━━━━\u001b[0m\u001b[37m\u001b[0m \u001b[1m23s\u001b[0m 1s/step - accuracy: 0.5185 - loss: 0.7055 - val_accuracy: 0.5920 - val_loss: 0.6800\n",
      "Epoch 16/20\n",
      "\u001b[1m22/22\u001b[0m \u001b[32m━━━━━━━━━━━━━━━━━━━━\u001b[0m\u001b[37m\u001b[0m \u001b[1m23s\u001b[0m 1s/step - accuracy: 0.5126 - loss: 0.6948 - val_accuracy: 0.5237 - val_loss: 0.6940\n",
      "Epoch 17/20\n",
      "\u001b[1m22/22\u001b[0m \u001b[32m━━━━━━━━━━━━━━━━━━━━\u001b[0m\u001b[37m\u001b[0m \u001b[1m23s\u001b[0m 1s/step - accuracy: 0.5274 - loss: 0.6933 - val_accuracy: 0.5275 - val_loss: 0.6927\n",
      "Epoch 18/20\n",
      "\u001b[1m22/22\u001b[0m \u001b[32m━━━━━━━━━━━━━━━━━━━━\u001b[0m\u001b[37m\u001b[0m \u001b[1m23s\u001b[0m 1s/step - accuracy: 0.5335 - loss: 0.6932 - val_accuracy: 0.5497 - val_loss: 0.6915\n",
      "Epoch 19/20\n",
      "\u001b[1m22/22\u001b[0m \u001b[32m━━━━━━━━━━━━━━━━━━━━\u001b[0m\u001b[37m\u001b[0m \u001b[1m23s\u001b[0m 1s/step - accuracy: 0.5510 - loss: 0.6950 - val_accuracy: 0.5735 - val_loss: 0.6898\n",
      "Epoch 20/20\n",
      "\u001b[1m22/22\u001b[0m \u001b[32m━━━━━━━━━━━━━━━━━━━━\u001b[0m\u001b[37m\u001b[0m \u001b[1m23s\u001b[0m 1s/step - accuracy: 0.5734 - loss: 0.6923 - val_accuracy: 0.6375 - val_loss: 0.6812\n"
     ]
    }
   ],
   "source": [
    "# 모델 훈련\n",
    "history = model.fit(X_train, y_train, epochs=epochs, batch_size=batch_size, validation_data=(X_val, y_val))"
   ]
  },
  {
   "cell_type": "markdown",
   "metadata": {},
   "source": [
    "#### 손실 그래프 시각화"
   ]
  },
  {
   "cell_type": "code",
   "execution_count": 46,
   "metadata": {},
   "outputs": [
    {
     "data": {
      "image/png": "[encoded data removed]",
      "text/plain": [
       "<Figure size 640x480 with 1 Axes>"
      ]
     },
     "metadata": {},
     "output_type": "display_data"
    }
   ],
   "source": [
    "# 손실 그래프 시각화\n",
    "plt.figure()\n",
    "plt.plot(history.history['loss'], label='Training Loss')\n",
    "plt.plot(history.history['val_loss'], label='Validation Loss')\n",
    "plt.legend()\n",
    "plt.show()"
   ]
  },
  {
   "cell_type": "markdown",
   "metadata": {
    "id": "BYq8JLs3-phY"
   },
   "source": [
    "### 모델 평가\n"
   ]
  },
  {
   "cell_type": "code",
   "execution_count": 47,
   "metadata": {
    "scrolled": true
   },
   "outputs": [
    {
     "name": "stdout",
     "output_type": "stream",
     "text": [
      "\u001b[1m188/188\u001b[0m \u001b[32m━━━━━━━━━━━━━━━━━━━━\u001b[0m\u001b[37m\u001b[0m \u001b[1m7s\u001b[0m 34ms/step\n",
      "              precision    recall  f1-score   support\n",
      "\n",
      "           0       0.55      0.61      0.58      1500\n",
      "           1       0.75      0.90      0.82      1500\n",
      "           2       0.56      0.50      0.53      1500\n",
      "           3       0.88      0.70      0.78      1500\n",
      "\n",
      "    accuracy                           0.68      6000\n",
      "   macro avg       0.68      0.68      0.68      6000\n",
      "weighted avg       0.68      0.68      0.68      6000\n",
      "\n",
      "[[ 915    0  585    0]\n",
      " [   3 1344   12  141]\n",
      " [ 749    0  751    0]\n",
      " [   0  444    0 1056]]\n"
     ]
    },
    {
     "data": {
      "image/png": "[encoded data removed]",
      "text/plain": [
       "<Figure size 640x480 with 2 Axes>"
      ]
     },
     "metadata": {},
     "output_type": "display_data"
    }
   ],
   "source": [
    "# 예측값 계산\n",
    "y_pred = model.predict(X_test)\n",
    "y_pred_class = np.argmax(y_pred, axis=1)\n",
    "\n",
    "# 성능 평가\n",
    "print(classification_report(y_test, y_pred_class))\n",
    "print(confusion_matrix(y_test, y_pred_class))\n",
    "\n",
    "# 혼동 행렬 시각화\n",
    "disp = ConfusionMatrixDisplay(confusion_matrix=confusion_matrix(y_test, y_pred_class), display_labels=['normal', 'type1', 'type2', 'type3'])\n",
    "disp.plot()\n",
    "plt.show()"
   ]
  },
  {
   "cell_type": "code",
   "execution_count": 48,
   "metadata": {},
   "outputs": [
    {
     "name": "stdout",
     "output_type": "stream",
     "text": [
      "Accuracy: 0.6777\n",
      "F1 Score: 0.6765\n"
     ]
    }
   ],
   "source": [
    "# F1 Score 및 Accuracy 계산\n",
    "accuracy = accuracy_score(y_test, y_pred_class)\n",
    "f1 = f1_score(y_test, y_pred_class, average='weighted')\n",
    "\n",
    "print(f'Accuracy: {accuracy:.4f}')\n",
    "print(f'F1 Score: {f1:.4f}')\n",
    "\n",
    "LSTM_accuray = accuracy"
   ]
  },
  {
   "cell_type": "markdown",
   "metadata": {
    "id": "BYq8JLs3-phY"
   },
   "source": [
    "### 2-7. 모델별 성능 비교\n"
   ]
  },
  {
   "cell_type": "code",
   "execution_count": 131,
   "metadata": {},
   "outputs": [
    {
     "name": "stdout",
     "output_type": "stream",
     "text": [
      "DNN Accuracy: 0.7713\n",
      "CNN Accuracy: 0.6977\n",
      "LSTM Accuracy: 0.7297\n"
     ]
    },
    {
     "data": {
      "image/png": "[encoded data removed]",
      "text/plain": [
       "<Figure size 500x300 with 1 Axes>"
      ]
     },
     "metadata": {},
     "output_type": "display_data"
    }
   ],
   "source": [
    "# 모델별 성능 비교 출력\n",
    "print(f'DNN Accuracy: {DNN_accuracy:.4f}')\n",
    "print(f'CNN Accuracy: {CNN_accuray:.4f}')\n",
    "print(f'LSTM Accuracy: {LSTM_accuray:.4f}')\n",
    "\n",
    "# 성능 비교 시각화\n",
    "models = ['DNN', 'CNN', 'LSTM']\n",
    "accuracies = [DNN_accuracy, CNN_accuray, LSTM_accuray]\n",
    "\n",
    "plt.figure(figsize=(5, 3))\n",
    "plt.bar(models, accuracies, color=['blue', 'green', 'red'])\n",
    "plt.title('Model Accuracy Comparison')\n",
    "plt.ylabel('Accuracy')\n",
    "plt.show()"
   ]
  },
  {
   "cell_type": "code",
   "execution_count": null,
   "metadata": {},
   "outputs": [],
   "source": []
  }
 ],
 "metadata": {
  "colab": {
   "provenance": [
    {
     "file_id": "https://github.com/jjyjung/ai/blob/gh-pages/torch_rotor_dignostics.ipynb",
     "timestamp": 1705200018481
    }
   ]
  },
  "kernelspec": {
   "display_name": "Python 3 (ipykernel)",
   "language": "python",
   "name": "python3"
  },
  "language_info": {
   "codemirror_mode": {
    "name": "ipython",
    "version": 3
   },
   "file_extension": ".py",
   "mimetype": "text/x-python",
   "name": "python",
   "nbconvert_exporter": "python",
   "pygments_lexer": "ipython3",
   "version": "3.10.12"
  }
 },
 "nbformat": 4,
 "nbformat_minor": 4
}
