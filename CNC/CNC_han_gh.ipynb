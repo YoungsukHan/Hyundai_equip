{
 "cells": [
  {
   "attachments": {},
   "cell_type": "markdown",
   "metadata": {},
   "source": [
    "<p align=\"center\">\n",
    "    <img src=\"https://github.com/YoungsukHan/Hyundai_equip/assets/44924554/076ffad6-abf4-431b-af15-10373ba06182\" align=\"right\">\n",
    "</p>"
   ]
  },
  {
   "attachments": {},
   "cell_type": "markdown",
   "metadata": {
    "id": "54IWUjHa9CqL"
   },
   "source": [
    "# ***CNC 머신 시계열 데이터 AI 실습***\n",
    "\n",
    "**제목:** CNC 머신 품질 예측을 위한 AI 실습  <br>\n",
    "**Description:** CNC 머신으로부터 수집한 데이터를 전처리하고, 딥러닝 모델을 사용하여 품질 예측을 수행합니다.\n",
    "\n",
    "본 자료는 정부에서 운영하는 아래의 KAMP(한국인공지능제조플랫폼)의 데이터 및 예제를 수정한 교육자료입니다.\n",
    "\n",
    "중소벤처기업부, Korea AI Manufacturing Platform(KAMP), CNC 머신 AI 데이터셋, KAIST(울산과학기술원, ㈜이피엠솔루션즈), 2020.12.14., www.kamp-ai.kr\n",
    "\n",
    "https://www.kamp-ai.kr/aidataDetail?AI_SEARCH=CNC+%EB%A8%B8%EC%8B%A0&page=1&DATASET_SEQ=3&EQUIP_SEL=&GUBUN_SEL=&FILE_TYPE_SEL=&WDATE_SEL="
   ]
  },
  {
   "cell_type": "markdown",
   "metadata": {
    "id": "I3fUfelNb8m2"
   },
   "source": [
    "※ 분석하기에 앞서 다음과 같은 가상환경이 구축되어있는지 확인해주세요. <br>\n",
    "Python 버전 : 3.10.12"
   ]
  },
  {
   "cell_type": "code",
   "execution_count": 1,
   "metadata": {
    "colab": {
     "base_uri": "https://localhost:8080/"
    },
    "executionInfo": {
     "elapsed": 321,
     "status": "ok",
     "timestamp": 1705226039138,
     "user": {
      "displayName": "‍정재윤(산업경영공학과)",
      "userId": "12900926733115983320"
     },
     "user_tz": -540
    },
    "id": "2OgXQHJMb8m7",
    "outputId": "207cebc1-e957-4acb-a65e-30493f1ab0d2"
   },
   "outputs": [
    {
     "name": "stdout",
     "output_type": "stream",
     "text": [
      "Python 3.10.12\n"
     ]
    }
   ],
   "source": [
    "!python --version"
   ]
  },
  {
   "attachments": {},
   "cell_type": "markdown",
   "metadata": {
    "id": "DynrnO0mb8m-"
   },
   "source": [
    "## 1. 분석 개요\n",
    "\n",
    "### 1.1 분석 배경\n",
    "\n",
    "**공정(설비) 개요:**\n",
    "- CNC(Computerized Numerical Control) 가공은 컴퓨터 프로그램을 이용하여 기계의 움직임을 제어하는 정밀 가공 공정입니다.\n",
    "- 주로 금속, 플라스틱, 목재 등 다양한 재료를 가공하는 데 사용되며, 복잡한 형상의 부품을 높은 정밀도로 제작할 수 있습니다.\n",
    "- 일반적인 CNC 기계에는 선반, 밀링 머신, 드릴링 머신 등이 포함됩니다.\n",
    "\n",
    "![image](https://github.com/YoungsukHan/Hyundai_equip/assets/44924554/2d412df5-461d-489d-8c2d-5779dd62ad2d)<br>\n",
    "<center>[용해공정 설비(사진)]</center> <br>\n",
    "\n",
    "**이슈사항(Pain Point):**\n",
    "- CNC 절삭공구는 마찰과 절삭력 변화로 마모되거나 파손되어 가공 정밀도가 떨어질 수 있습니다.\n",
    "- 공정 중 다양한 변수로 인해 품질이 변동되며, 제품 성형 후에야 불량 여부를 확인할 수 있어 일관된 품질 관리가 어렵습니다.\n",
    "\n",
    "### 1.2 분석 목표\n",
    "\n",
    "**분석 목표:**\n",
    "- CNC 설비와 네트워크 연결을 통해 실제 가공생산데이터를 수집하여 공구수명에 따른 가공불량 예측을 딥러닝 알고리즘을 활용하여 해결하고자합니다.\n",
    "\n",
    "**제조 데이터 분석 기대효과:**\n",
    "- 데이터 분석을 통해 설비 운영 조건에 따른 생산 품질을 예측하고, 불량률을 낮추기 위한 최적의 운영 조건을 도출합니다.\n",
    "\n",
    "### 1.3 제조데이터 소개\n",
    "\n",
    "**데이터 수집 방법:**\n",
    "- 제조 분야 : 자동차 부품\n",
    "- 제조 공정명 : 자동차 부품 CNC 가공 공정\n",
    "- 수집 장비 : 공장 내 CNC 가공 장비 Data, 조건 및 품질 Data \n",
    "- 수집 기간 : 5일\n",
    "- 수집 주기 : 1 sec\n",
    "\n",
    "**데이터 유형/구조:**<br>\n",
    " - 데이터 크기, 데이터 수량: 48개 컬럼, 32,048개의 관측치\n",
    " - 데이터 속성 정의 표:<br>\n",
    "![CNC_1](https://github.com/YoungsukHan/Hyundai_equip/assets/44924554/bb3f6ed9-1943-4895-b5a3-83e26187d1c0)<br>\n",
    " - 독립변수/종속변수 정의:<br>\n",
    " ![CNC_3](https://github.com/YoungsukHan/Hyundai_equip/assets/44924554/b9cd02c8-ddf0-426a-8031-4bed3a8a45f6)<br>\n",
    " ![CNC_4](https://github.com/YoungsukHan/Hyundai_equip/assets/44924554/97af43da-4c2a-49e8-9e99-baf32566a017)"
   ]
  },
  {
   "cell_type": "markdown",
   "metadata": {
    "id": "BYq8JLs3-phY"
   },
   "source": [
    "## 2. 분석 실습\n"
   ]
  },
  {
   "cell_type": "markdown",
   "metadata": {},
   "source": [
    "### 2-1. 라이브러리 / 데이터 불러오기"
   ]
  },
  {
   "cell_type": "markdown",
   "metadata": {},
   "source": [
    "#### 필요한 라이브러리 설치 및 불러오기"
   ]
  },
  {
   "cell_type": "code",
   "execution_count": 2,
   "metadata": {},
   "outputs": [
    {
     "name": "stdout",
     "output_type": "stream",
     "text": [
      "Requirement already satisfied: pip in c:\\users\\han\\miniconda3\\envs\\hyundai_equip_6\\lib\\site-packages (24.0)\n"
     ]
    }
   ],
   "source": [
    "!pip install --upgrade pip"
   ]
  },
  {
   "cell_type": "code",
   "execution_count": 3,
   "metadata": {},
   "outputs": [
    {
     "name": "stdout",
     "output_type": "stream",
     "text": [
      "Requirement already satisfied: tensorflow==2.16.1 in c:\\users\\han\\miniconda3\\envs\\hyundai_equip_6\\lib\\site-packages (2.16.1)\n",
      "Requirement already satisfied: pandas==2.2.2 in c:\\users\\han\\miniconda3\\envs\\hyundai_equip_6\\lib\\site-packages (2.2.2)\n",
      "Requirement already satisfied: numpy==1.26.4 in c:\\users\\han\\miniconda3\\envs\\hyundai_equip_6\\lib\\site-packages (1.26.4)\n",
      "Requirement already satisfied: matplotlib==3.9.0 in c:\\users\\han\\miniconda3\\envs\\hyundai_equip_6\\lib\\site-packages (3.9.0)\n",
      "Requirement already satisfied: scikit-learn==1.5.0 in c:\\users\\han\\miniconda3\\envs\\hyundai_equip_6\\lib\\site-packages (1.5.0)\n",
      "Requirement already satisfied: imbalanced-learn==0.9.0 in c:\\users\\han\\miniconda3\\envs\\hyundai_equip_6\\lib\\site-packages (0.9.0)\n",
      "Requirement already satisfied: tensorflow-intel==2.16.1 in c:\\users\\han\\miniconda3\\envs\\hyundai_equip_6\\lib\\site-packages (from tensorflow==2.16.1) (2.16.1)\n",
      "Requirement already satisfied: python-dateutil>=2.8.2 in c:\\users\\han\\miniconda3\\envs\\hyundai_equip_6\\lib\\site-packages (from pandas==2.2.2) (2.9.0.post0)\n",
      "Requirement already satisfied: pytz>=2020.1 in c:\\users\\han\\miniconda3\\envs\\hyundai_equip_6\\lib\\site-packages (from pandas==2.2.2) (2024.1)\n",
      "Requirement already satisfied: tzdata>=2022.7 in c:\\users\\han\\miniconda3\\envs\\hyundai_equip_6\\lib\\site-packages (from pandas==2.2.2) (2024.1)\n",
      "Requirement already satisfied: contourpy>=1.0.1 in c:\\users\\han\\miniconda3\\envs\\hyundai_equip_6\\lib\\site-packages (from matplotlib==3.9.0) (1.2.1)\n",
      "Requirement already satisfied: cycler>=0.10 in c:\\users\\han\\miniconda3\\envs\\hyundai_equip_6\\lib\\site-packages (from matplotlib==3.9.0) (0.12.1)\n",
      "Requirement already satisfied: fonttools>=4.22.0 in c:\\users\\han\\miniconda3\\envs\\hyundai_equip_6\\lib\\site-packages (from matplotlib==3.9.0) (4.52.1)\n",
      "Requirement already satisfied: kiwisolver>=1.3.1 in c:\\users\\han\\miniconda3\\envs\\hyundai_equip_6\\lib\\site-packages (from matplotlib==3.9.0) (1.4.5)\n",
      "Requirement already satisfied: packaging>=20.0 in c:\\users\\han\\miniconda3\\envs\\hyundai_equip_6\\lib\\site-packages (from matplotlib==3.9.0) (24.0)\n",
      "Requirement already satisfied: pillow>=8 in c:\\users\\han\\miniconda3\\envs\\hyundai_equip_6\\lib\\site-packages (from matplotlib==3.9.0) (10.3.0)\n",
      "Requirement already satisfied: pyparsing>=2.3.1 in c:\\users\\han\\miniconda3\\envs\\hyundai_equip_6\\lib\\site-packages (from matplotlib==3.9.0) (3.1.2)\n",
      "Requirement already satisfied: scipy>=1.6.0 in c:\\users\\han\\miniconda3\\envs\\hyundai_equip_6\\lib\\site-packages (from scikit-learn==1.5.0) (1.13.1)\n",
      "Requirement already satisfied: joblib>=1.2.0 in c:\\users\\han\\miniconda3\\envs\\hyundai_equip_6\\lib\\site-packages (from scikit-learn==1.5.0) (1.4.2)\n",
      "Requirement already satisfied: threadpoolctl>=3.1.0 in c:\\users\\han\\miniconda3\\envs\\hyundai_equip_6\\lib\\site-packages (from scikit-learn==1.5.0) (3.5.0)\n",
      "Requirement already satisfied: absl-py>=1.0.0 in c:\\users\\han\\miniconda3\\envs\\hyundai_equip_6\\lib\\site-packages (from tensorflow-intel==2.16.1->tensorflow==2.16.1) (2.1.0)\n",
      "Requirement already satisfied: astunparse>=1.6.0 in c:\\users\\han\\miniconda3\\envs\\hyundai_equip_6\\lib\\site-packages (from tensorflow-intel==2.16.1->tensorflow==2.16.1) (1.6.3)\n",
      "Requirement already satisfied: flatbuffers>=23.5.26 in c:\\users\\han\\miniconda3\\envs\\hyundai_equip_6\\lib\\site-packages (from tensorflow-intel==2.16.1->tensorflow==2.16.1) (24.3.25)\n",
      "Requirement already satisfied: gast!=0.5.0,!=0.5.1,!=0.5.2,>=0.2.1 in c:\\users\\han\\miniconda3\\envs\\hyundai_equip_6\\lib\\site-packages (from tensorflow-intel==2.16.1->tensorflow==2.16.1) (0.5.4)\n",
      "Requirement already satisfied: google-pasta>=0.1.1 in c:\\users\\han\\miniconda3\\envs\\hyundai_equip_6\\lib\\site-packages (from tensorflow-intel==2.16.1->tensorflow==2.16.1) (0.2.0)\n",
      "Requirement already satisfied: h5py>=3.10.0 in c:\\users\\han\\miniconda3\\envs\\hyundai_equip_6\\lib\\site-packages (from tensorflow-intel==2.16.1->tensorflow==2.16.1) (3.11.0)\n",
      "Requirement already satisfied: libclang>=13.0.0 in c:\\users\\han\\miniconda3\\envs\\hyundai_equip_6\\lib\\site-packages (from tensorflow-intel==2.16.1->tensorflow==2.16.1) (18.1.1)\n",
      "Requirement already satisfied: ml-dtypes~=0.3.1 in c:\\users\\han\\miniconda3\\envs\\hyundai_equip_6\\lib\\site-packages (from tensorflow-intel==2.16.1->tensorflow==2.16.1) (0.3.2)\n",
      "Requirement already satisfied: opt-einsum>=2.3.2 in c:\\users\\han\\miniconda3\\envs\\hyundai_equip_6\\lib\\site-packages (from tensorflow-intel==2.16.1->tensorflow==2.16.1) (3.3.0)\n",
      "Requirement already satisfied: protobuf!=4.21.0,!=4.21.1,!=4.21.2,!=4.21.3,!=4.21.4,!=4.21.5,<5.0.0dev,>=3.20.3 in c:\\users\\han\\miniconda3\\envs\\hyundai_equip_6\\lib\\site-packages (from tensorflow-intel==2.16.1->tensorflow==2.16.1) (4.25.3)\n",
      "Requirement already satisfied: requests<3,>=2.21.0 in c:\\users\\han\\miniconda3\\envs\\hyundai_equip_6\\lib\\site-packages (from tensorflow-intel==2.16.1->tensorflow==2.16.1) (2.32.2)\n",
      "Requirement already satisfied: setuptools in c:\\users\\han\\miniconda3\\envs\\hyundai_equip_6\\lib\\site-packages (from tensorflow-intel==2.16.1->tensorflow==2.16.1) (70.0.0)\n",
      "Requirement already satisfied: six>=1.12.0 in c:\\users\\han\\miniconda3\\envs\\hyundai_equip_6\\lib\\site-packages (from tensorflow-intel==2.16.1->tensorflow==2.16.1) (1.16.0)\n",
      "Requirement already satisfied: termcolor>=1.1.0 in c:\\users\\han\\miniconda3\\envs\\hyundai_equip_6\\lib\\site-packages (from tensorflow-intel==2.16.1->tensorflow==2.16.1) (2.4.0)\n",
      "Requirement already satisfied: typing-extensions>=3.6.6 in c:\\users\\han\\miniconda3\\envs\\hyundai_equip_6\\lib\\site-packages (from tensorflow-intel==2.16.1->tensorflow==2.16.1) (4.12.0)\n",
      "Requirement already satisfied: wrapt>=1.11.0 in c:\\users\\han\\miniconda3\\envs\\hyundai_equip_6\\lib\\site-packages (from tensorflow-intel==2.16.1->tensorflow==2.16.1) (1.16.0)\n",
      "Requirement already satisfied: grpcio<2.0,>=1.24.3 in c:\\users\\han\\miniconda3\\envs\\hyundai_equip_6\\lib\\site-packages (from tensorflow-intel==2.16.1->tensorflow==2.16.1) (1.64.0)\n",
      "Requirement already satisfied: tensorboard<2.17,>=2.16 in c:\\users\\han\\miniconda3\\envs\\hyundai_equip_6\\lib\\site-packages (from tensorflow-intel==2.16.1->tensorflow==2.16.1) (2.16.2)\n",
      "Requirement already satisfied: keras>=3.0.0 in c:\\users\\han\\miniconda3\\envs\\hyundai_equip_6\\lib\\site-packages (from tensorflow-intel==2.16.1->tensorflow==2.16.1) (3.3.3)\n",
      "Requirement already satisfied: tensorflow-io-gcs-filesystem>=0.23.1 in c:\\users\\han\\miniconda3\\envs\\hyundai_equip_6\\lib\\site-packages (from tensorflow-intel==2.16.1->tensorflow==2.16.1) (0.31.0)\n",
      "Requirement already satisfied: wheel<1.0,>=0.23.0 in c:\\users\\han\\miniconda3\\envs\\hyundai_equip_6\\lib\\site-packages (from astunparse>=1.6.0->tensorflow-intel==2.16.1->tensorflow==2.16.1) (0.43.0)\n",
      "Requirement already satisfied: rich in c:\\users\\han\\miniconda3\\envs\\hyundai_equip_6\\lib\\site-packages (from keras>=3.0.0->tensorflow-intel==2.16.1->tensorflow==2.16.1) (13.7.1)\n",
      "Requirement already satisfied: namex in c:\\users\\han\\miniconda3\\envs\\hyundai_equip_6\\lib\\site-packages (from keras>=3.0.0->tensorflow-intel==2.16.1->tensorflow==2.16.1) (0.0.8)\n",
      "Requirement already satisfied: optree in c:\\users\\han\\miniconda3\\envs\\hyundai_equip_6\\lib\\site-packages (from keras>=3.0.0->tensorflow-intel==2.16.1->tensorflow==2.16.1) (0.11.0)\n",
      "Requirement already satisfied: charset-normalizer<4,>=2 in c:\\users\\han\\miniconda3\\envs\\hyundai_equip_6\\lib\\site-packages (from requests<3,>=2.21.0->tensorflow-intel==2.16.1->tensorflow==2.16.1) (3.3.2)\n",
      "Requirement already satisfied: idna<4,>=2.5 in c:\\users\\han\\miniconda3\\envs\\hyundai_equip_6\\lib\\site-packages (from requests<3,>=2.21.0->tensorflow-intel==2.16.1->tensorflow==2.16.1) (3.7)\n",
      "Requirement already satisfied: urllib3<3,>=1.21.1 in c:\\users\\han\\miniconda3\\envs\\hyundai_equip_6\\lib\\site-packages (from requests<3,>=2.21.0->tensorflow-intel==2.16.1->tensorflow==2.16.1) (2.2.1)\n",
      "Requirement already satisfied: certifi>=2017.4.17 in c:\\users\\han\\miniconda3\\envs\\hyundai_equip_6\\lib\\site-packages (from requests<3,>=2.21.0->tensorflow-intel==2.16.1->tensorflow==2.16.1) (2024.2.2)\n",
      "Requirement already satisfied: markdown>=2.6.8 in c:\\users\\han\\miniconda3\\envs\\hyundai_equip_6\\lib\\site-packages (from tensorboard<2.17,>=2.16->tensorflow-intel==2.16.1->tensorflow==2.16.1) (3.6)\n",
      "Requirement already satisfied: tensorboard-data-server<0.8.0,>=0.7.0 in c:\\users\\han\\miniconda3\\envs\\hyundai_equip_6\\lib\\site-packages (from tensorboard<2.17,>=2.16->tensorflow-intel==2.16.1->tensorflow==2.16.1) (0.7.2)\n",
      "Requirement already satisfied: werkzeug>=1.0.1 in c:\\users\\han\\miniconda3\\envs\\hyundai_equip_6\\lib\\site-packages (from tensorboard<2.17,>=2.16->tensorflow-intel==2.16.1->tensorflow==2.16.1) (3.0.3)\n",
      "Requirement already satisfied: MarkupSafe>=2.1.1 in c:\\users\\han\\miniconda3\\envs\\hyundai_equip_6\\lib\\site-packages (from werkzeug>=1.0.1->tensorboard<2.17,>=2.16->tensorflow-intel==2.16.1->tensorflow==2.16.1) (2.1.5)\n",
      "Requirement already satisfied: markdown-it-py>=2.2.0 in c:\\users\\han\\miniconda3\\envs\\hyundai_equip_6\\lib\\site-packages (from rich->keras>=3.0.0->tensorflow-intel==2.16.1->tensorflow==2.16.1) (3.0.0)\n",
      "Requirement already satisfied: pygments<3.0.0,>=2.13.0 in c:\\users\\han\\miniconda3\\envs\\hyundai_equip_6\\lib\\site-packages (from rich->keras>=3.0.0->tensorflow-intel==2.16.1->tensorflow==2.16.1) (2.18.0)\n",
      "Requirement already satisfied: mdurl~=0.1 in c:\\users\\han\\miniconda3\\envs\\hyundai_equip_6\\lib\\site-packages (from markdown-it-py>=2.2.0->rich->keras>=3.0.0->tensorflow-intel==2.16.1->tensorflow==2.16.1) (0.1.2)\n"
     ]
    }
   ],
   "source": [
    "!pip install tensorflow==2.16.1 pandas==2.2.2 numpy==1.26.4 matplotlib==3.9.0 scikit-learn==1.5.0 imbalanced-learn==0.9.0"
   ]
  },
  {
   "cell_type": "code",
   "execution_count": 106,
   "metadata": {
    "executionInfo": {
     "elapsed": 6856,
     "status": "ok",
     "timestamp": 1705226046786,
     "user": {
      "displayName": "‍정재윤(산업경영공학과)",
      "userId": "12900926733115983320"
     },
     "user_tz": -540
    },
    "id": "0hUhGYY6b8nA"
   },
   "outputs": [],
   "source": [
    "import glob\n",
    "import os\n",
    "import pandas as pd\n",
    "import numpy as np\n",
    "import matplotlib.pyplot as plt\n",
    "from sklearn.preprocessing import MinMaxScaler\n",
    "from sklearn.metrics import classification_report, confusion_matrix, ConfusionMatrixDisplay, accuracy_score, f1_score\n",
    "from sklearn.model_selection import train_test_split\n",
    "from tensorflow.keras.models import Sequential\n",
    "from tensorflow.keras.layers import Dense, Dropout\n",
    "import tensorflow as tf\n",
    "import random"
   ]
  },
  {
   "cell_type": "code",
   "execution_count": 107,
   "metadata": {},
   "outputs": [],
   "source": [
    "# 시드 고정\n",
    "def set_seed(seed=42):\n",
    "    np.random.seed(seed)\n",
    "    tf.random.set_seed(seed)\n",
    "    random.seed(seed)\n",
    "    os.environ['TF_DETERMINISTIC_OPS'] = \"1\"\n",
    "    os.environ['TF_CUDNN_DETERMINISM'] = \"1\"\n",
    "    os.environ['PYTHONHASHSEED'] = str(seed)\n",
    "set_seed()"
   ]
  },
  {
   "cell_type": "markdown",
   "metadata": {},
   "source": [
    "#### 데이터 불러오기"
   ]
  },
  {
   "cell_type": "code",
   "execution_count": 108,
   "metadata": {},
   "outputs": [],
   "source": [
    "# CNC 가공 실적 데이터 파일\n",
    "train_sample = pd.read_csv(\"./dataset/CNC 비식별화 원본데이터_1209/train.csv\", header=0, encoding='utf-8')\n",
    "\n",
    "# 개별 생산 단위 데이터 파일\n",
    "path = r'./dataset/CNC 비식별화 원본데이터_1209/CNC Virtual Data set _v2'  # 경로 설정\n",
    "all_files = glob.glob(os.path.join(path, \"*.csv\"))\n",
    "\n",
    "li_df = []\n",
    "for filename in all_files:\n",
    "    df = pd.read_csv(filename, index_col=None, header=0)\n",
    "    li_df.append(df)\n",
    "\n",
    "df = pd.concat(li_df, axis=0, ignore_index=True)"
   ]
  },
  {
   "cell_type": "markdown",
   "metadata": {
    "id": "BYq8JLs3-phY"
   },
   "source": [
    "### 2-2. 데이터 특성 파악\n"
   ]
  },
  {
   "cell_type": "markdown",
   "metadata": {},
   "source": [
    "#### 데이터 기본 구조 파악"
   ]
  },
  {
   "cell_type": "code",
   "execution_count": 109,
   "metadata": {
    "scrolled": true
   },
   "outputs": [
    {
     "data": {
      "text/html": [
       "<div>\n",
       "<style scoped>\n",
       "    .dataframe tbody tr th:only-of-type {\n",
       "        vertical-align: middle;\n",
       "    }\n",
       "\n",
       "    .dataframe tbody tr th {\n",
       "        vertical-align: top;\n",
       "    }\n",
       "\n",
       "    .dataframe thead th {\n",
       "        text-align: right;\n",
       "    }\n",
       "</style>\n",
       "<table border=\"1\" class=\"dataframe\">\n",
       "  <thead>\n",
       "    <tr style=\"text-align: right;\">\n",
       "      <th></th>\n",
       "      <th>No</th>\n",
       "      <th>material</th>\n",
       "      <th>feedrate</th>\n",
       "      <th>clamp_pressure</th>\n",
       "      <th>tool_condition</th>\n",
       "      <th>machining_finalized</th>\n",
       "      <th>passed_visual_inspection</th>\n",
       "    </tr>\n",
       "  </thead>\n",
       "  <tbody>\n",
       "    <tr>\n",
       "      <th>0</th>\n",
       "      <td>1</td>\n",
       "      <td>aluminum</td>\n",
       "      <td>6</td>\n",
       "      <td>4.0</td>\n",
       "      <td>unworn</td>\n",
       "      <td>yes</td>\n",
       "      <td>yes</td>\n",
       "    </tr>\n",
       "    <tr>\n",
       "      <th>1</th>\n",
       "      <td>2</td>\n",
       "      <td>aluminum</td>\n",
       "      <td>20</td>\n",
       "      <td>4.0</td>\n",
       "      <td>unworn</td>\n",
       "      <td>yes</td>\n",
       "      <td>yes</td>\n",
       "    </tr>\n",
       "    <tr>\n",
       "      <th>2</th>\n",
       "      <td>3</td>\n",
       "      <td>aluminum</td>\n",
       "      <td>6</td>\n",
       "      <td>3.0</td>\n",
       "      <td>unworn</td>\n",
       "      <td>yes</td>\n",
       "      <td>yes</td>\n",
       "    </tr>\n",
       "    <tr>\n",
       "      <th>3</th>\n",
       "      <td>4</td>\n",
       "      <td>aluminum</td>\n",
       "      <td>6</td>\n",
       "      <td>2.5</td>\n",
       "      <td>unworn</td>\n",
       "      <td>no</td>\n",
       "      <td>NaN</td>\n",
       "    </tr>\n",
       "    <tr>\n",
       "      <th>4</th>\n",
       "      <td>5</td>\n",
       "      <td>aluminum</td>\n",
       "      <td>20</td>\n",
       "      <td>3.0</td>\n",
       "      <td>unworn</td>\n",
       "      <td>no</td>\n",
       "      <td>NaN</td>\n",
       "    </tr>\n",
       "  </tbody>\n",
       "</table>\n",
       "</div>"
      ],
      "text/plain": [
       "   No  material  feedrate  clamp_pressure tool_condition machining_finalized  \\\n",
       "0   1  aluminum         6             4.0         unworn                 yes   \n",
       "1   2  aluminum        20             4.0         unworn                 yes   \n",
       "2   3  aluminum         6             3.0         unworn                 yes   \n",
       "3   4  aluminum         6             2.5         unworn                  no   \n",
       "4   5  aluminum        20             3.0         unworn                  no   \n",
       "\n",
       "  passed_visual_inspection  \n",
       "0                      yes  \n",
       "1                      yes  \n",
       "2                      yes  \n",
       "3                      NaN  \n",
       "4                      NaN  "
      ]
     },
     "execution_count": 109,
     "metadata": {},
     "output_type": "execute_result"
    }
   ],
   "source": [
    "train_sample.head()"
   ]
  },
  {
   "cell_type": "code",
   "execution_count": 110,
   "metadata": {},
   "outputs": [
    {
     "name": "stdout",
     "output_type": "stream",
     "text": [
      "<class 'pandas.core.frame.DataFrame'>\n",
      "RangeIndex: 25 entries, 0 to 24\n",
      "Data columns (total 7 columns):\n",
      " #   Column                    Non-Null Count  Dtype  \n",
      "---  ------                    --------------  -----  \n",
      " 0   No                        25 non-null     int64  \n",
      " 1   material                  25 non-null     object \n",
      " 2   feedrate                  25 non-null     int64  \n",
      " 3   clamp_pressure            25 non-null     float64\n",
      " 4   tool_condition            25 non-null     object \n",
      " 5   machining_finalized       25 non-null     object \n",
      " 6   passed_visual_inspection  19 non-null     object \n",
      "dtypes: float64(1), int64(2), object(4)\n",
      "memory usage: 1.5+ KB\n"
     ]
    }
   ],
   "source": [
    "train_sample.info()"
   ]
  },
  {
   "cell_type": "code",
   "execution_count": 111,
   "metadata": {},
   "outputs": [
    {
     "data": {
      "text/plain": [
       "['./dataset/CNC 비식별화 원본데이터_1209/CNC Virtual Data set _v2\\\\experiment_01.csv',\n",
       " './dataset/CNC 비식별화 원본데이터_1209/CNC Virtual Data set _v2\\\\experiment_02.csv',\n",
       " './dataset/CNC 비식별화 원본데이터_1209/CNC Virtual Data set _v2\\\\experiment_03.csv',\n",
       " './dataset/CNC 비식별화 원본데이터_1209/CNC Virtual Data set _v2\\\\experiment_04.csv',\n",
       " './dataset/CNC 비식별화 원본데이터_1209/CNC Virtual Data set _v2\\\\experiment_05.csv',\n",
       " './dataset/CNC 비식별화 원본데이터_1209/CNC Virtual Data set _v2\\\\experiment_06.csv',\n",
       " './dataset/CNC 비식별화 원본데이터_1209/CNC Virtual Data set _v2\\\\experiment_07.csv',\n",
       " './dataset/CNC 비식별화 원본데이터_1209/CNC Virtual Data set _v2\\\\experiment_08.csv',\n",
       " './dataset/CNC 비식별화 원본데이터_1209/CNC Virtual Data set _v2\\\\experiment_09.csv',\n",
       " './dataset/CNC 비식별화 원본데이터_1209/CNC Virtual Data set _v2\\\\experiment_10.csv',\n",
       " './dataset/CNC 비식별화 원본데이터_1209/CNC Virtual Data set _v2\\\\experiment_11.csv',\n",
       " './dataset/CNC 비식별화 원본데이터_1209/CNC Virtual Data set _v2\\\\experiment_12.csv',\n",
       " './dataset/CNC 비식별화 원본데이터_1209/CNC Virtual Data set _v2\\\\experiment_13.csv',\n",
       " './dataset/CNC 비식별화 원본데이터_1209/CNC Virtual Data set _v2\\\\experiment_14.csv',\n",
       " './dataset/CNC 비식별화 원본데이터_1209/CNC Virtual Data set _v2\\\\experiment_15.csv',\n",
       " './dataset/CNC 비식별화 원본데이터_1209/CNC Virtual Data set _v2\\\\experiment_16.csv',\n",
       " './dataset/CNC 비식별화 원본데이터_1209/CNC Virtual Data set _v2\\\\experiment_17.csv',\n",
       " './dataset/CNC 비식별화 원본데이터_1209/CNC Virtual Data set _v2\\\\experiment_18.csv',\n",
       " './dataset/CNC 비식별화 원본데이터_1209/CNC Virtual Data set _v2\\\\experiment_19.csv',\n",
       " './dataset/CNC 비식별화 원본데이터_1209/CNC Virtual Data set _v2\\\\experiment_20.csv',\n",
       " './dataset/CNC 비식별화 원본데이터_1209/CNC Virtual Data set _v2\\\\experiment_21.csv',\n",
       " './dataset/CNC 비식별화 원본데이터_1209/CNC Virtual Data set _v2\\\\experiment_22.csv',\n",
       " './dataset/CNC 비식별화 원본데이터_1209/CNC Virtual Data set _v2\\\\experiment_23.csv',\n",
       " './dataset/CNC 비식별화 원본데이터_1209/CNC Virtual Data set _v2\\\\experiment_24.csv',\n",
       " './dataset/CNC 비식별화 원본데이터_1209/CNC Virtual Data set _v2\\\\experiment_25.csv']"
      ]
     },
     "execution_count": 111,
     "metadata": {},
     "output_type": "execute_result"
    }
   ],
   "source": [
    "all_files"
   ]
  },
  {
   "cell_type": "code",
   "execution_count": 112,
   "metadata": {},
   "outputs": [
    {
     "data": {
      "text/html": [
       "<div>\n",
       "<style scoped>\n",
       "    .dataframe tbody tr th:only-of-type {\n",
       "        vertical-align: middle;\n",
       "    }\n",
       "\n",
       "    .dataframe tbody tr th {\n",
       "        vertical-align: top;\n",
       "    }\n",
       "\n",
       "    .dataframe thead th {\n",
       "        text-align: right;\n",
       "    }\n",
       "</style>\n",
       "<table border=\"1\" class=\"dataframe\">\n",
       "  <thead>\n",
       "    <tr style=\"text-align: right;\">\n",
       "      <th></th>\n",
       "      <th>X_ActualPosition</th>\n",
       "      <th>X_ActualVelocity</th>\n",
       "      <th>X_ActualAcceleration</th>\n",
       "      <th>X_SetPosition</th>\n",
       "      <th>X_SetVelocity</th>\n",
       "      <th>X_SetAcceleration</th>\n",
       "      <th>X_CurrentFeedback</th>\n",
       "      <th>X_DCBusVoltage</th>\n",
       "      <th>X_OutputCurrent</th>\n",
       "      <th>X_OutputVoltage</th>\n",
       "      <th>...</th>\n",
       "      <th>S_CurrentFeedback</th>\n",
       "      <th>S_DCBusVoltage</th>\n",
       "      <th>S_OutputCurrent</th>\n",
       "      <th>S_OutputVoltage</th>\n",
       "      <th>S_OutputPower</th>\n",
       "      <th>S_SystemInertia</th>\n",
       "      <th>M_CURRENT_PROGRAM_NUMBER</th>\n",
       "      <th>M_sequence_number</th>\n",
       "      <th>M_CURRENT_FEEDRATE</th>\n",
       "      <th>Machining_Process</th>\n",
       "    </tr>\n",
       "  </thead>\n",
       "  <tbody>\n",
       "    <tr>\n",
       "      <th>0</th>\n",
       "      <td>202.0</td>\n",
       "      <td>4.0</td>\n",
       "      <td>4.00</td>\n",
       "      <td>202.0</td>\n",
       "      <td>4.0</td>\n",
       "      <td>4.000000</td>\n",
       "      <td>0.18</td>\n",
       "      <td>0.0207</td>\n",
       "      <td>329</td>\n",
       "      <td>2.77</td>\n",
       "      <td>...</td>\n",
       "      <td>0.524</td>\n",
       "      <td>2.740000e-19</td>\n",
       "      <td>329</td>\n",
       "      <td>0.0</td>\n",
       "      <td>6.960000e-07</td>\n",
       "      <td>16.0</td>\n",
       "      <td>1</td>\n",
       "      <td>0</td>\n",
       "      <td>50</td>\n",
       "      <td>Starting</td>\n",
       "    </tr>\n",
       "    <tr>\n",
       "      <th>1</th>\n",
       "      <td>202.0</td>\n",
       "      <td>-6.8</td>\n",
       "      <td>-346.00</td>\n",
       "      <td>202.0</td>\n",
       "      <td>-9.6</td>\n",
       "      <td>-354.000000</td>\n",
       "      <td>-10.90</td>\n",
       "      <td>0.1860</td>\n",
       "      <td>328</td>\n",
       "      <td>23.30</td>\n",
       "      <td>...</td>\n",
       "      <td>-0.288</td>\n",
       "      <td>2.740000e-19</td>\n",
       "      <td>328</td>\n",
       "      <td>0.0</td>\n",
       "      <td>-5.270000e-07</td>\n",
       "      <td>16.0</td>\n",
       "      <td>1</td>\n",
       "      <td>4</td>\n",
       "      <td>50</td>\n",
       "      <td>Prep</td>\n",
       "    </tr>\n",
       "    <tr>\n",
       "      <th>2</th>\n",
       "      <td>200.0</td>\n",
       "      <td>-13.8</td>\n",
       "      <td>-2.25</td>\n",
       "      <td>200.0</td>\n",
       "      <td>-13.9</td>\n",
       "      <td>3.999905</td>\n",
       "      <td>-8.59</td>\n",
       "      <td>0.1400</td>\n",
       "      <td>328</td>\n",
       "      <td>30.60</td>\n",
       "      <td>...</td>\n",
       "      <td>0.524</td>\n",
       "      <td>2.740000e-19</td>\n",
       "      <td>328</td>\n",
       "      <td>0.0</td>\n",
       "      <td>9.100000e-07</td>\n",
       "      <td>16.0</td>\n",
       "      <td>1</td>\n",
       "      <td>7</td>\n",
       "      <td>50</td>\n",
       "      <td>Prep</td>\n",
       "    </tr>\n",
       "    <tr>\n",
       "      <th>3</th>\n",
       "      <td>198.0</td>\n",
       "      <td>-14.0</td>\n",
       "      <td>4.00</td>\n",
       "      <td>198.0</td>\n",
       "      <td>-13.9</td>\n",
       "      <td>3.999905</td>\n",
       "      <td>-6.11</td>\n",
       "      <td>0.1300</td>\n",
       "      <td>327</td>\n",
       "      <td>30.30</td>\n",
       "      <td>...</td>\n",
       "      <td>-0.180</td>\n",
       "      <td>2.740000e-19</td>\n",
       "      <td>328</td>\n",
       "      <td>0.0</td>\n",
       "      <td>1.070000e-06</td>\n",
       "      <td>16.0</td>\n",
       "      <td>1</td>\n",
       "      <td>7</td>\n",
       "      <td>50</td>\n",
       "      <td>Prep</td>\n",
       "    </tr>\n",
       "    <tr>\n",
       "      <th>4</th>\n",
       "      <td>197.0</td>\n",
       "      <td>-13.9</td>\n",
       "      <td>-14.80</td>\n",
       "      <td>196.0</td>\n",
       "      <td>-13.9</td>\n",
       "      <td>4.000095</td>\n",
       "      <td>-5.70</td>\n",
       "      <td>0.1140</td>\n",
       "      <td>328</td>\n",
       "      <td>30.50</td>\n",
       "      <td>...</td>\n",
       "      <td>0.226</td>\n",
       "      <td>2.740000e-19</td>\n",
       "      <td>328</td>\n",
       "      <td>0.0</td>\n",
       "      <td>1.960000e-06</td>\n",
       "      <td>16.0</td>\n",
       "      <td>1</td>\n",
       "      <td>7</td>\n",
       "      <td>50</td>\n",
       "      <td>Prep</td>\n",
       "    </tr>\n",
       "  </tbody>\n",
       "</table>\n",
       "<p>5 rows × 48 columns</p>\n",
       "</div>"
      ],
      "text/plain": [
       "   X_ActualPosition  X_ActualVelocity  X_ActualAcceleration  X_SetPosition  \\\n",
       "0             202.0               4.0                  4.00          202.0   \n",
       "1             202.0              -6.8               -346.00          202.0   \n",
       "2             200.0             -13.8                 -2.25          200.0   \n",
       "3             198.0             -14.0                  4.00          198.0   \n",
       "4             197.0             -13.9                -14.80          196.0   \n",
       "\n",
       "   X_SetVelocity  X_SetAcceleration  X_CurrentFeedback  X_DCBusVoltage  \\\n",
       "0            4.0           4.000000               0.18          0.0207   \n",
       "1           -9.6        -354.000000             -10.90          0.1860   \n",
       "2          -13.9           3.999905              -8.59          0.1400   \n",
       "3          -13.9           3.999905              -6.11          0.1300   \n",
       "4          -13.9           4.000095              -5.70          0.1140   \n",
       "\n",
       "   X_OutputCurrent  X_OutputVoltage  ...  S_CurrentFeedback  S_DCBusVoltage  \\\n",
       "0              329             2.77  ...              0.524    2.740000e-19   \n",
       "1              328            23.30  ...             -0.288    2.740000e-19   \n",
       "2              328            30.60  ...              0.524    2.740000e-19   \n",
       "3              327            30.30  ...             -0.180    2.740000e-19   \n",
       "4              328            30.50  ...              0.226    2.740000e-19   \n",
       "\n",
       "   S_OutputCurrent  S_OutputVoltage  S_OutputPower  S_SystemInertia  \\\n",
       "0              329              0.0   6.960000e-07             16.0   \n",
       "1              328              0.0  -5.270000e-07             16.0   \n",
       "2              328              0.0   9.100000e-07             16.0   \n",
       "3              328              0.0   1.070000e-06             16.0   \n",
       "4              328              0.0   1.960000e-06             16.0   \n",
       "\n",
       "   M_CURRENT_PROGRAM_NUMBER  M_sequence_number  M_CURRENT_FEEDRATE  \\\n",
       "0                         1                  0                  50   \n",
       "1                         1                  4                  50   \n",
       "2                         1                  7                  50   \n",
       "3                         1                  7                  50   \n",
       "4                         1                  7                  50   \n",
       "\n",
       "   Machining_Process  \n",
       "0           Starting  \n",
       "1               Prep  \n",
       "2               Prep  \n",
       "3               Prep  \n",
       "4               Prep  \n",
       "\n",
       "[5 rows x 48 columns]"
      ]
     },
     "execution_count": 112,
     "metadata": {},
     "output_type": "execute_result"
    }
   ],
   "source": [
    "df.head()"
   ]
  },
  {
   "cell_type": "code",
   "execution_count": 113,
   "metadata": {},
   "outputs": [
    {
     "name": "stdout",
     "output_type": "stream",
     "text": [
      "<class 'pandas.core.frame.DataFrame'>\n",
      "RangeIndex: 32048 entries, 0 to 32047\n",
      "Data columns (total 48 columns):\n",
      " #   Column                    Non-Null Count  Dtype  \n",
      "---  ------                    --------------  -----  \n",
      " 0   X_ActualPosition          32048 non-null  float64\n",
      " 1   X_ActualVelocity          32048 non-null  float64\n",
      " 2   X_ActualAcceleration      32048 non-null  float64\n",
      " 3   X_SetPosition             32048 non-null  float64\n",
      " 4   X_SetVelocity             32048 non-null  float64\n",
      " 5   X_SetAcceleration         32048 non-null  float64\n",
      " 6   X_CurrentFeedback         32048 non-null  float64\n",
      " 7   X_DCBusVoltage            32048 non-null  float64\n",
      " 8   X_OutputCurrent           32048 non-null  int64  \n",
      " 9   X_OutputVoltage           32048 non-null  float64\n",
      " 10  X_OutputPower             32048 non-null  float64\n",
      " 11  Y_ActualPosition          32048 non-null  float64\n",
      " 12  Y_ActualVelocity          32048 non-null  float64\n",
      " 13  Y_ActualAcceleration      32048 non-null  float64\n",
      " 14  Y_SetPosition             32048 non-null  float64\n",
      " 15  Y_SetVelocity             32048 non-null  float64\n",
      " 16  Y_SetAcceleration         32048 non-null  float64\n",
      " 17  Y_CurrentFeedback         32048 non-null  float64\n",
      " 18  Y_DCBusVoltage            32048 non-null  float64\n",
      " 19  Y_OutputCurrent           32048 non-null  int64  \n",
      " 20  Y_OutputVoltage           32048 non-null  float64\n",
      " 21  Y_OutputPower             32048 non-null  float64\n",
      " 22  Z_ActualPosition          32048 non-null  float64\n",
      " 23  Z_ActualVelocity          32048 non-null  float64\n",
      " 24  Z_ActualAcceleration      32048 non-null  float64\n",
      " 25  Z_SetPosition             32048 non-null  float64\n",
      " 26  Z_SetVelocity             32048 non-null  float64\n",
      " 27  Z_SetAcceleration         32048 non-null  float64\n",
      " 28  Z_CurrentFeedback         32048 non-null  int64  \n",
      " 29  Z_DCBusVoltage            32048 non-null  int64  \n",
      " 30  Z_OutputCurrent           32048 non-null  int64  \n",
      " 31  Z_OutputVoltage           32048 non-null  int64  \n",
      " 32  S_ActualPosition          32048 non-null  float64\n",
      " 33  S_ActualVelocity          32048 non-null  float64\n",
      " 34  S_ActualAcceleration      32048 non-null  float64\n",
      " 35  S_SetPosition             32048 non-null  float64\n",
      " 36  S_SetVelocity             32048 non-null  float64\n",
      " 37  S_SetAcceleration         32048 non-null  float64\n",
      " 38  S_CurrentFeedback         32048 non-null  float64\n",
      " 39  S_DCBusVoltage            32048 non-null  float64\n",
      " 40  S_OutputCurrent           32048 non-null  int64  \n",
      " 41  S_OutputVoltage           32048 non-null  float64\n",
      " 42  S_OutputPower             32048 non-null  float64\n",
      " 43  S_SystemInertia           32048 non-null  float64\n",
      " 44  M_CURRENT_PROGRAM_NUMBER  32048 non-null  int64  \n",
      " 45  M_sequence_number         32048 non-null  int64  \n",
      " 46  M_CURRENT_FEEDRATE        32048 non-null  int64  \n",
      " 47  Machining_Process         32048 non-null  object \n",
      "dtypes: float64(37), int64(10), object(1)\n",
      "memory usage: 11.7+ MB\n",
      "None\n"
     ]
    }
   ],
   "source": [
    "print(df.info())"
   ]
  },
  {
   "cell_type": "code",
   "execution_count": 114,
   "metadata": {
    "scrolled": true
   },
   "outputs": [
    {
     "name": "stdout",
     "output_type": "stream",
     "text": [
      "       X_ActualPosition  X_ActualVelocity  X_ActualAcceleration  \\\n",
      "count      32048.000000      32048.000000          32048.000000   \n",
      "mean         163.805667          3.992182              4.455950   \n",
      "std           18.461808          5.629767             91.780434   \n",
      "min          144.000000        -17.300000          -1275.000000   \n",
      "25%          150.000000          2.330000            -26.300000   \n",
      "50%          158.000000          4.025000              4.000000   \n",
      "75%          167.000000          5.175000             30.000000   \n",
      "max          203.000000         55.300000           1444.000000   \n",
      "\n",
      "       X_SetPosition  X_SetVelocity  X_SetAcceleration  X_CurrentFeedback  \\\n",
      "count   32048.000000   32048.000000       32048.000000       32048.000000   \n",
      "mean      163.804013       3.997159           4.435959          -0.477972   \n",
      "std        18.462444       5.634569          72.012521           4.230802   \n",
      "min       144.000000     -17.000000        -997.000000         -23.400000   \n",
      "25%       150.000000       2.300000           3.000000          -3.860000   \n",
      "50%       158.000000       4.000000           5.000000          -0.619000   \n",
      "75%       167.000000       5.000000           5.000000           2.820000   \n",
      "max       203.000000      55.000000        1005.000000          27.100000   \n",
      "\n",
      "       X_DCBusVoltage  X_OutputCurrent  X_OutputVoltage  ...  \\\n",
      "count    3.204800e+04     32048.000000     32048.000000  ...   \n",
      "mean     6.421386e-02       326.894689         8.144473  ...   \n",
      "std      3.994749e-02         1.493034         8.765644  ...   \n",
      "min      2.780000e-19       320.000000         0.000000  ...   \n",
      "25%      3.200000e-02       326.000000         2.110000  ...   \n",
      "50%      6.410000e-02       327.000000         6.640000  ...   \n",
      "75%      9.130000e-02       327.000000        10.200000  ...   \n",
      "max      3.800000e-01       331.000000        75.400000  ...   \n",
      "\n",
      "       S_SetAcceleration  S_CurrentFeedback  S_DCBusVoltage  S_OutputCurrent  \\\n",
      "count       32048.000000       32048.000000    3.204800e+04     32048.000000   \n",
      "mean            4.662413          14.440084    6.347587e-01       322.990046   \n",
      "std             5.983271          10.663567    4.525300e-01         4.420659   \n",
      "min             2.999999          -8.280000    0.000000e+00       290.000000   \n",
      "25%             3.000001           0.555000    2.770000e-19       320.000000   \n",
      "50%             4.999999          18.400000    8.480000e-01       323.000000   \n",
      "75%             5.000000          22.200000    9.500000e-01       327.000000   \n",
      "max           105.000000          75.400000    3.160000e+00       332.000000   \n",
      "\n",
      "       S_OutputVoltage  S_OutputPower  S_SystemInertia  \\\n",
      "count     32048.000000   32048.000000     32048.000000   \n",
      "mean         80.669823       0.120718        16.275493   \n",
      "std          54.714977       0.084254         0.876989   \n",
      "min           0.000000      -0.002960        15.000000   \n",
      "25%           0.000000       0.000002        15.000000   \n",
      "50%         116.000000       0.162000        17.000000   \n",
      "75%         119.000000       0.183000        17.000000   \n",
      "max         130.000000       0.569000        17.000000   \n",
      "\n",
      "       M_CURRENT_PROGRAM_NUMBER  M_sequence_number  M_CURRENT_FEEDRATE  \n",
      "count              32048.000000       32048.000000        32048.000000  \n",
      "mean                   1.005429          44.457907           18.425237  \n",
      "std                    0.438464          43.674509           20.007601  \n",
      "min                    0.000000           0.000000            3.000000  \n",
      "25%                    1.000000           0.000000            3.000000  \n",
      "50%                    1.000000          34.000000            6.000000  \n",
      "75%                    1.000000          81.000000           50.000000  \n",
      "max                    4.000000         135.000000           50.000000  \n",
      "\n",
      "[8 rows x 47 columns]\n"
     ]
    }
   ],
   "source": [
    "print(df.describe())"
   ]
  },
  {
   "cell_type": "markdown",
   "metadata": {},
   "source": [
    "#### 종속변수 별 샘플 수 세기\n",
    "\n",
    "- machining_finalized = 공정완료 유무<br>\n",
    "- passed_visual_inspection = 육안검사 통과유무\n"
   ]
  },
  {
   "cell_type": "code",
   "execution_count": 115,
   "metadata": {},
   "outputs": [
    {
     "name": "stdout",
     "output_type": "stream",
     "text": [
      "<class 'pandas.core.frame.DataFrame'>\n",
      "RangeIndex: 25 entries, 0 to 24\n",
      "Data columns (total 7 columns):\n",
      " #   Column                    Non-Null Count  Dtype  \n",
      "---  ------                    --------------  -----  \n",
      " 0   No                        25 non-null     int64  \n",
      " 1   material                  25 non-null     object \n",
      " 2   feedrate                  25 non-null     int64  \n",
      " 3   clamp_pressure            25 non-null     float64\n",
      " 4   tool_condition            25 non-null     object \n",
      " 5   machining_finalized       25 non-null     object \n",
      " 6   passed_visual_inspection  19 non-null     object \n",
      "dtypes: float64(1), int64(2), object(4)\n",
      "memory usage: 1.5+ KB\n"
     ]
    }
   ],
   "source": [
    "train_sample.info()"
   ]
  },
  {
   "cell_type": "code",
   "execution_count": 116,
   "metadata": {},
   "outputs": [
    {
     "name": "stdout",
     "output_type": "stream",
     "text": [
      "공정 완료 및 육안검사 통과: 13\n",
      "공정 완료되었으나 육안검사 불합격: 6\n",
      "공정 미완료: 6\n",
      "전체 샘플 개수: 25\n"
     ]
    }
   ],
   "source": [
    "nb_pass = 0\n",
    "nb_pass_half = 0\n",
    "nb_defective = 0\n",
    "\n",
    "train_sample_np = np.array(train_sample.copy())\n",
    "for i in range(len(train_sample_np)):\n",
    "    if train_sample_np[i, 5] == 'yes' and train_sample_np[i, 6] == 'yes':\n",
    "        nb_pass += 1\n",
    "    elif train_sample_np[i, 5] == 'yes' and train_sample_np[i, 6] == 'no':\n",
    "        nb_pass_half += 1\n",
    "    else:\n",
    "        nb_defective += 1\n",
    "\n",
    "print(f'공정 완료 및 육안검사 통과: {nb_pass}')\n",
    "print(f'공정 완료되었으나 육안검사 불합격: {nb_pass_half}')\n",
    "print(f'공정 미완료: {nb_defective}')\n",
    "print(f'전체 샘플 개수: {nb_pass + nb_pass_half + nb_defective}')"
   ]
  },
  {
   "cell_type": "markdown",
   "metadata": {
    "id": "BYq8JLs3-phY"
   },
   "source": [
    "### 2-3. 데이터 정제(전처리)\n"
   ]
  },
  {
   "cell_type": "markdown",
   "metadata": {},
   "source": [
    "#### CNC 가공 실적 데이터 파일 전처리\n",
    "- tool_condition 함수: 입력값으로 불러온 ‘train.csv’ 파일을 받고, 출력값으로 각 샘플의 tool_condition에 대해 ‘마모되지않음(unworn)‘ 이면 (0)을, ’마모됨(worn)’ 이면 (1)\n",
    "- item_inspection 함수: 입력값으로 불러온 ‘train.csv’ 파일을 받고, 출력값으로 각 샘플의 machining_finalized(공정완료)와 passed_visual_inspection(육안검사) 두\n",
    "가지 항목을 확인하고, 공정완료 및 육안검사 합격(0), 공정완료 및 육안검사 불합격(1), 공정미완료(2)의 3가지 값을 갖는다."
   ]
  },
  {
   "cell_type": "code",
   "execution_count": 117,
   "metadata": {},
   "outputs": [],
   "source": [
    "def tool_condition(df):\n",
    "    df['tool_condition'] = df['tool_condition'].apply(lambda x: 0 if x == 'unworn' else 1)\n",
    "    return df\n",
    "\n",
    "def item_inspection(df):\n",
    "    df['passed_visual_inspection'] = df.apply(\n",
    "        lambda row: \n",
    "            0 if row['machining_finalized'] == 'yes' and row['passed_visual_inspection'] == 'yes'\n",
    "                else 1 if row['machining_finalized'] == 'yes' and row['passed_visual_inspection'] == 'no'\n",
    "                    else 2, axis=1)\n",
    "    return df\n"
   ]
  },
  {
   "cell_type": "code",
   "execution_count": 118,
   "metadata": {},
   "outputs": [],
   "source": [
    "train_sample_info = tool_condition(train_sample.copy())\n",
    "train_sample_info = item_inspection(train_sample_info)\n",
    "train_sample_info = train_sample_info.drop(columns=['No', 'material', 'machining_finalized'])\n",
    "train_sample_info = np.array(train_sample_info)"
   ]
  },
  {
   "cell_type": "code",
   "execution_count": 119,
   "metadata": {},
   "outputs": [
    {
     "data": {
      "text/plain": [
       "array([[ 6. ,  4. ,  0. ,  0. ],\n",
       "       [20. ,  4. ,  0. ,  0. ],\n",
       "       [ 6. ,  3. ,  0. ,  0. ],\n",
       "       [ 6. ,  2.5,  0. ,  2. ],\n",
       "       [20. ,  3. ,  0. ,  2. ],\n",
       "       [ 6. ,  4. ,  1. ,  1. ],\n",
       "       [20. ,  4. ,  1. ,  2. ],\n",
       "       [20. ,  4. ,  1. ,  1. ],\n",
       "       [15. ,  4. ,  1. ,  1. ],\n",
       "       [12. ,  4. ,  1. ,  1. ],\n",
       "       [ 3. ,  4. ,  0. ,  0. ],\n",
       "       [ 3. ,  3. ,  0. ,  0. ],\n",
       "       [ 3. ,  4. ,  1. ,  0. ],\n",
       "       [ 3. ,  3. ,  1. ,  0. ],\n",
       "       [ 6. ,  3. ,  1. ,  0. ],\n",
       "       [20. ,  3. ,  1. ,  2. ],\n",
       "       [ 3. ,  2.5,  0. ,  0. ],\n",
       "       [ 3. ,  2.5,  1. ,  0. ],\n",
       "       [15. ,  4. ,  1. ,  1. ],\n",
       "       [12. ,  4. ,  0. ,  2. ],\n",
       "       [ 3. ,  4. ,  0. ,  1. ],\n",
       "       [20. ,  3. ,  1. ,  0. ],\n",
       "       [ 3. ,  4. ,  1. ,  2. ],\n",
       "       [ 3. ,  3. ,  0. ,  0. ],\n",
       "       [ 6. ,  2.5,  1. ,  0. ]])"
      ]
     },
     "execution_count": 119,
     "metadata": {},
     "output_type": "execute_result"
    }
   ],
   "source": [
    "train_sample_info"
   ]
  },
  {
   "cell_type": "markdown",
   "metadata": {},
   "source": [
    "#### CNC 실적 및 개별 생산 단위 데이터 통합 후 공정 및 육안 검사 상태별 분할\n",
    "- data_pass : 공정 완료 및 육안검사 통과한 전체 데이터\n",
    "- data_pass_half : 공정 완료되었으나 육안검사 불합격한 전체 데이터\n",
    "- data_fail : 공정 미완료한 전체 데이터"
   ]
  },
  {
   "cell_type": "code",
   "execution_count": 120,
   "metadata": {},
   "outputs": [
    {
     "name": "stdout",
     "output_type": "stream",
     "text": [
      "공정 완료 및 육안검사 통과한 전체 데이터 수: 22645\n",
      "공정 완료되었으나 육안검사 불합격한 전체 데이터 수 : 6175\n",
      "공정 미완료한 전체 데이터 수 : 3228\n"
     ]
    }
   ],
   "source": [
    "k = 0\n",
    "li_pass = []\n",
    "li_pass_half = []\n",
    "li_fail = []\n",
    "\n",
    "for filename in all_files:\n",
    "    file_df = pd.read_csv(filename, index_col=None, header=0)\n",
    "\n",
    "    if train_sample_info[k, 3] == 0:\n",
    "        li_pass.append(file_df)\n",
    "    elif train_sample_info[k, 3] == 1:\n",
    "        li_pass_half.append(file_df)\n",
    "    else:\n",
    "        li_fail.append(file_df)\n",
    "    k+=1\n",
    "\n",
    "data_pass = pd.concat(li_pass, axis=0, ignore_index=True)\n",
    "data_pass_half = pd.concat(li_pass_half, axis=0, ignore_index=True)\n",
    "data_fail = pd.concat(li_fail, axis=0, ignore_index=True)\n",
    "\n",
    "print(f'공정 완료 및 육안검사 통과한 전체 데이터 수: {len(data_pass)}')\n",
    "print(f'공정 완료되었으나 육안검사 불합격한 전체 데이터 수 : {len(data_pass_half)}')\n",
    "print(f'공정 미완료한 전체 데이터 수 : {len(data_fail)}')"
   ]
  },
  {
   "cell_type": "markdown",
   "metadata": {},
   "source": [
    "#### 통합 데이터 전처리\n",
    "- machining_process 함수: 입력값으로 앞선 두 사용자 함수를 거친 통합 데이터를 받고, 기계의 공정상태(machining_process)를 숫자로 변환한다."
   ]
  },
  {
   "cell_type": "code",
   "execution_count": 121,
   "metadata": {},
   "outputs": [],
   "source": [
    "def machining_process(df):\n",
    "    process_dict = {\n",
    "        'Prep': 0, 'Layer 1 Up': 1, 'Layer 1 Down': 2, 'Layer 2 Up': 3,\n",
    "        'Layer 2 Down': 4, 'Layer 3 Up': 5, 'Layer 3 Down': 6,\n",
    "        'Repositioning': 7, 'End': 8,  'end': 8, 'Starting': 9\n",
    "    }\n",
    "    df['Machining_Process'] = df['Machining_Process'].map(process_dict)\n",
    "    return df"
   ]
  },
  {
   "cell_type": "code",
   "execution_count": 122,
   "metadata": {},
   "outputs": [],
   "source": [
    "data_pass = machining_process(data_pass)\n",
    "data_pass_half = machining_process(data_pass_half)\n",
    "data_fail = machining_process(data_fail)"
   ]
  },
  {
   "cell_type": "code",
   "execution_count": 123,
   "metadata": {
    "scrolled": true
   },
   "outputs": [
    {
     "data": {
      "text/plain": [
       "Machining_Process\n",
       "1    3578\n",
       "7    3299\n",
       "3    2726\n",
       "5    2715\n",
       "2    2516\n",
       "4    2272\n",
       "6    2144\n",
       "8    1740\n",
       "0    1654\n",
       "9       1\n",
       "Name: count, dtype: int64"
      ]
     },
     "execution_count": 123,
     "metadata": {},
     "output_type": "execute_result"
    }
   ],
   "source": [
    "data_pass['Machining_Process'].value_counts()"
   ]
  },
  {
   "cell_type": "markdown",
   "metadata": {},
   "source": [
    "#### 데이터 라벨링\n",
    "- 1: 양품\n",
    "- 0: 불량품"
   ]
  },
  {
   "cell_type": "code",
   "execution_count": 124,
   "metadata": {},
   "outputs": [],
   "source": [
    "data_pass['Label'] = 1\n",
    "data_pass_half['Label'] = 0\n",
    "data_fail['Label'] = 0"
   ]
  },
  {
   "cell_type": "markdown",
   "metadata": {},
   "source": [
    "#### 훈련/테스트 데이터 분리"
   ]
  },
  {
   "cell_type": "code",
   "execution_count": 125,
   "metadata": {},
   "outputs": [],
   "source": [
    "data_pass = np.array(data_pass)\n",
    "data_pass_half = np.array(data_pass_half)\n",
    "data_fail = np.array(data_fail)"
   ]
  },
  {
   "cell_type": "code",
   "execution_count": 126,
   "metadata": {},
   "outputs": [],
   "source": [
    "def split_data(data):\n",
    "    X = data[:, :-1]\n",
    "    y = data[:, -1:]\n",
    "    # First, split into train and (validation + test)\n",
    "    X_train, X_temp, y_train, y_temp = train_test_split(X, y, test_size=0.4, random_state=42)\n",
    "    # Then split (validation + test) into validation and test\n",
    "    X_valid, X_test, y_valid, y_test = train_test_split(X_temp, y_temp, test_size=0.5, random_state=42)\n",
    "    return X_train, X_valid, X_test, y_train, y_valid, y_test"
   ]
  },
  {
   "cell_type": "code",
   "execution_count": 127,
   "metadata": {},
   "outputs": [],
   "source": [
    "X_train_pass, X_valid_pass, X_test_pass, y_train_pass, y_valid_pass, y_test_pass = split_data(data_pass)\n",
    "X_train_pass_half, X_valid_pass_half, X_test_pass_half, y_train_pass_half, y_valid_pass_half, y_test_pass_half = split_data(data_pass_half)\n",
    "X_train_fail, X_valid_fail, X_test_fail, y_train_fail, y_valid_fail, y_test_fail = split_data(data_fail)"
   ]
  },
  {
   "cell_type": "code",
   "execution_count": 128,
   "metadata": {},
   "outputs": [],
   "source": [
    "X_train = np.concatenate((X_train_pass, X_train_pass_half, X_train_fail), axis=0)\n",
    "y_train = np.concatenate((y_train_pass, y_train_pass_half, y_train_fail), axis=0)\n",
    "X_valid = np.concatenate((X_valid_pass, X_valid_pass_half, X_valid_fail), axis=0)\n",
    "y_valid = np.concatenate((y_valid_pass, y_valid_pass_half, y_valid_fail), axis=0)\n",
    "X_test = np.concatenate((X_test_pass, X_test_pass_half, X_test_fail), axis=0)\n",
    "y_test = np.concatenate((y_test_pass, y_test_pass_half, y_test_fail), axis=0)"
   ]
  },
  {
   "cell_type": "markdown",
   "metadata": {},
   "source": [
    "#### 정규화\n",
    "\n",
    "Min-max normalization는 데이터를 0과 1 사이의 값으로 scaling합니다.\n",
    "\n",
    "1) data의 최대값(max)과 최소값(min)을 구한다.\n",
    "2) 정규화할 데이터 값(x)과 앞서 구한 최대값(Xmax), 최소값(Xmin)을 다음의 식에 대입한다.<br>\n",
    "\n",
    "<img src=\"https://github.com/YoungsukHan/Hyundai_equip/assets/44924554/c5a29097-0eb4-44a5-b379-2ea9df771095\" width=\"400\" height=\"400\"/>"
   ]
  },
  {
   "cell_type": "code",
   "execution_count": 129,
   "metadata": {},
   "outputs": [],
   "source": []
  },
  {
   "cell_type": "code",
   "execution_count": 130,
   "metadata": {},
   "outputs": [
    {
     "data": {
      "text/plain": [
       "(19228, 48)"
      ]
     },
     "execution_count": 130,
     "metadata": {},
     "output_type": "execute_result"
    }
   ],
   "source": []
  },
  {
   "cell_type": "code",
   "execution_count": 131,
   "metadata": {},
   "outputs": [
    {
     "data": {
      "text/plain": [
       "(6410, 48)"
      ]
     },
     "execution_count": 131,
     "metadata": {},
     "output_type": "execute_result"
    }
   ],
   "source": []
  },
  {
   "cell_type": "code",
   "execution_count": 132,
   "metadata": {
    "scrolled": true
   },
   "outputs": [
    {
     "data": {
      "text/plain": [
       "(6410, 48)"
      ]
     },
     "execution_count": 132,
     "metadata": {},
     "output_type": "execute_result"
    }
   ],
   "source": []
  },
  {
   "cell_type": "markdown",
   "metadata": {
    "id": "BYq8JLs3-phY"
   },
   "source": [
    "### 2-4. 모델 구축 및 훈련\n"
   ]
  },
  {
   "cell_type": "markdown",
   "metadata": {},
   "source": [
    "**심층 신경망(DNN)**\n",
    "- 심층 신경망(Deep Neural Network)은 여러 층의 노드로 구성된 신경망 구조를 쌓아 학습시키는 AI 알고리즘입니다.\n",
    "\n",
    "    |<b>DNN의 기본구조</b> |\n",
    "    | :--: |\n",
    "    | ![](https://parallelr.com/uploads/2016/02/dnn_architecture.png)|\n",
    "    | (출처:https://parallelr.com/2016/02/13/r-deep-neural-network-from-scratch/)|\n",
    "\n",
    "  \n",
    "- 각 노드는 입력 데이터를 받아 연산 후 결과를 출력하며, 활성화 함수(예: 시그모이드, ReLU)를 통해 비선형 변환을 수행합니다.\n",
    "\n",
    "    |<b>활성화 함수 예: ReLU, sigmoid</b> |\n",
    "    | :--: |\n",
    "    | ![CNC_5](https://github.com/YoungsukHan/Hyundai_equip/assets/44924554/19863edd-d7a5-4d73-8462-cd238e520c82)|\n",
    "\n",
    "- 학습은 경사 하강법을 통해 손실함수(loss function)를 최소화하는 방향으로 진행되며, 분류 문제에서는 주로 이진 교차 엔트로피(binary crossentropy)를 사용합니다.\n",
    "\n",
    "    |<b>이진 교차 엔트로피(binary crossentropy)</b> |\n",
    "    | :--: |\n",
    "    | ![CNC_6](https://github.com/YoungsukHan/Hyundai_equip/assets/44924554/e73cdb2d-da9f-49e9-a414-d364a87bff2c)|\n",
    "\n"
   ]
  },
  {
   "cell_type": "markdown",
   "metadata": {},
   "source": [
    "### DNN 모델 구축"
   ]
  },
  {
   "cell_type": "code",
   "execution_count": 233,
   "metadata": {},
   "outputs": [
    {
     "name": "stderr",
     "output_type": "stream",
     "text": [
      "C:\\Users\\Han\\Miniconda3\\envs\\hyundai_equip_6\\lib\\site-packages\\keras\\src\\layers\\core\\dense.py:87: UserWarning: Do not pass an `input_shape`/`input_dim` argument to a layer. When using Sequential models, prefer using an `Input(shape)` object as the first layer in the model instead.\n",
      "  super().__init__(activity_regularizer=activity_regularizer, **kwargs)\n"
     ]
    },
    {
     "data": {
      "text/html": [
       "<pre style=\"white-space:pre;overflow-x:auto;line-height:normal;font-family:Menlo,'DejaVu Sans Mono',consolas,'Courier New',monospace\"><span style=\"font-weight: bold\">Model: \"sequential_56\"</span>\n",
       "</pre>\n"
      ],
      "text/plain": [
       "\u001b[1mModel: \"sequential_56\"\u001b[0m\n"
      ]
     },
     "metadata": {},
     "output_type": "display_data"
    },
    {
     "data": {
      "text/html": [
       "<pre style=\"white-space:pre;overflow-x:auto;line-height:normal;font-family:Menlo,'DejaVu Sans Mono',consolas,'Courier New',monospace\">┏━━━━━━━━━━━━━━━━━━━━━━━━━━━━━━━━━━━━━━┳━━━━━━━━━━━━━━━━━━━━━━━━━━━━━┳━━━━━━━━━━━━━━━━━┓\n",
       "┃<span style=\"font-weight: bold\"> Layer (type)                         </span>┃<span style=\"font-weight: bold\"> Output Shape                </span>┃<span style=\"font-weight: bold\">         Param # </span>┃\n",
       "┡━━━━━━━━━━━━━━━━━━━━━━━━━━━━━━━━━━━━━━╇━━━━━━━━━━━━━━━━━━━━━━━━━━━━━╇━━━━━━━━━━━━━━━━━┩\n",
       "│ dense_142 (<span style=\"color: #0087ff; text-decoration-color: #0087ff\">Dense</span>)                    │ (<span style=\"color: #00d7ff; text-decoration-color: #00d7ff\">None</span>, <span style=\"color: #00af00; text-decoration-color: #00af00\">64</span>)                  │           <span style=\"color: #00af00; text-decoration-color: #00af00\">3,136</span> │\n",
       "├──────────────────────────────────────┼─────────────────────────────┼─────────────────┤\n",
       "│ dense_143 (<span style=\"color: #0087ff; text-decoration-color: #0087ff\">Dense</span>)                    │ (<span style=\"color: #00d7ff; text-decoration-color: #00d7ff\">None</span>, <span style=\"color: #00af00; text-decoration-color: #00af00\">1</span>)                   │              <span style=\"color: #00af00; text-decoration-color: #00af00\">65</span> │\n",
       "└──────────────────────────────────────┴─────────────────────────────┴─────────────────┘\n",
       "</pre>\n"
      ],
      "text/plain": [
       "┏━━━━━━━━━━━━━━━━━━━━━━━━━━━━━━━━━━━━━━┳━━━━━━━━━━━━━━━━━━━━━━━━━━━━━┳━━━━━━━━━━━━━━━━━┓\n",
       "┃\u001b[1m \u001b[0m\u001b[1mLayer (type)                        \u001b[0m\u001b[1m \u001b[0m┃\u001b[1m \u001b[0m\u001b[1mOutput Shape               \u001b[0m\u001b[1m \u001b[0m┃\u001b[1m \u001b[0m\u001b[1m        Param #\u001b[0m\u001b[1m \u001b[0m┃\n",
       "┡━━━━━━━━━━━━━━━━━━━━━━━━━━━━━━━━━━━━━━╇━━━━━━━━━━━━━━━━━━━━━━━━━━━━━╇━━━━━━━━━━━━━━━━━┩\n",
       "│ dense_142 (\u001b[38;5;33mDense\u001b[0m)                    │ (\u001b[38;5;45mNone\u001b[0m, \u001b[38;5;34m64\u001b[0m)                  │           \u001b[38;5;34m3,136\u001b[0m │\n",
       "├──────────────────────────────────────┼─────────────────────────────┼─────────────────┤\n",
       "│ dense_143 (\u001b[38;5;33mDense\u001b[0m)                    │ (\u001b[38;5;45mNone\u001b[0m, \u001b[38;5;34m1\u001b[0m)                   │              \u001b[38;5;34m65\u001b[0m │\n",
       "└──────────────────────────────────────┴─────────────────────────────┴─────────────────┘\n"
      ]
     },
     "metadata": {},
     "output_type": "display_data"
    },
    {
     "data": {
      "text/html": [
       "<pre style=\"white-space:pre;overflow-x:auto;line-height:normal;font-family:Menlo,'DejaVu Sans Mono',consolas,'Courier New',monospace\"><span style=\"font-weight: bold\"> Total params: </span><span style=\"color: #00af00; text-decoration-color: #00af00\">3,201</span> (12.50 KB)\n",
       "</pre>\n"
      ],
      "text/plain": [
       "\u001b[1m Total params: \u001b[0m\u001b[38;5;34m3,201\u001b[0m (12.50 KB)\n"
      ]
     },
     "metadata": {},
     "output_type": "display_data"
    },
    {
     "data": {
      "text/html": [
       "<pre style=\"white-space:pre;overflow-x:auto;line-height:normal;font-family:Menlo,'DejaVu Sans Mono',consolas,'Courier New',monospace\"><span style=\"font-weight: bold\"> Trainable params: </span><span style=\"color: #00af00; text-decoration-color: #00af00\">3,201</span> (12.50 KB)\n",
       "</pre>\n"
      ],
      "text/plain": [
       "\u001b[1m Trainable params: \u001b[0m\u001b[38;5;34m3,201\u001b[0m (12.50 KB)\n"
      ]
     },
     "metadata": {},
     "output_type": "display_data"
    },
    {
     "data": {
      "text/html": [
       "<pre style=\"white-space:pre;overflow-x:auto;line-height:normal;font-family:Menlo,'DejaVu Sans Mono',consolas,'Courier New',monospace\"><span style=\"font-weight: bold\"> Non-trainable params: </span><span style=\"color: #00af00; text-decoration-color: #00af00\">0</span> (0.00 B)\n",
       "</pre>\n"
      ],
      "text/plain": [
       "\u001b[1m Non-trainable params: \u001b[0m\u001b[38;5;34m0\u001b[0m (0.00 B)\n"
      ]
     },
     "metadata": {},
     "output_type": "display_data"
    }
   ],
   "source": []
  },
  {
   "cell_type": "markdown",
   "metadata": {},
   "source": [
    "#### 모델 학습"
   ]
  },
  {
   "cell_type": "code",
   "execution_count": 234,
   "metadata": {},
   "outputs": [
    {
     "name": "stdout",
     "output_type": "stream",
     "text": [
      "Epoch 1/30\n",
      "\u001b[1m19/19\u001b[0m \u001b[32m━━━━━━━━━━━━━━━━━━━━\u001b[0m\u001b[37m\u001b[0m \u001b[1m1s\u001b[0m 8ms/step - accuracy: 0.5515 - loss: 0.6690 - val_accuracy: 0.7066 - val_loss: 0.5546\n",
      "Epoch 2/30\n",
      "\u001b[1m19/19\u001b[0m \u001b[32m━━━━━━━━━━━━━━━━━━━━\u001b[0m\u001b[37m\u001b[0m \u001b[1m0s\u001b[0m 2ms/step - accuracy: 0.7014 - loss: 0.5480 - val_accuracy: 0.7370 - val_loss: 0.5302\n",
      "Epoch 3/30\n",
      "\u001b[1m19/19\u001b[0m \u001b[32m━━━━━━━━━━━━━━━━━━━━\u001b[0m\u001b[37m\u001b[0m \u001b[1m0s\u001b[0m 2ms/step - accuracy: 0.7342 - loss: 0.5250 - val_accuracy: 0.7348 - val_loss: 0.5162\n",
      "Epoch 4/30\n",
      "\u001b[1m19/19\u001b[0m \u001b[32m━━━━━━━━━━━━━━━━━━━━\u001b[0m\u001b[37m\u001b[0m \u001b[1m0s\u001b[0m 3ms/step - accuracy: 0.7434 - loss: 0.5111 - val_accuracy: 0.7488 - val_loss: 0.5017\n",
      "Epoch 5/30\n",
      "\u001b[1m19/19\u001b[0m \u001b[32m━━━━━━━━━━━━━━━━━━━━\u001b[0m\u001b[37m\u001b[0m \u001b[1m0s\u001b[0m 3ms/step - accuracy: 0.7520 - loss: 0.4965 - val_accuracy: 0.7566 - val_loss: 0.4870\n",
      "Epoch 6/30\n",
      "\u001b[1m19/19\u001b[0m \u001b[32m━━━━━━━━━━━━━━━━━━━━\u001b[0m\u001b[37m\u001b[0m \u001b[1m0s\u001b[0m 2ms/step - accuracy: 0.7604 - loss: 0.4813 - val_accuracy: 0.7557 - val_loss: 0.4718\n",
      "Epoch 7/30\n",
      "\u001b[1m19/19\u001b[0m \u001b[32m━━━━━━━━━━━━━━━━━━━━\u001b[0m\u001b[37m\u001b[0m \u001b[1m0s\u001b[0m 2ms/step - accuracy: 0.7613 - loss: 0.4659 - val_accuracy: 0.7607 - val_loss: 0.4571\n",
      "Epoch 8/30\n",
      "\u001b[1m19/19\u001b[0m \u001b[32m━━━━━━━━━━━━━━━━━━━━\u001b[0m\u001b[37m\u001b[0m \u001b[1m0s\u001b[0m 2ms/step - accuracy: 0.7650 - loss: 0.4512 - val_accuracy: 0.7704 - val_loss: 0.4434\n",
      "Epoch 9/30\n",
      "\u001b[1m19/19\u001b[0m \u001b[32m━━━━━━━━━━━━━━━━━━━━\u001b[0m\u001b[37m\u001b[0m \u001b[1m0s\u001b[0m 2ms/step - accuracy: 0.7729 - loss: 0.4372 - val_accuracy: 0.7816 - val_loss: 0.4306\n",
      "Epoch 10/30\n",
      "\u001b[1m19/19\u001b[0m \u001b[32m━━━━━━━━━━━━━━━━━━━━\u001b[0m\u001b[37m\u001b[0m \u001b[1m0s\u001b[0m 3ms/step - accuracy: 0.7807 - loss: 0.4241 - val_accuracy: 0.7917 - val_loss: 0.4186\n",
      "Epoch 11/30\n",
      "\u001b[1m19/19\u001b[0m \u001b[32m━━━━━━━━━━━━━━━━━━━━\u001b[0m\u001b[37m\u001b[0m \u001b[1m0s\u001b[0m 2ms/step - accuracy: 0.7893 - loss: 0.4119 - val_accuracy: 0.8023 - val_loss: 0.4075\n",
      "Epoch 12/30\n",
      "\u001b[1m19/19\u001b[0m \u001b[32m━━━━━━━━━━━━━━━━━━━━\u001b[0m\u001b[37m\u001b[0m \u001b[1m0s\u001b[0m 2ms/step - accuracy: 0.8006 - loss: 0.4004 - val_accuracy: 0.8055 - val_loss: 0.3973\n",
      "Epoch 13/30\n",
      "\u001b[1m19/19\u001b[0m \u001b[32m━━━━━━━━━━━━━━━━━━━━\u001b[0m\u001b[37m\u001b[0m \u001b[1m0s\u001b[0m 2ms/step - accuracy: 0.8078 - loss: 0.3900 - val_accuracy: 0.8117 - val_loss: 0.3880\n",
      "Epoch 14/30\n",
      "\u001b[1m19/19\u001b[0m \u001b[32m━━━━━━━━━━━━━━━━━━━━\u001b[0m\u001b[37m\u001b[0m \u001b[1m0s\u001b[0m 3ms/step - accuracy: 0.8143 - loss: 0.3805 - val_accuracy: 0.8139 - val_loss: 0.3794\n",
      "Epoch 15/30\n",
      "\u001b[1m19/19\u001b[0m \u001b[32m━━━━━━━━━━━━━━━━━━━━\u001b[0m\u001b[37m\u001b[0m \u001b[1m0s\u001b[0m 3ms/step - accuracy: 0.8182 - loss: 0.3718 - val_accuracy: 0.8203 - val_loss: 0.3716\n",
      "Epoch 16/30\n",
      "\u001b[1m19/19\u001b[0m \u001b[32m━━━━━━━━━━━━━━━━━━━━\u001b[0m\u001b[37m\u001b[0m \u001b[1m0s\u001b[0m 2ms/step - accuracy: 0.8201 - loss: 0.3639 - val_accuracy: 0.8285 - val_loss: 0.3642\n",
      "Epoch 17/30\n",
      "\u001b[1m19/19\u001b[0m \u001b[32m━━━━━━━━━━━━━━━━━━━━\u001b[0m\u001b[37m\u001b[0m \u001b[1m0s\u001b[0m 3ms/step - accuracy: 0.8225 - loss: 0.3566 - val_accuracy: 0.8293 - val_loss: 0.3573\n",
      "Epoch 18/30\n",
      "\u001b[1m19/19\u001b[0m \u001b[32m━━━━━━━━━━━━━━━━━━━━\u001b[0m\u001b[37m\u001b[0m \u001b[1m0s\u001b[0m 3ms/step - accuracy: 0.8296 - loss: 0.3497 - val_accuracy: 0.8317 - val_loss: 0.3509\n",
      "Epoch 19/30\n",
      "\u001b[1m19/19\u001b[0m \u001b[32m━━━━━━━━━━━━━━━━━━━━\u001b[0m\u001b[37m\u001b[0m \u001b[1m0s\u001b[0m 3ms/step - accuracy: 0.8336 - loss: 0.3434 - val_accuracy: 0.8354 - val_loss: 0.3448\n",
      "Epoch 20/30\n",
      "\u001b[1m19/19\u001b[0m \u001b[32m━━━━━━━━━━━━━━━━━━━━\u001b[0m\u001b[37m\u001b[0m \u001b[1m0s\u001b[0m 3ms/step - accuracy: 0.8381 - loss: 0.3375 - val_accuracy: 0.8388 - val_loss: 0.3390\n",
      "Epoch 21/30\n",
      "\u001b[1m19/19\u001b[0m \u001b[32m━━━━━━━━━━━━━━━━━━━━\u001b[0m\u001b[37m\u001b[0m \u001b[1m0s\u001b[0m 3ms/step - accuracy: 0.8416 - loss: 0.3320 - val_accuracy: 0.8404 - val_loss: 0.3336\n",
      "Epoch 22/30\n",
      "\u001b[1m19/19\u001b[0m \u001b[32m━━━━━━━━━━━━━━━━━━━━\u001b[0m\u001b[37m\u001b[0m \u001b[1m0s\u001b[0m 3ms/step - accuracy: 0.8439 - loss: 0.3268 - val_accuracy: 0.8474 - val_loss: 0.3284\n",
      "Epoch 23/30\n",
      "\u001b[1m19/19\u001b[0m \u001b[32m━━━━━━━━━━━━━━━━━━━━\u001b[0m\u001b[37m\u001b[0m \u001b[1m0s\u001b[0m 3ms/step - accuracy: 0.8449 - loss: 0.3220 - val_accuracy: 0.8512 - val_loss: 0.3236\n",
      "Epoch 24/30\n",
      "\u001b[1m19/19\u001b[0m \u001b[32m━━━━━━━━━━━━━━━━━━━━\u001b[0m\u001b[37m\u001b[0m \u001b[1m0s\u001b[0m 2ms/step - accuracy: 0.8476 - loss: 0.3173 - val_accuracy: 0.8530 - val_loss: 0.3190\n",
      "Epoch 25/30\n",
      "\u001b[1m19/19\u001b[0m \u001b[32m━━━━━━━━━━━━━━━━━━━━\u001b[0m\u001b[37m\u001b[0m \u001b[1m0s\u001b[0m 3ms/step - accuracy: 0.8495 - loss: 0.3129 - val_accuracy: 0.8557 - val_loss: 0.3146\n",
      "Epoch 26/30\n",
      "\u001b[1m19/19\u001b[0m \u001b[32m━━━━━━━━━━━━━━━━━━━━\u001b[0m\u001b[37m\u001b[0m \u001b[1m0s\u001b[0m 3ms/step - accuracy: 0.8516 - loss: 0.3088 - val_accuracy: 0.8573 - val_loss: 0.3105\n",
      "Epoch 27/30\n",
      "\u001b[1m19/19\u001b[0m \u001b[32m━━━━━━━━━━━━━━━━━━━━\u001b[0m\u001b[37m\u001b[0m \u001b[1m0s\u001b[0m 2ms/step - accuracy: 0.8533 - loss: 0.3048 - val_accuracy: 0.8582 - val_loss: 0.3068\n",
      "Epoch 28/30\n",
      "\u001b[1m19/19\u001b[0m \u001b[32m━━━━━━━━━━━━━━━━━━━━\u001b[0m\u001b[37m\u001b[0m \u001b[1m0s\u001b[0m 2ms/step - accuracy: 0.8556 - loss: 0.3010 - val_accuracy: 0.8601 - val_loss: 0.3031\n",
      "Epoch 29/30\n",
      "\u001b[1m19/19\u001b[0m \u001b[32m━━━━━━━━━━━━━━━━━━━━\u001b[0m\u001b[37m\u001b[0m \u001b[1m0s\u001b[0m 2ms/step - accuracy: 0.8568 - loss: 0.2974 - val_accuracy: 0.8629 - val_loss: 0.2997\n",
      "Epoch 30/30\n",
      "\u001b[1m19/19\u001b[0m \u001b[32m━━━━━━━━━━━━━━━━━━━━\u001b[0m\u001b[37m\u001b[0m \u001b[1m0s\u001b[0m 3ms/step - accuracy: 0.8585 - loss: 0.2940 - val_accuracy: 0.8661 - val_loss: 0.2966\n"
     ]
    }
   ],
   "source": []
  },
  {
   "cell_type": "markdown",
   "metadata": {},
   "source": [
    "#### 손실 그래프 시각화"
   ]
  },
  {
   "cell_type": "code",
   "execution_count": 235,
   "metadata": {},
   "outputs": [
    {
     "data": {
      "image/png": "[encoded data removed]",
      "text/plain": [
       "<Figure size 640x480 with 1 Axes>"
      ]
     },
     "metadata": {},
     "output_type": "display_data"
    }
   ],
   "source": []
  },
  {
   "cell_type": "markdown",
   "metadata": {
    "id": "BYq8JLs3-phY"
   },
   "source": [
    "### 2-5. 모델 평가\n"
   ]
  },
  {
   "cell_type": "code",
   "execution_count": 236,
   "metadata": {
    "scrolled": true
   },
   "outputs": [
    {
     "name": "stdout",
     "output_type": "stream",
     "text": [
      "\u001b[1m201/201\u001b[0m \u001b[32m━━━━━━━━━━━━━━━━━━━━\u001b[0m\u001b[37m\u001b[0m \u001b[1m0s\u001b[0m 1ms/step\n",
      "              precision    recall  f1-score   support\n",
      "\n",
      "         0.0       0.78      0.74      0.76      1881\n",
      "         1.0       0.89      0.91      0.90      4529\n",
      "\n",
      "    accuracy                           0.86      6410\n",
      "   macro avg       0.84      0.83      0.83      6410\n",
      "weighted avg       0.86      0.86      0.86      6410\n",
      "\n",
      "[[1391  490]\n",
      " [ 392 4137]]\n"
     ]
    },
    {
     "data": {
      "image/png": "[encoded data removed]",
      "text/plain": [
       "<Figure size 640x480 with 2 Axes>"
      ]
     },
     "metadata": {},
     "output_type": "display_data"
    }
   ],
   "source": []
  },
  {
   "cell_type": "code",
   "execution_count": 237,
   "metadata": {
    "scrolled": true
   },
   "outputs": [
    {
     "name": "stdout",
     "output_type": "stream",
     "text": [
      "Accuracy: 0.8624\n",
      "F1 Score: 0.8613\n"
     ]
    }
   ],
   "source": []
  },
  {
   "cell_type": "markdown",
   "metadata": {},
   "source": [
    "### 모델링 수정 - 레이어 구조 변경(레이어 추가)"
   ]
  },
  {
   "cell_type": "code",
   "execution_count": 238,
   "metadata": {},
   "outputs": [
    {
     "name": "stdout",
     "output_type": "stream",
     "text": [
      "Epoch 1/30\n"
     ]
    },
    {
     "name": "stderr",
     "output_type": "stream",
     "text": [
      "C:\\Users\\Han\\Miniconda3\\envs\\hyundai_equip_6\\lib\\site-packages\\keras\\src\\layers\\core\\dense.py:87: UserWarning: Do not pass an `input_shape`/`input_dim` argument to a layer. When using Sequential models, prefer using an `Input(shape)` object as the first layer in the model instead.\n",
      "  super().__init__(activity_regularizer=activity_regularizer, **kwargs)\n"
     ]
    },
    {
     "name": "stdout",
     "output_type": "stream",
     "text": [
      "\u001b[1m19/19\u001b[0m \u001b[32m━━━━━━━━━━━━━━━━━━━━\u001b[0m\u001b[37m\u001b[0m \u001b[1m1s\u001b[0m 10ms/step - accuracy: 0.6601 - loss: 0.6026 - val_accuracy: 0.7462 - val_loss: 0.5079\n",
      "Epoch 2/30\n",
      "\u001b[1m19/19\u001b[0m \u001b[32m━━━━━━━━━━━━━━━━━━━━\u001b[0m\u001b[37m\u001b[0m \u001b[1m0s\u001b[0m 3ms/step - accuracy: 0.7610 - loss: 0.4831 - val_accuracy: 0.8086 - val_loss: 0.4143\n",
      "Epoch 3/30\n",
      "\u001b[1m19/19\u001b[0m \u001b[32m━━━━━━━━━━━━━━━━━━━━\u001b[0m\u001b[37m\u001b[0m \u001b[1m0s\u001b[0m 4ms/step - accuracy: 0.8087 - loss: 0.3893 - val_accuracy: 0.8381 - val_loss: 0.3471\n",
      "Epoch 4/30\n",
      "\u001b[1m19/19\u001b[0m \u001b[32m━━━━━━━━━━━━━━━━━━━━\u001b[0m\u001b[37m\u001b[0m \u001b[1m0s\u001b[0m 4ms/step - accuracy: 0.8469 - loss: 0.3320 - val_accuracy: 0.8520 - val_loss: 0.3083\n",
      "Epoch 5/30\n",
      "\u001b[1m19/19\u001b[0m \u001b[32m━━━━━━━━━━━━━━━━━━━━\u001b[0m\u001b[37m\u001b[0m \u001b[1m0s\u001b[0m 4ms/step - accuracy: 0.8668 - loss: 0.2953 - val_accuracy: 0.8749 - val_loss: 0.2740\n",
      "Epoch 6/30\n",
      "\u001b[1m19/19\u001b[0m \u001b[32m━━━━━━━━━━━━━━━━━━━━\u001b[0m\u001b[37m\u001b[0m \u001b[1m0s\u001b[0m 3ms/step - accuracy: 0.8824 - loss: 0.2601 - val_accuracy: 0.8963 - val_loss: 0.2408\n",
      "Epoch 7/30\n",
      "\u001b[1m19/19\u001b[0m \u001b[32m━━━━━━━━━━━━━━━━━━━━\u001b[0m\u001b[37m\u001b[0m \u001b[1m0s\u001b[0m 3ms/step - accuracy: 0.8999 - loss: 0.2289 - val_accuracy: 0.9080 - val_loss: 0.2248\n",
      "Epoch 8/30\n",
      "\u001b[1m19/19\u001b[0m \u001b[32m━━━━━━━━━━━━━━━━━━━━\u001b[0m\u001b[37m\u001b[0m \u001b[1m0s\u001b[0m 4ms/step - accuracy: 0.9139 - loss: 0.2045 - val_accuracy: 0.9139 - val_loss: 0.2018\n",
      "Epoch 9/30\n",
      "\u001b[1m19/19\u001b[0m \u001b[32m━━━━━━━━━━━━━━━━━━━━\u001b[0m\u001b[37m\u001b[0m \u001b[1m0s\u001b[0m 3ms/step - accuracy: 0.9230 - loss: 0.1839 - val_accuracy: 0.9170 - val_loss: 0.1918\n",
      "Epoch 10/30\n",
      "\u001b[1m19/19\u001b[0m \u001b[32m━━━━━━━━━━━━━━━━━━━━\u001b[0m\u001b[37m\u001b[0m \u001b[1m0s\u001b[0m 3ms/step - accuracy: 0.9269 - loss: 0.1702 - val_accuracy: 0.9207 - val_loss: 0.1774\n",
      "Epoch 11/30\n",
      "\u001b[1m19/19\u001b[0m \u001b[32m━━━━━━━━━━━━━━━━━━━━\u001b[0m\u001b[37m\u001b[0m \u001b[1m0s\u001b[0m 3ms/step - accuracy: 0.9306 - loss: 0.1591 - val_accuracy: 0.9256 - val_loss: 0.1666\n",
      "Epoch 12/30\n",
      "\u001b[1m19/19\u001b[0m \u001b[32m━━━━━━━━━━━━━━━━━━━━\u001b[0m\u001b[37m\u001b[0m \u001b[1m0s\u001b[0m 3ms/step - accuracy: 0.9338 - loss: 0.1489 - val_accuracy: 0.9256 - val_loss: 0.1651\n",
      "Epoch 13/30\n",
      "\u001b[1m19/19\u001b[0m \u001b[32m━━━━━━━━━━━━━━━━━━━━\u001b[0m\u001b[37m\u001b[0m \u001b[1m0s\u001b[0m 3ms/step - accuracy: 0.9365 - loss: 0.1425 - val_accuracy: 0.9273 - val_loss: 0.1591\n",
      "Epoch 14/30\n",
      "\u001b[1m19/19\u001b[0m \u001b[32m━━━━━━━━━━━━━━━━━━━━\u001b[0m\u001b[37m\u001b[0m \u001b[1m0s\u001b[0m 3ms/step - accuracy: 0.9382 - loss: 0.1380 - val_accuracy: 0.9290 - val_loss: 0.1532\n",
      "Epoch 15/30\n",
      "\u001b[1m19/19\u001b[0m \u001b[32m━━━━━━━━━━━━━━━━━━━━\u001b[0m\u001b[37m\u001b[0m \u001b[1m0s\u001b[0m 3ms/step - accuracy: 0.9405 - loss: 0.1326 - val_accuracy: 0.9309 - val_loss: 0.1513\n",
      "Epoch 16/30\n",
      "\u001b[1m19/19\u001b[0m \u001b[32m━━━━━━━━━━━━━━━━━━━━\u001b[0m\u001b[37m\u001b[0m \u001b[1m0s\u001b[0m 4ms/step - accuracy: 0.9411 - loss: 0.1284 - val_accuracy: 0.9320 - val_loss: 0.1482\n",
      "Epoch 17/30\n",
      "\u001b[1m19/19\u001b[0m \u001b[32m━━━━━━━━━━━━━━━━━━━━\u001b[0m\u001b[37m\u001b[0m \u001b[1m0s\u001b[0m 4ms/step - accuracy: 0.9427 - loss: 0.1252 - val_accuracy: 0.9337 - val_loss: 0.1451\n",
      "Epoch 18/30\n",
      "\u001b[1m19/19\u001b[0m \u001b[32m━━━━━━━━━━━━━━━━━━━━\u001b[0m\u001b[37m\u001b[0m \u001b[1m0s\u001b[0m 4ms/step - accuracy: 0.9444 - loss: 0.1218 - val_accuracy: 0.9345 - val_loss: 0.1428\n",
      "Epoch 19/30\n",
      "\u001b[1m19/19\u001b[0m \u001b[32m━━━━━━━━━━━━━━━━━━━━\u001b[0m\u001b[37m\u001b[0m \u001b[1m0s\u001b[0m 4ms/step - accuracy: 0.9450 - loss: 0.1185 - val_accuracy: 0.9354 - val_loss: 0.1401\n",
      "Epoch 20/30\n",
      "\u001b[1m19/19\u001b[0m \u001b[32m━━━━━━━━━━━━━━━━━━━━\u001b[0m\u001b[37m\u001b[0m \u001b[1m0s\u001b[0m 3ms/step - accuracy: 0.9462 - loss: 0.1157 - val_accuracy: 0.9367 - val_loss: 0.1368\n",
      "Epoch 21/30\n",
      "\u001b[1m19/19\u001b[0m \u001b[32m━━━━━━━━━━━━━━━━━━━━\u001b[0m\u001b[37m\u001b[0m \u001b[1m0s\u001b[0m 4ms/step - accuracy: 0.9471 - loss: 0.1133 - val_accuracy: 0.9387 - val_loss: 0.1337\n",
      "Epoch 22/30\n",
      "\u001b[1m19/19\u001b[0m \u001b[32m━━━━━━━━━━━━━━━━━━━━\u001b[0m\u001b[37m\u001b[0m \u001b[1m0s\u001b[0m 3ms/step - accuracy: 0.9485 - loss: 0.1110 - val_accuracy: 0.9382 - val_loss: 0.1313\n",
      "Epoch 23/30\n",
      "\u001b[1m19/19\u001b[0m \u001b[32m━━━━━━━━━━━━━━━━━━━━\u001b[0m\u001b[37m\u001b[0m \u001b[1m0s\u001b[0m 3ms/step - accuracy: 0.9487 - loss: 0.1083 - val_accuracy: 0.9395 - val_loss: 0.1288\n",
      "Epoch 24/30\n",
      "\u001b[1m19/19\u001b[0m \u001b[32m━━━━━━━━━━━━━━━━━━━━\u001b[0m\u001b[37m\u001b[0m \u001b[1m0s\u001b[0m 3ms/step - accuracy: 0.9503 - loss: 0.1060 - val_accuracy: 0.9406 - val_loss: 0.1269\n",
      "Epoch 25/30\n",
      "\u001b[1m19/19\u001b[0m \u001b[32m━━━━━━━━━━━━━━━━━━━━\u001b[0m\u001b[37m\u001b[0m \u001b[1m0s\u001b[0m 3ms/step - accuracy: 0.9506 - loss: 0.1039 - val_accuracy: 0.9417 - val_loss: 0.1232\n",
      "Epoch 26/30\n",
      "\u001b[1m19/19\u001b[0m \u001b[32m━━━━━━━━━━━━━━━━━━━━\u001b[0m\u001b[37m\u001b[0m \u001b[1m0s\u001b[0m 3ms/step - accuracy: 0.9510 - loss: 0.1018 - val_accuracy: 0.9431 - val_loss: 0.1226\n",
      "Epoch 27/30\n",
      "\u001b[1m19/19\u001b[0m \u001b[32m━━━━━━━━━━━━━━━━━━━━\u001b[0m\u001b[37m\u001b[0m \u001b[1m0s\u001b[0m 3ms/step - accuracy: 0.9521 - loss: 0.0997 - val_accuracy: 0.9440 - val_loss: 0.1193\n",
      "Epoch 28/30\n",
      "\u001b[1m19/19\u001b[0m \u001b[32m━━━━━━━━━━━━━━━━━━━━\u001b[0m\u001b[37m\u001b[0m \u001b[1m0s\u001b[0m 3ms/step - accuracy: 0.9537 - loss: 0.0976 - val_accuracy: 0.9448 - val_loss: 0.1175\n",
      "Epoch 29/30\n",
      "\u001b[1m19/19\u001b[0m \u001b[32m━━━━━━━━━━━━━━━━━━━━\u001b[0m\u001b[37m\u001b[0m \u001b[1m0s\u001b[0m 3ms/step - accuracy: 0.9543 - loss: 0.0958 - val_accuracy: 0.9446 - val_loss: 0.1152\n",
      "Epoch 30/30\n",
      "\u001b[1m19/19\u001b[0m \u001b[32m━━━━━━━━━━━━━━━━━━━━\u001b[0m\u001b[37m\u001b[0m \u001b[1m0s\u001b[0m 3ms/step - accuracy: 0.9552 - loss: 0.0939 - val_accuracy: 0.9445 - val_loss: 0.1136\n"
     ]
    },
    {
     "data": {
      "image/png": "[encoded data removed]",
      "text/plain": [
       "<Figure size 640x480 with 1 Axes>"
      ]
     },
     "metadata": {},
     "output_type": "display_data"
    },
    {
     "name": "stdout",
     "output_type": "stream",
     "text": [
      "\u001b[1m201/201\u001b[0m \u001b[32m━━━━━━━━━━━━━━━━━━━━\u001b[0m\u001b[37m\u001b[0m \u001b[1m0s\u001b[0m 724us/step\n",
      "초기 모델 Accuracy: 0.8624\n",
      "초기 모델 F1 Score: 0.8613\n",
      "변경 후 Accuracy: 0.9557\n",
      "변경 후 F1 Score: 0.9558\n"
     ]
    }
   ],
   "source": []
  },
  {
   "cell_type": "markdown",
   "metadata": {},
   "source": [
    "### 모델링 수정 - Activation 함수 변경"
   ]
  },
  {
   "cell_type": "code",
   "execution_count": 239,
   "metadata": {},
   "outputs": [
    {
     "name": "stdout",
     "output_type": "stream",
     "text": [
      "Epoch 1/30\n"
     ]
    },
    {
     "name": "stderr",
     "output_type": "stream",
     "text": [
      "C:\\Users\\Han\\Miniconda3\\envs\\hyundai_equip_6\\lib\\site-packages\\keras\\src\\layers\\core\\dense.py:87: UserWarning: Do not pass an `input_shape`/`input_dim` argument to a layer. When using Sequential models, prefer using an `Input(shape)` object as the first layer in the model instead.\n",
      "  super().__init__(activity_regularizer=activity_regularizer, **kwargs)\n"
     ]
    },
    {
     "name": "stdout",
     "output_type": "stream",
     "text": [
      "\u001b[1m19/19\u001b[0m \u001b[32m━━━━━━━━━━━━━━━━━━━━\u001b[0m\u001b[37m\u001b[0m \u001b[1m1s\u001b[0m 8ms/step - accuracy: 0.7021 - loss: 0.6127 - val_accuracy: 0.7066 - val_loss: 0.5842\n",
      "Epoch 2/30\n",
      "\u001b[1m19/19\u001b[0m \u001b[32m━━━━━━━━━━━━━━━━━━━━\u001b[0m\u001b[37m\u001b[0m \u001b[1m0s\u001b[0m 2ms/step - accuracy: 0.7021 - loss: 0.5814 - val_accuracy: 0.7066 - val_loss: 0.5635\n",
      "Epoch 3/30\n",
      "\u001b[1m19/19\u001b[0m \u001b[32m━━━━━━━━━━━━━━━━━━━━\u001b[0m\u001b[37m\u001b[0m \u001b[1m0s\u001b[0m 3ms/step - accuracy: 0.7020 - loss: 0.5614 - val_accuracy: 0.6992 - val_loss: 0.5499\n",
      "Epoch 4/30\n",
      "\u001b[1m19/19\u001b[0m \u001b[32m━━━━━━━━━━━━━━━━━━━━\u001b[0m\u001b[37m\u001b[0m \u001b[1m0s\u001b[0m 3ms/step - accuracy: 0.7022 - loss: 0.5480 - val_accuracy: 0.7058 - val_loss: 0.5406\n",
      "Epoch 5/30\n",
      "\u001b[1m19/19\u001b[0m \u001b[32m━━━━━━━━━━━━━━━━━━━━\u001b[0m\u001b[37m\u001b[0m \u001b[1m0s\u001b[0m 3ms/step - accuracy: 0.7047 - loss: 0.5388 - val_accuracy: 0.7048 - val_loss: 0.5336\n",
      "Epoch 6/30\n",
      "\u001b[1m19/19\u001b[0m \u001b[32m━━━━━━━━━━━━━━━━━━━━\u001b[0m\u001b[37m\u001b[0m \u001b[1m0s\u001b[0m 3ms/step - accuracy: 0.7053 - loss: 0.5316 - val_accuracy: 0.7073 - val_loss: 0.5275\n",
      "Epoch 7/30\n",
      "\u001b[1m19/19\u001b[0m \u001b[32m━━━━━━━━━━━━━━━━━━━━\u001b[0m\u001b[37m\u001b[0m \u001b[1m0s\u001b[0m 3ms/step - accuracy: 0.7082 - loss: 0.5254 - val_accuracy: 0.7106 - val_loss: 0.5217\n",
      "Epoch 8/30\n",
      "\u001b[1m19/19\u001b[0m \u001b[32m━━━━━━━━━━━━━━━━━━━━\u001b[0m\u001b[37m\u001b[0m \u001b[1m0s\u001b[0m 3ms/step - accuracy: 0.7096 - loss: 0.5195 - val_accuracy: 0.7126 - val_loss: 0.5158\n",
      "Epoch 9/30\n",
      "\u001b[1m19/19\u001b[0m \u001b[32m━━━━━━━━━━━━━━━━━━━━\u001b[0m\u001b[37m\u001b[0m \u001b[1m0s\u001b[0m 2ms/step - accuracy: 0.7135 - loss: 0.5135 - val_accuracy: 0.7165 - val_loss: 0.5098\n",
      "Epoch 10/30\n",
      "\u001b[1m19/19\u001b[0m \u001b[32m━━━━━━━━━━━━━━━━━━━━\u001b[0m\u001b[37m\u001b[0m \u001b[1m0s\u001b[0m 3ms/step - accuracy: 0.7191 - loss: 0.5075 - val_accuracy: 0.7206 - val_loss: 0.5037\n",
      "Epoch 11/30\n",
      "\u001b[1m19/19\u001b[0m \u001b[32m━━━━━━━━━━━━━━━━━━━━\u001b[0m\u001b[37m\u001b[0m \u001b[1m0s\u001b[0m 2ms/step - accuracy: 0.7238 - loss: 0.5014 - val_accuracy: 0.7282 - val_loss: 0.4976\n",
      "Epoch 12/30\n",
      "\u001b[1m19/19\u001b[0m \u001b[32m━━━━━━━━━━━━━━━━━━━━\u001b[0m\u001b[37m\u001b[0m \u001b[1m0s\u001b[0m 2ms/step - accuracy: 0.7317 - loss: 0.4952 - val_accuracy: 0.7349 - val_loss: 0.4914\n",
      "Epoch 13/30\n",
      "\u001b[1m19/19\u001b[0m \u001b[32m━━━━━━━━━━━━━━━━━━━━\u001b[0m\u001b[37m\u001b[0m \u001b[1m0s\u001b[0m 2ms/step - accuracy: 0.7394 - loss: 0.4890 - val_accuracy: 0.7399 - val_loss: 0.4853\n",
      "Epoch 14/30\n",
      "\u001b[1m19/19\u001b[0m \u001b[32m━━━━━━━━━━━━━━━━━━━━\u001b[0m\u001b[37m\u001b[0m \u001b[1m0s\u001b[0m 2ms/step - accuracy: 0.7432 - loss: 0.4828 - val_accuracy: 0.7404 - val_loss: 0.4791\n",
      "Epoch 15/30\n",
      "\u001b[1m19/19\u001b[0m \u001b[32m━━━━━━━━━━━━━━━━━━━━\u001b[0m\u001b[37m\u001b[0m \u001b[1m0s\u001b[0m 2ms/step - accuracy: 0.7432 - loss: 0.4766 - val_accuracy: 0.7398 - val_loss: 0.4730\n",
      "Epoch 16/30\n",
      "\u001b[1m19/19\u001b[0m \u001b[32m━━━━━━━━━━━━━━━━━━━━\u001b[0m\u001b[37m\u001b[0m \u001b[1m0s\u001b[0m 3ms/step - accuracy: 0.7450 - loss: 0.4705 - val_accuracy: 0.7402 - val_loss: 0.4669\n",
      "Epoch 17/30\n",
      "\u001b[1m19/19\u001b[0m \u001b[32m━━━━━━━━━━━━━━━━━━━━\u001b[0m\u001b[37m\u001b[0m \u001b[1m0s\u001b[0m 3ms/step - accuracy: 0.7469 - loss: 0.4644 - val_accuracy: 0.7482 - val_loss: 0.4609\n",
      "Epoch 18/30\n",
      "\u001b[1m19/19\u001b[0m \u001b[32m━━━━━━━━━━━━━━━━━━━━\u001b[0m\u001b[37m\u001b[0m \u001b[1m0s\u001b[0m 3ms/step - accuracy: 0.7527 - loss: 0.4584 - val_accuracy: 0.7559 - val_loss: 0.4550\n",
      "Epoch 19/30\n",
      "\u001b[1m19/19\u001b[0m \u001b[32m━━━━━━━━━━━━━━━━━━━━\u001b[0m\u001b[37m\u001b[0m \u001b[1m0s\u001b[0m 3ms/step - accuracy: 0.7585 - loss: 0.4525 - val_accuracy: 0.7646 - val_loss: 0.4492\n",
      "Epoch 20/30\n",
      "\u001b[1m19/19\u001b[0m \u001b[32m━━━━━━━━━━━━━━━━━━━━\u001b[0m\u001b[37m\u001b[0m \u001b[1m0s\u001b[0m 7ms/step - accuracy: 0.7620 - loss: 0.4468 - val_accuracy: 0.7683 - val_loss: 0.4436\n",
      "Epoch 21/30\n",
      "\u001b[1m19/19\u001b[0m \u001b[32m━━━━━━━━━━━━━━━━━━━━\u001b[0m\u001b[37m\u001b[0m \u001b[1m0s\u001b[0m 3ms/step - accuracy: 0.7639 - loss: 0.4412 - val_accuracy: 0.7722 - val_loss: 0.4382\n",
      "Epoch 22/30\n",
      "\u001b[1m19/19\u001b[0m \u001b[32m━━━━━━━━━━━━━━━━━━━━\u001b[0m\u001b[37m\u001b[0m \u001b[1m0s\u001b[0m 3ms/step - accuracy: 0.7669 - loss: 0.4358 - val_accuracy: 0.7760 - val_loss: 0.4329\n",
      "Epoch 23/30\n",
      "\u001b[1m19/19\u001b[0m \u001b[32m━━━━━━━━━━━━━━━━━━━━\u001b[0m\u001b[37m\u001b[0m \u001b[1m0s\u001b[0m 3ms/step - accuracy: 0.7711 - loss: 0.4306 - val_accuracy: 0.7799 - val_loss: 0.4278\n",
      "Epoch 24/30\n",
      "\u001b[1m19/19\u001b[0m \u001b[32m━━━━━━━━━━━━━━━━━━━━\u001b[0m\u001b[37m\u001b[0m \u001b[1m0s\u001b[0m 2ms/step - accuracy: 0.7744 - loss: 0.4255 - val_accuracy: 0.7844 - val_loss: 0.4229\n",
      "Epoch 25/30\n",
      "\u001b[1m19/19\u001b[0m \u001b[32m━━━━━━━━━━━━━━━━━━━━\u001b[0m\u001b[37m\u001b[0m \u001b[1m0s\u001b[0m 3ms/step - accuracy: 0.7799 - loss: 0.4207 - val_accuracy: 0.7900 - val_loss: 0.4182\n",
      "Epoch 26/30\n",
      "\u001b[1m19/19\u001b[0m \u001b[32m━━━━━━━━━━━━━━━━━━━━\u001b[0m\u001b[37m\u001b[0m \u001b[1m0s\u001b[0m 3ms/step - accuracy: 0.7843 - loss: 0.4161 - val_accuracy: 0.7933 - val_loss: 0.4137\n",
      "Epoch 27/30\n",
      "\u001b[1m19/19\u001b[0m \u001b[32m━━━━━━━━━━━━━━━━━━━━\u001b[0m\u001b[37m\u001b[0m \u001b[1m0s\u001b[0m 2ms/step - accuracy: 0.7893 - loss: 0.4117 - val_accuracy: 0.7958 - val_loss: 0.4094\n",
      "Epoch 28/30\n",
      "\u001b[1m19/19\u001b[0m \u001b[32m━━━━━━━━━━━━━━━━━━━━\u001b[0m\u001b[37m\u001b[0m \u001b[1m0s\u001b[0m 3ms/step - accuracy: 0.7944 - loss: 0.4074 - val_accuracy: 0.7991 - val_loss: 0.4052\n",
      "Epoch 29/30\n",
      "\u001b[1m19/19\u001b[0m \u001b[32m━━━━━━━━━━━━━━━━━━━━\u001b[0m\u001b[37m\u001b[0m \u001b[1m0s\u001b[0m 2ms/step - accuracy: 0.7977 - loss: 0.4034 - val_accuracy: 0.8025 - val_loss: 0.4012\n",
      "Epoch 30/30\n",
      "\u001b[1m19/19\u001b[0m \u001b[32m━━━━━━━━━━━━━━━━━━━━\u001b[0m\u001b[37m\u001b[0m \u001b[1m0s\u001b[0m 3ms/step - accuracy: 0.7998 - loss: 0.3995 - val_accuracy: 0.8050 - val_loss: 0.3974\n"
     ]
    },
    {
     "data": {
      "image/png": "[encoded data removed]",
      "text/plain": [
       "<Figure size 640x480 with 1 Axes>"
      ]
     },
     "metadata": {},
     "output_type": "display_data"
    },
    {
     "name": "stdout",
     "output_type": "stream",
     "text": [
      "\u001b[1m201/201\u001b[0m \u001b[32m━━━━━━━━━━━━━━━━━━━━\u001b[0m\u001b[37m\u001b[0m \u001b[1m0s\u001b[0m 645us/step\n",
      "초기 모델 Accuracy: 0.8624\n",
      "초기 모델 F1 Score: 0.8613\n",
      "변경 후 Accuracy: 0.7994\n",
      "변경 후 F1 Score: 0.7889\n"
     ]
    }
   ],
   "source": []
  },
  {
   "cell_type": "markdown",
   "metadata": {},
   "source": [
    "### 모델링 수정 - 드롭아웃 추가"
   ]
  },
  {
   "cell_type": "code",
   "execution_count": 255,
   "metadata": {
    "scrolled": true
   },
   "outputs": [
    {
     "name": "stdout",
     "output_type": "stream",
     "text": [
      "Epoch 1/30\n"
     ]
    },
    {
     "name": "stderr",
     "output_type": "stream",
     "text": [
      "C:\\Users\\Han\\Miniconda3\\envs\\hyundai_equip_6\\lib\\site-packages\\keras\\src\\layers\\core\\dense.py:87: UserWarning: Do not pass an `input_shape`/`input_dim` argument to a layer. When using Sequential models, prefer using an `Input(shape)` object as the first layer in the model instead.\n",
      "  super().__init__(activity_regularizer=activity_regularizer, **kwargs)\n"
     ]
    },
    {
     "name": "stdout",
     "output_type": "stream",
     "text": [
      "\u001b[1m19/19\u001b[0m \u001b[32m━━━━━━━━━━━━━━━━━━━━\u001b[0m\u001b[37m\u001b[0m \u001b[1m1s\u001b[0m 8ms/step - accuracy: 0.7207 - loss: 0.5877 - val_accuracy: 0.7047 - val_loss: 0.5472\n",
      "Epoch 2/30\n",
      "\u001b[1m19/19\u001b[0m \u001b[32m━━━━━━━━━━━━━━━━━━━━\u001b[0m\u001b[37m\u001b[0m \u001b[1m0s\u001b[0m 3ms/step - accuracy: 0.7100 - loss: 0.5423 - val_accuracy: 0.7211 - val_loss: 0.5297\n",
      "Epoch 3/30\n",
      "\u001b[1m19/19\u001b[0m \u001b[32m━━━━━━━━━━━━━━━━━━━━\u001b[0m\u001b[37m\u001b[0m \u001b[1m0s\u001b[0m 3ms/step - accuracy: 0.7232 - loss: 0.5254 - val_accuracy: 0.7257 - val_loss: 0.5148\n",
      "Epoch 4/30\n",
      "\u001b[1m19/19\u001b[0m \u001b[32m━━━━━━━━━━━━━━━━━━━━\u001b[0m\u001b[37m\u001b[0m \u001b[1m0s\u001b[0m 3ms/step - accuracy: 0.7347 - loss: 0.5104 - val_accuracy: 0.7373 - val_loss: 0.4998\n",
      "Epoch 5/30\n",
      "\u001b[1m19/19\u001b[0m \u001b[32m━━━━━━━━━━━━━━━━━━━━\u001b[0m\u001b[37m\u001b[0m \u001b[1m0s\u001b[0m 3ms/step - accuracy: 0.7421 - loss: 0.4955 - val_accuracy: 0.7418 - val_loss: 0.4834\n",
      "Epoch 6/30\n",
      "\u001b[1m19/19\u001b[0m \u001b[32m━━━━━━━━━━━━━━━━━━━━\u001b[0m\u001b[37m\u001b[0m \u001b[1m0s\u001b[0m 3ms/step - accuracy: 0.7497 - loss: 0.4802 - val_accuracy: 0.7544 - val_loss: 0.4670\n",
      "Epoch 7/30\n",
      "\u001b[1m19/19\u001b[0m \u001b[32m━━━━━━━━━━━━━━━━━━━━\u001b[0m\u001b[37m\u001b[0m \u001b[1m0s\u001b[0m 3ms/step - accuracy: 0.7605 - loss: 0.4648 - val_accuracy: 0.7754 - val_loss: 0.4519\n",
      "Epoch 8/30\n",
      "\u001b[1m19/19\u001b[0m \u001b[32m━━━━━━━━━━━━━━━━━━━━\u001b[0m\u001b[37m\u001b[0m \u001b[1m0s\u001b[0m 3ms/step - accuracy: 0.7715 - loss: 0.4483 - val_accuracy: 0.7872 - val_loss: 0.4375\n",
      "Epoch 9/30\n",
      "\u001b[1m19/19\u001b[0m \u001b[32m━━━━━━━━━━━━━━━━━━━━\u001b[0m\u001b[37m\u001b[0m \u001b[1m0s\u001b[0m 3ms/step - accuracy: 0.7851 - loss: 0.4346 - val_accuracy: 0.7983 - val_loss: 0.4241\n",
      "Epoch 10/30\n",
      "\u001b[1m19/19\u001b[0m \u001b[32m━━━━━━━━━━━━━━━━━━━━\u001b[0m\u001b[37m\u001b[0m \u001b[1m0s\u001b[0m 3ms/step - accuracy: 0.7881 - loss: 0.4216 - val_accuracy: 0.8064 - val_loss: 0.4117\n",
      "Epoch 11/30\n",
      "\u001b[1m19/19\u001b[0m \u001b[32m━━━━━━━━━━━━━━━━━━━━\u001b[0m\u001b[37m\u001b[0m \u001b[1m0s\u001b[0m 3ms/step - accuracy: 0.7987 - loss: 0.4092 - val_accuracy: 0.8112 - val_loss: 0.3999\n",
      "Epoch 12/30\n",
      "\u001b[1m19/19\u001b[0m \u001b[32m━━━━━━━━━━━━━━━━━━━━\u001b[0m\u001b[37m\u001b[0m \u001b[1m0s\u001b[0m 3ms/step - accuracy: 0.8063 - loss: 0.3986 - val_accuracy: 0.8165 - val_loss: 0.3895\n",
      "Epoch 13/30\n",
      "\u001b[1m19/19\u001b[0m \u001b[32m━━━━━━━━━━━━━━━━━━━━\u001b[0m\u001b[37m\u001b[0m \u001b[1m0s\u001b[0m 3ms/step - accuracy: 0.8105 - loss: 0.3893 - val_accuracy: 0.8261 - val_loss: 0.3798\n",
      "Epoch 14/30\n",
      "\u001b[1m19/19\u001b[0m \u001b[32m━━━━━━━━━━━━━━━━━━━━\u001b[0m\u001b[37m\u001b[0m \u001b[1m0s\u001b[0m 3ms/step - accuracy: 0.8198 - loss: 0.3779 - val_accuracy: 0.8331 - val_loss: 0.3709\n",
      "Epoch 15/30\n",
      "\u001b[1m19/19\u001b[0m \u001b[32m━━━━━━━━━━━━━━━━━━━━\u001b[0m\u001b[37m\u001b[0m \u001b[1m0s\u001b[0m 2ms/step - accuracy: 0.8275 - loss: 0.3718 - val_accuracy: 0.8359 - val_loss: 0.3632\n",
      "Epoch 16/30\n",
      "\u001b[1m19/19\u001b[0m \u001b[32m━━━━━━━━━━━━━━━━━━━━\u001b[0m\u001b[37m\u001b[0m \u001b[1m0s\u001b[0m 3ms/step - accuracy: 0.8314 - loss: 0.3623 - val_accuracy: 0.8396 - val_loss: 0.3561\n",
      "Epoch 17/30\n",
      "\u001b[1m19/19\u001b[0m \u001b[32m━━━━━━━━━━━━━━━━━━━━\u001b[0m\u001b[37m\u001b[0m \u001b[1m0s\u001b[0m 2ms/step - accuracy: 0.8344 - loss: 0.3553 - val_accuracy: 0.8470 - val_loss: 0.3489\n",
      "Epoch 18/30\n",
      "\u001b[1m19/19\u001b[0m \u001b[32m━━━━━━━━━━━━━━━━━━━━\u001b[0m\u001b[37m\u001b[0m \u001b[1m0s\u001b[0m 2ms/step - accuracy: 0.8424 - loss: 0.3499 - val_accuracy: 0.8501 - val_loss: 0.3429\n",
      "Epoch 19/30\n",
      "\u001b[1m19/19\u001b[0m \u001b[32m━━━━━━━━━━━━━━━━━━━━\u001b[0m\u001b[37m\u001b[0m \u001b[1m0s\u001b[0m 2ms/step - accuracy: 0.8439 - loss: 0.3422 - val_accuracy: 0.8523 - val_loss: 0.3372\n",
      "Epoch 20/30\n",
      "\u001b[1m19/19\u001b[0m \u001b[32m━━━━━━━━━━━━━━━━━━━━\u001b[0m\u001b[37m\u001b[0m \u001b[1m0s\u001b[0m 2ms/step - accuracy: 0.8457 - loss: 0.3381 - val_accuracy: 0.8535 - val_loss: 0.3314\n",
      "Epoch 21/30\n",
      "\u001b[1m19/19\u001b[0m \u001b[32m━━━━━━━━━━━━━━━━━━━━\u001b[0m\u001b[37m\u001b[0m \u001b[1m0s\u001b[0m 3ms/step - accuracy: 0.8495 - loss: 0.3337 - val_accuracy: 0.8555 - val_loss: 0.3266\n",
      "Epoch 22/30\n",
      "\u001b[1m19/19\u001b[0m \u001b[32m━━━━━━━━━━━━━━━━━━━━\u001b[0m\u001b[37m\u001b[0m \u001b[1m0s\u001b[0m 2ms/step - accuracy: 0.8527 - loss: 0.3284 - val_accuracy: 0.8568 - val_loss: 0.3217\n",
      "Epoch 23/30\n",
      "\u001b[1m19/19\u001b[0m \u001b[32m━━━━━━━━━━━━━━━━━━━━\u001b[0m\u001b[37m\u001b[0m \u001b[1m0s\u001b[0m 2ms/step - accuracy: 0.8542 - loss: 0.3229 - val_accuracy: 0.8590 - val_loss: 0.3166\n",
      "Epoch 24/30\n",
      "\u001b[1m19/19\u001b[0m \u001b[32m━━━━━━━━━━━━━━━━━━━━\u001b[0m\u001b[37m\u001b[0m \u001b[1m0s\u001b[0m 2ms/step - accuracy: 0.8545 - loss: 0.3182 - val_accuracy: 0.8615 - val_loss: 0.3126\n",
      "Epoch 25/30\n",
      "\u001b[1m19/19\u001b[0m \u001b[32m━━━━━━━━━━━━━━━━━━━━\u001b[0m\u001b[37m\u001b[0m \u001b[1m0s\u001b[0m 2ms/step - accuracy: 0.8597 - loss: 0.3137 - val_accuracy: 0.8621 - val_loss: 0.3076\n",
      "Epoch 26/30\n",
      "\u001b[1m19/19\u001b[0m \u001b[32m━━━━━━━━━━━━━━━━━━━━\u001b[0m\u001b[37m\u001b[0m \u001b[1m0s\u001b[0m 2ms/step - accuracy: 0.8587 - loss: 0.3097 - val_accuracy: 0.8644 - val_loss: 0.3043\n",
      "Epoch 27/30\n",
      "\u001b[1m19/19\u001b[0m \u001b[32m━━━━━━━━━━━━━━━━━━━━\u001b[0m\u001b[37m\u001b[0m \u001b[1m0s\u001b[0m 3ms/step - accuracy: 0.8610 - loss: 0.3069 - val_accuracy: 0.8696 - val_loss: 0.3009\n",
      "Epoch 28/30\n",
      "\u001b[1m19/19\u001b[0m \u001b[32m━━━━━━━━━━━━━━━━━━━━\u001b[0m\u001b[37m\u001b[0m \u001b[1m0s\u001b[0m 3ms/step - accuracy: 0.8619 - loss: 0.3045 - val_accuracy: 0.8672 - val_loss: 0.2970\n",
      "Epoch 29/30\n",
      "\u001b[1m19/19\u001b[0m \u001b[32m━━━━━━━━━━━━━━━━━━━━\u001b[0m\u001b[37m\u001b[0m \u001b[1m0s\u001b[0m 2ms/step - accuracy: 0.8642 - loss: 0.2988 - val_accuracy: 0.8715 - val_loss: 0.2936\n",
      "Epoch 30/30\n",
      "\u001b[1m19/19\u001b[0m \u001b[32m━━━━━━━━━━━━━━━━━━━━\u001b[0m\u001b[37m\u001b[0m \u001b[1m0s\u001b[0m 3ms/step - accuracy: 0.8679 - loss: 0.2964 - val_accuracy: 0.8732 - val_loss: 0.2903\n"
     ]
    },
    {
     "data": {
      "image/png": "[encoded data removed]",
      "text/plain": [
       "<Figure size 640x480 with 1 Axes>"
      ]
     },
     "metadata": {},
     "output_type": "display_data"
    },
    {
     "name": "stdout",
     "output_type": "stream",
     "text": [
      "\u001b[1m201/201\u001b[0m \u001b[32m━━━━━━━━━━━━━━━━━━━━\u001b[0m\u001b[37m\u001b[0m \u001b[1m0s\u001b[0m 606us/step\n",
      "초기 모델 Accuracy: 0.8624\n",
      "초기 모델 F1 Score: 0.8613\n",
      "변경 후 Accuracy: 0.8718\n",
      "변경 후 F1 Score: 0.8708\n"
     ]
    }
   ],
   "source": []
  },
  {
   "cell_type": "markdown",
   "metadata": {},
   "source": [
    "### 모델링 수정 - 배치사이즈 조정(증가)"
   ]
  },
  {
   "cell_type": "code",
   "execution_count": 241,
   "metadata": {},
   "outputs": [
    {
     "name": "stdout",
     "output_type": "stream",
     "text": [
      "Epoch 1/30\n"
     ]
    },
    {
     "name": "stderr",
     "output_type": "stream",
     "text": [
      "C:\\Users\\Han\\Miniconda3\\envs\\hyundai_equip_6\\lib\\site-packages\\keras\\src\\layers\\core\\dense.py:87: UserWarning: Do not pass an `input_shape`/`input_dim` argument to a layer. When using Sequential models, prefer using an `Input(shape)` object as the first layer in the model instead.\n",
      "  super().__init__(activity_regularizer=activity_regularizer, **kwargs)\n"
     ]
    },
    {
     "name": "stdout",
     "output_type": "stream",
     "text": [
      "\u001b[1m4/4\u001b[0m \u001b[32m━━━━━━━━━━━━━━━━━━━━\u001b[0m\u001b[37m\u001b[0m \u001b[1m1s\u001b[0m 43ms/step - accuracy: 0.3701 - loss: 0.7329 - val_accuracy: 0.6307 - val_loss: 0.6675\n",
      "Epoch 2/30\n",
      "\u001b[1m4/4\u001b[0m \u001b[32m━━━━━━━━━━━━━━━━━━━━\u001b[0m\u001b[37m\u001b[0m \u001b[1m0s\u001b[0m 9ms/step - accuracy: 0.6729 - loss: 0.6521 - val_accuracy: 0.7080 - val_loss: 0.6096\n",
      "Epoch 3/30\n",
      "\u001b[1m4/4\u001b[0m \u001b[32m━━━━━━━━━━━━━━━━━━━━\u001b[0m\u001b[37m\u001b[0m \u001b[1m0s\u001b[0m 10ms/step - accuracy: 0.7060 - loss: 0.6004 - val_accuracy: 0.7067 - val_loss: 0.5771\n",
      "Epoch 4/30\n",
      "\u001b[1m4/4\u001b[0m \u001b[32m━━━━━━━━━━━━━━━━━━━━\u001b[0m\u001b[37m\u001b[0m \u001b[1m0s\u001b[0m 10ms/step - accuracy: 0.7045 - loss: 0.5721 - val_accuracy: 0.7066 - val_loss: 0.5614\n",
      "Epoch 5/30\n",
      "\u001b[1m4/4\u001b[0m \u001b[32m━━━━━━━━━━━━━━━━━━━━\u001b[0m\u001b[37m\u001b[0m \u001b[1m0s\u001b[0m 10ms/step - accuracy: 0.7045 - loss: 0.5585 - val_accuracy: 0.7066 - val_loss: 0.5538\n",
      "Epoch 6/30\n",
      "\u001b[1m4/4\u001b[0m \u001b[32m━━━━━━━━━━━━━━━━━━━━\u001b[0m\u001b[37m\u001b[0m \u001b[1m0s\u001b[0m 10ms/step - accuracy: 0.7045 - loss: 0.5512 - val_accuracy: 0.7066 - val_loss: 0.5478\n",
      "Epoch 7/30\n",
      "\u001b[1m4/4\u001b[0m \u001b[32m━━━━━━━━━━━━━━━━━━━━\u001b[0m\u001b[37m\u001b[0m \u001b[1m0s\u001b[0m 11ms/step - accuracy: 0.7045 - loss: 0.5448 - val_accuracy: 0.7066 - val_loss: 0.5417\n",
      "Epoch 8/30\n",
      "\u001b[1m4/4\u001b[0m \u001b[32m━━━━━━━━━━━━━━━━━━━━\u001b[0m\u001b[37m\u001b[0m \u001b[1m0s\u001b[0m 10ms/step - accuracy: 0.7046 - loss: 0.5381 - val_accuracy: 0.6878 - val_loss: 0.5358\n",
      "Epoch 9/30\n",
      "\u001b[1m4/4\u001b[0m \u001b[32m━━━━━━━━━━━━━━━━━━━━\u001b[0m\u001b[37m\u001b[0m \u001b[1m0s\u001b[0m 9ms/step - accuracy: 0.6920 - loss: 0.5320 - val_accuracy: 0.7240 - val_loss: 0.5311\n",
      "Epoch 10/30\n",
      "\u001b[1m4/4\u001b[0m \u001b[32m━━━━━━━━━━━━━━━━━━━━\u001b[0m\u001b[37m\u001b[0m \u001b[1m0s\u001b[0m 9ms/step - accuracy: 0.7295 - loss: 0.5272 - val_accuracy: 0.7357 - val_loss: 0.5276\n",
      "Epoch 11/30\n",
      "\u001b[1m4/4\u001b[0m \u001b[32m━━━━━━━━━━━━━━━━━━━━\u001b[0m\u001b[37m\u001b[0m \u001b[1m0s\u001b[0m 9ms/step - accuracy: 0.7376 - loss: 0.5235 - val_accuracy: 0.7340 - val_loss: 0.5244\n",
      "Epoch 12/30\n",
      "\u001b[1m4/4\u001b[0m \u001b[32m━━━━━━━━━━━━━━━━━━━━\u001b[0m\u001b[37m\u001b[0m \u001b[1m0s\u001b[0m 10ms/step - accuracy: 0.7405 - loss: 0.5202 - val_accuracy: 0.7342 - val_loss: 0.5213\n",
      "Epoch 13/30\n",
      "\u001b[1m4/4\u001b[0m \u001b[32m━━━━━━━━━━━━━━━━━━━━\u001b[0m\u001b[37m\u001b[0m \u001b[1m0s\u001b[0m 10ms/step - accuracy: 0.7405 - loss: 0.5171 - val_accuracy: 0.7348 - val_loss: 0.5183\n",
      "Epoch 14/30\n",
      "\u001b[1m4/4\u001b[0m \u001b[32m━━━━━━━━━━━━━━━━━━━━\u001b[0m\u001b[37m\u001b[0m \u001b[1m0s\u001b[0m 11ms/step - accuracy: 0.7412 - loss: 0.5142 - val_accuracy: 0.7357 - val_loss: 0.5153\n",
      "Epoch 15/30\n",
      "\u001b[1m4/4\u001b[0m \u001b[32m━━━━━━━━━━━━━━━━━━━━\u001b[0m\u001b[37m\u001b[0m \u001b[1m0s\u001b[0m 11ms/step - accuracy: 0.7426 - loss: 0.5113 - val_accuracy: 0.7401 - val_loss: 0.5122\n",
      "Epoch 16/30\n",
      "\u001b[1m4/4\u001b[0m \u001b[32m━━━━━━━━━━━━━━━━━━━━\u001b[0m\u001b[37m\u001b[0m \u001b[1m0s\u001b[0m 11ms/step - accuracy: 0.7425 - loss: 0.5084 - val_accuracy: 0.7451 - val_loss: 0.5093\n",
      "Epoch 17/30\n",
      "\u001b[1m4/4\u001b[0m \u001b[32m━━━━━━━━━━━━━━━━━━━━\u001b[0m\u001b[37m\u001b[0m \u001b[1m0s\u001b[0m 11ms/step - accuracy: 0.7476 - loss: 0.5055 - val_accuracy: 0.7495 - val_loss: 0.5062\n",
      "Epoch 18/30\n",
      "\u001b[1m4/4\u001b[0m \u001b[32m━━━━━━━━━━━━━━━━━━━━\u001b[0m\u001b[37m\u001b[0m \u001b[1m0s\u001b[0m 11ms/step - accuracy: 0.7491 - loss: 0.5025 - val_accuracy: 0.7480 - val_loss: 0.5032\n",
      "Epoch 19/30\n",
      "\u001b[1m4/4\u001b[0m \u001b[32m━━━━━━━━━━━━━━━━━━━━\u001b[0m\u001b[37m\u001b[0m \u001b[1m0s\u001b[0m 10ms/step - accuracy: 0.7494 - loss: 0.4995 - val_accuracy: 0.7479 - val_loss: 0.5003\n",
      "Epoch 20/30\n",
      "\u001b[1m4/4\u001b[0m \u001b[32m━━━━━━━━━━━━━━━━━━━━\u001b[0m\u001b[37m\u001b[0m \u001b[1m0s\u001b[0m 10ms/step - accuracy: 0.7523 - loss: 0.4966 - val_accuracy: 0.7496 - val_loss: 0.4973\n",
      "Epoch 21/30\n",
      "\u001b[1m4/4\u001b[0m \u001b[32m━━━━━━━━━━━━━━━━━━━━\u001b[0m\u001b[37m\u001b[0m \u001b[1m0s\u001b[0m 10ms/step - accuracy: 0.7540 - loss: 0.4935 - val_accuracy: 0.7526 - val_loss: 0.4942\n",
      "Epoch 22/30\n",
      "\u001b[1m4/4\u001b[0m \u001b[32m━━━━━━━━━━━━━━━━━━━━\u001b[0m\u001b[37m\u001b[0m \u001b[1m0s\u001b[0m 10ms/step - accuracy: 0.7550 - loss: 0.4905 - val_accuracy: 0.7551 - val_loss: 0.4912\n",
      "Epoch 23/30\n",
      "\u001b[1m4/4\u001b[0m \u001b[32m━━━━━━━━━━━━━━━━━━━━\u001b[0m\u001b[37m\u001b[0m \u001b[1m0s\u001b[0m 10ms/step - accuracy: 0.7560 - loss: 0.4875 - val_accuracy: 0.7569 - val_loss: 0.4881\n",
      "Epoch 24/30\n",
      "\u001b[1m4/4\u001b[0m \u001b[32m━━━━━━━━━━━━━━━━━━━━\u001b[0m\u001b[37m\u001b[0m \u001b[1m0s\u001b[0m 10ms/step - accuracy: 0.7574 - loss: 0.4844 - val_accuracy: 0.7585 - val_loss: 0.4851\n",
      "Epoch 25/30\n",
      "\u001b[1m4/4\u001b[0m \u001b[32m━━━━━━━━━━━━━━━━━━━━\u001b[0m\u001b[37m\u001b[0m \u001b[1m0s\u001b[0m 10ms/step - accuracy: 0.7587 - loss: 0.4813 - val_accuracy: 0.7607 - val_loss: 0.4821\n",
      "Epoch 26/30\n",
      "\u001b[1m4/4\u001b[0m \u001b[32m━━━━━━━━━━━━━━━━━━━━\u001b[0m\u001b[37m\u001b[0m \u001b[1m0s\u001b[0m 10ms/step - accuracy: 0.7607 - loss: 0.4783 - val_accuracy: 0.7624 - val_loss: 0.4790\n",
      "Epoch 27/30\n",
      "\u001b[1m4/4\u001b[0m \u001b[32m━━━━━━━━━━━━━━━━━━━━\u001b[0m\u001b[37m\u001b[0m \u001b[1m0s\u001b[0m 11ms/step - accuracy: 0.7624 - loss: 0.4752 - val_accuracy: 0.7651 - val_loss: 0.4759\n",
      "Epoch 28/30\n",
      "\u001b[1m4/4\u001b[0m \u001b[32m━━━━━━━━━━━━━━━━━━━━\u001b[0m\u001b[37m\u001b[0m \u001b[1m0s\u001b[0m 11ms/step - accuracy: 0.7638 - loss: 0.4720 - val_accuracy: 0.7660 - val_loss: 0.4728\n",
      "Epoch 29/30\n",
      "\u001b[1m4/4\u001b[0m \u001b[32m━━━━━━━━━━━━━━━━━━━━\u001b[0m\u001b[37m\u001b[0m \u001b[1m0s\u001b[0m 11ms/step - accuracy: 0.7644 - loss: 0.4689 - val_accuracy: 0.7690 - val_loss: 0.4696\n",
      "Epoch 30/30\n",
      "\u001b[1m4/4\u001b[0m \u001b[32m━━━━━━━━━━━━━━━━━━━━\u001b[0m\u001b[37m\u001b[0m \u001b[1m0s\u001b[0m 10ms/step - accuracy: 0.7656 - loss: 0.4657 - val_accuracy: 0.7718 - val_loss: 0.4665\n"
     ]
    },
    {
     "data": {
      "image/png": "[encoded data removed]",
      "text/plain": [
       "<Figure size 640x480 with 1 Axes>"
      ]
     },
     "metadata": {},
     "output_type": "display_data"
    },
    {
     "name": "stdout",
     "output_type": "stream",
     "text": [
      "\u001b[1m201/201\u001b[0m \u001b[32m━━━━━━━━━━━━━━━━━━━━\u001b[0m\u001b[37m\u001b[0m \u001b[1m0s\u001b[0m 620us/step\n",
      "초기 모델 Accuracy: 0.8624\n",
      "초기 모델 F1 Score: 0.8613\n",
      "변경 후 Accuracy: 0.7685\n",
      "변경 후 F1 Score: 0.7574\n"
     ]
    }
   ],
   "source": []
  },
  {
   "cell_type": "markdown",
   "metadata": {},
   "source": [
    "### 모델링 수정 - 배치사이즈 조정(감소)"
   ]
  },
  {
   "cell_type": "code",
   "execution_count": 242,
   "metadata": {},
   "outputs": [
    {
     "name": "stdout",
     "output_type": "stream",
     "text": [
      "Epoch 1/30\n"
     ]
    },
    {
     "name": "stderr",
     "output_type": "stream",
     "text": [
      "C:\\Users\\Han\\Miniconda3\\envs\\hyundai_equip_6\\lib\\site-packages\\keras\\src\\layers\\core\\dense.py:87: UserWarning: Do not pass an `input_shape`/`input_dim` argument to a layer. When using Sequential models, prefer using an `Input(shape)` object as the first layer in the model instead.\n",
      "  super().__init__(activity_regularizer=activity_regularizer, **kwargs)\n"
     ]
    },
    {
     "name": "stdout",
     "output_type": "stream",
     "text": [
      "\u001b[1m38/38\u001b[0m \u001b[32m━━━━━━━━━━━━━━━━━━━━\u001b[0m\u001b[37m\u001b[0m \u001b[1m1s\u001b[0m 4ms/step - accuracy: 0.6049 - loss: 0.6311 - val_accuracy: 0.7304 - val_loss: 0.5305\n",
      "Epoch 2/30\n",
      "\u001b[1m38/38\u001b[0m \u001b[32m━━━━━━━━━━━━━━━━━━━━\u001b[0m\u001b[37m\u001b[0m \u001b[1m0s\u001b[0m 2ms/step - accuracy: 0.7350 - loss: 0.5224 - val_accuracy: 0.7471 - val_loss: 0.5034\n",
      "Epoch 3/30\n",
      "\u001b[1m38/38\u001b[0m \u001b[32m━━━━━━━━━━━━━━━━━━━━\u001b[0m\u001b[37m\u001b[0m \u001b[1m0s\u001b[0m 2ms/step - accuracy: 0.7534 - loss: 0.4955 - val_accuracy: 0.7468 - val_loss: 0.4764\n",
      "Epoch 4/30\n",
      "\u001b[1m38/38\u001b[0m \u001b[32m━━━━━━━━━━━━━━━━━━━━\u001b[0m\u001b[37m\u001b[0m \u001b[1m0s\u001b[0m 1ms/step - accuracy: 0.7613 - loss: 0.4678 - val_accuracy: 0.7613 - val_loss: 0.4495\n",
      "Epoch 5/30\n",
      "\u001b[1m38/38\u001b[0m \u001b[32m━━━━━━━━━━━━━━━━━━━━\u001b[0m\u001b[37m\u001b[0m \u001b[1m0s\u001b[0m 2ms/step - accuracy: 0.7698 - loss: 0.4412 - val_accuracy: 0.7788 - val_loss: 0.4259\n",
      "Epoch 6/30\n",
      "\u001b[1m38/38\u001b[0m \u001b[32m━━━━━━━━━━━━━━━━━━━━\u001b[0m\u001b[37m\u001b[0m \u001b[1m0s\u001b[0m 3ms/step - accuracy: 0.7834 - loss: 0.4180 - val_accuracy: 0.7961 - val_loss: 0.4056\n",
      "Epoch 7/30\n",
      "\u001b[1m38/38\u001b[0m \u001b[32m━━━━━━━━━━━━━━━━━━━━\u001b[0m\u001b[37m\u001b[0m \u001b[1m0s\u001b[0m 2ms/step - accuracy: 0.7991 - loss: 0.3978 - val_accuracy: 0.8094 - val_loss: 0.3883\n",
      "Epoch 8/30\n",
      "\u001b[1m38/38\u001b[0m \u001b[32m━━━━━━━━━━━━━━━━━━━━\u001b[0m\u001b[37m\u001b[0m \u001b[1m0s\u001b[0m 2ms/step - accuracy: 0.8127 - loss: 0.3807 - val_accuracy: 0.8165 - val_loss: 0.3735\n",
      "Epoch 9/30\n",
      "\u001b[1m38/38\u001b[0m \u001b[32m━━━━━━━━━━━━━━━━━━━━\u001b[0m\u001b[37m\u001b[0m \u001b[1m0s\u001b[0m 1ms/step - accuracy: 0.8197 - loss: 0.3662 - val_accuracy: 0.8261 - val_loss: 0.3608\n",
      "Epoch 10/30\n",
      "\u001b[1m38/38\u001b[0m \u001b[32m━━━━━━━━━━━━━━━━━━━━\u001b[0m\u001b[37m\u001b[0m \u001b[1m0s\u001b[0m 1ms/step - accuracy: 0.8279 - loss: 0.3540 - val_accuracy: 0.8323 - val_loss: 0.3496\n",
      "Epoch 11/30\n",
      "\u001b[1m38/38\u001b[0m \u001b[32m━━━━━━━━━━━━━━━━━━━━\u001b[0m\u001b[37m\u001b[0m \u001b[1m0s\u001b[0m 2ms/step - accuracy: 0.8337 - loss: 0.3434 - val_accuracy: 0.8365 - val_loss: 0.3396\n",
      "Epoch 12/30\n",
      "\u001b[1m38/38\u001b[0m \u001b[32m━━━━━━━━━━━━━━━━━━━━\u001b[0m\u001b[37m\u001b[0m \u001b[1m0s\u001b[0m 1ms/step - accuracy: 0.8390 - loss: 0.3342 - val_accuracy: 0.8406 - val_loss: 0.3309\n",
      "Epoch 13/30\n",
      "\u001b[1m38/38\u001b[0m \u001b[32m━━━━━━━━━━━━━━━━━━━━\u001b[0m\u001b[37m\u001b[0m \u001b[1m0s\u001b[0m 2ms/step - accuracy: 0.8429 - loss: 0.3261 - val_accuracy: 0.8480 - val_loss: 0.3229\n",
      "Epoch 14/30\n",
      "\u001b[1m38/38\u001b[0m \u001b[32m━━━━━━━━━━━━━━━━━━━━\u001b[0m\u001b[37m\u001b[0m \u001b[1m0s\u001b[0m 2ms/step - accuracy: 0.8476 - loss: 0.3187 - val_accuracy: 0.8524 - val_loss: 0.3157\n",
      "Epoch 15/30\n",
      "\u001b[1m38/38\u001b[0m \u001b[32m━━━━━━━━━━━━━━━━━━━━\u001b[0m\u001b[37m\u001b[0m \u001b[1m0s\u001b[0m 1ms/step - accuracy: 0.8508 - loss: 0.3121 - val_accuracy: 0.8551 - val_loss: 0.3092\n",
      "Epoch 16/30\n",
      "\u001b[1m38/38\u001b[0m \u001b[32m━━━━━━━━━━━━━━━━━━━━\u001b[0m\u001b[37m\u001b[0m \u001b[1m0s\u001b[0m 2ms/step - accuracy: 0.8538 - loss: 0.3060 - val_accuracy: 0.8579 - val_loss: 0.3032\n",
      "Epoch 17/30\n",
      "\u001b[1m38/38\u001b[0m \u001b[32m━━━━━━━━━━━━━━━━━━━━\u001b[0m\u001b[37m\u001b[0m \u001b[1m0s\u001b[0m 2ms/step - accuracy: 0.8558 - loss: 0.3003 - val_accuracy: 0.8610 - val_loss: 0.2976\n",
      "Epoch 18/30\n",
      "\u001b[1m38/38\u001b[0m \u001b[32m━━━━━━━━━━━━━━━━━━━━\u001b[0m\u001b[37m\u001b[0m \u001b[1m0s\u001b[0m 1ms/step - accuracy: 0.8592 - loss: 0.2950 - val_accuracy: 0.8633 - val_loss: 0.2926\n",
      "Epoch 19/30\n",
      "\u001b[1m38/38\u001b[0m \u001b[32m━━━━━━━━━━━━━━━━━━━━\u001b[0m\u001b[37m\u001b[0m \u001b[1m0s\u001b[0m 2ms/step - accuracy: 0.8619 - loss: 0.2901 - val_accuracy: 0.8652 - val_loss: 0.2880\n",
      "Epoch 20/30\n",
      "\u001b[1m38/38\u001b[0m \u001b[32m━━━━━━━━━━━━━━━━━━━━\u001b[0m\u001b[37m\u001b[0m \u001b[1m0s\u001b[0m 2ms/step - accuracy: 0.8637 - loss: 0.2855 - val_accuracy: 0.8680 - val_loss: 0.2837\n",
      "Epoch 21/30\n",
      "\u001b[1m38/38\u001b[0m \u001b[32m━━━━━━━━━━━━━━━━━━━━\u001b[0m\u001b[37m\u001b[0m \u001b[1m0s\u001b[0m 2ms/step - accuracy: 0.8662 - loss: 0.2812 - val_accuracy: 0.8708 - val_loss: 0.2796\n",
      "Epoch 22/30\n",
      "\u001b[1m38/38\u001b[0m \u001b[32m━━━━━━━━━━━━━━━━━━━━\u001b[0m\u001b[37m\u001b[0m \u001b[1m0s\u001b[0m 2ms/step - accuracy: 0.8678 - loss: 0.2772 - val_accuracy: 0.8739 - val_loss: 0.2759\n",
      "Epoch 23/30\n",
      "\u001b[1m38/38\u001b[0m \u001b[32m━━━━━━━━━━━━━━━━━━━━\u001b[0m\u001b[37m\u001b[0m \u001b[1m0s\u001b[0m 1ms/step - accuracy: 0.8692 - loss: 0.2734 - val_accuracy: 0.8768 - val_loss: 0.2724\n",
      "Epoch 24/30\n",
      "\u001b[1m38/38\u001b[0m \u001b[32m━━━━━━━━━━━━━━━━━━━━\u001b[0m\u001b[37m\u001b[0m \u001b[1m0s\u001b[0m 2ms/step - accuracy: 0.8712 - loss: 0.2698 - val_accuracy: 0.8785 - val_loss: 0.2691\n",
      "Epoch 25/30\n",
      "\u001b[1m38/38\u001b[0m \u001b[32m━━━━━━━━━━━━━━━━━━━━\u001b[0m\u001b[37m\u001b[0m \u001b[1m0s\u001b[0m 2ms/step - accuracy: 0.8727 - loss: 0.2663 - val_accuracy: 0.8799 - val_loss: 0.2659\n",
      "Epoch 26/30\n",
      "\u001b[1m38/38\u001b[0m \u001b[32m━━━━━━━━━━━━━━━━━━━━\u001b[0m\u001b[37m\u001b[0m \u001b[1m0s\u001b[0m 2ms/step - accuracy: 0.8741 - loss: 0.2630 - val_accuracy: 0.8805 - val_loss: 0.2629\n",
      "Epoch 27/30\n",
      "\u001b[1m38/38\u001b[0m \u001b[32m━━━━━━━━━━━━━━━━━━━━\u001b[0m\u001b[37m\u001b[0m \u001b[1m0s\u001b[0m 2ms/step - accuracy: 0.8771 - loss: 0.2597 - val_accuracy: 0.8832 - val_loss: 0.2598\n",
      "Epoch 28/30\n",
      "\u001b[1m38/38\u001b[0m \u001b[32m━━━━━━━━━━━━━━━━━━━━\u001b[0m\u001b[37m\u001b[0m \u001b[1m0s\u001b[0m 2ms/step - accuracy: 0.8789 - loss: 0.2564 - val_accuracy: 0.8871 - val_loss: 0.2570\n",
      "Epoch 29/30\n",
      "\u001b[1m38/38\u001b[0m \u001b[32m━━━━━━━━━━━━━━━━━━━━\u001b[0m\u001b[37m\u001b[0m \u001b[1m0s\u001b[0m 1ms/step - accuracy: 0.8822 - loss: 0.2532 - val_accuracy: 0.8908 - val_loss: 0.2542\n",
      "Epoch 30/30\n",
      "\u001b[1m38/38\u001b[0m \u001b[32m━━━━━━━━━━━━━━━━━━━━\u001b[0m\u001b[37m\u001b[0m \u001b[1m0s\u001b[0m 1ms/step - accuracy: 0.8848 - loss: 0.2501 - val_accuracy: 0.8933 - val_loss: 0.2514\n"
     ]
    },
    {
     "data": {
      "image/png": "[encoded data removed]",
      "text/plain": [
       "<Figure size 640x480 with 1 Axes>"
      ]
     },
     "metadata": {},
     "output_type": "display_data"
    },
    {
     "name": "stdout",
     "output_type": "stream",
     "text": [
      "\u001b[1m201/201\u001b[0m \u001b[32m━━━━━━━━━━━━━━━━━━━━\u001b[0m\u001b[37m\u001b[0m \u001b[1m0s\u001b[0m 596us/step\n",
      "초기 모델 Accuracy: 0.8624\n",
      "초기 모델 F1 Score: 0.8613\n",
      "변경 후 Accuracy: 0.8847\n",
      "변경 후 F1 Score: 0.8840\n"
     ]
    }
   ],
   "source": []
  },
  {
   "cell_type": "markdown",
   "metadata": {
    "id": "BYq8JLs3-phY"
   },
   "source": [
    "### 모델링 수정 - 클래스 불균형 보완"
   ]
  },
  {
   "cell_type": "markdown",
   "metadata": {},
   "source": [
    "#### 클래스 불균형 문제 해결(SMOTE)\n",
    "- SMOTE(Synthetic Minority Over-sampling Technique)는 불균형 데이터셋에서 소수 클래스의 데이터를 증가시켜 데이터 균형을 맞추는 오버샘플링 기법입니다.\n",
    "\n",
    "    |<b>SMOTE 작동방식</b> |\n",
    "    | :--: |\n",
    "    | ![](https://miro.medium.com/v2/resize:fit:720/format:webp/1*CeOd_Wbn7O6kpjSTKTIUog.png)|\n",
    "    | 출처:https://medium.com/@parthdholakiya180/smote-synthetic-minority-over-sampling-technique-4d5a5d69d720|\n"
   ]
  },
  {
   "cell_type": "code",
   "execution_count": 243,
   "metadata": {},
   "outputs": [
    {
     "name": "stdout",
     "output_type": "stream",
     "text": [
      "Requirement already satisfied: imbalanced-learn==0.9.0 in c:\\users\\han\\miniconda3\\envs\\hyundai_equip_6\\lib\\site-packages (0.9.0)\n",
      "Requirement already satisfied: numpy>=1.14.6 in c:\\users\\han\\miniconda3\\envs\\hyundai_equip_6\\lib\\site-packages (from imbalanced-learn==0.9.0) (1.26.4)\n",
      "Requirement already satisfied: scipy>=1.1.0 in c:\\users\\han\\miniconda3\\envs\\hyundai_equip_6\\lib\\site-packages (from imbalanced-learn==0.9.0) (1.13.1)\n",
      "Requirement already satisfied: scikit-learn>=1.0.1 in c:\\users\\han\\miniconda3\\envs\\hyundai_equip_6\\lib\\site-packages (from imbalanced-learn==0.9.0) (1.5.0)\n",
      "Requirement already satisfied: joblib>=0.11 in c:\\users\\han\\miniconda3\\envs\\hyundai_equip_6\\lib\\site-packages (from imbalanced-learn==0.9.0) (1.4.2)\n",
      "Requirement already satisfied: threadpoolctl>=2.0.0 in c:\\users\\han\\miniconda3\\envs\\hyundai_equip_6\\lib\\site-packages (from imbalanced-learn==0.9.0) (3.5.0)\n"
     ]
    }
   ],
   "source": []
  },
  {
   "cell_type": "code",
   "execution_count": 244,
   "metadata": {},
   "outputs": [],
   "source": []
  },
  {
   "cell_type": "code",
   "execution_count": 245,
   "metadata": {},
   "outputs": [
    {
     "name": "stdout",
     "output_type": "stream",
     "text": [
      "[[    0  5641]\n",
      " [    1 13587]]\n"
     ]
    }
   ],
   "source": []
  },
  {
   "cell_type": "code",
   "execution_count": 246,
   "metadata": {},
   "outputs": [
    {
     "data": {
      "text/plain": [
       "1.0    13587\n",
       "0.0    13587\n",
       "Name: count, dtype: int64"
      ]
     },
     "execution_count": 246,
     "metadata": {},
     "output_type": "execute_result"
    }
   ],
   "source": []
  },
  {
   "cell_type": "code",
   "execution_count": 247,
   "metadata": {
    "scrolled": true
   },
   "outputs": [
    {
     "name": "stdout",
     "output_type": "stream",
     "text": [
      "Epoch 1/30\n"
     ]
    },
    {
     "name": "stderr",
     "output_type": "stream",
     "text": [
      "C:\\Users\\Han\\Miniconda3\\envs\\hyundai_equip_6\\lib\\site-packages\\keras\\src\\layers\\core\\dense.py:87: UserWarning: Do not pass an `input_shape`/`input_dim` argument to a layer. When using Sequential models, prefer using an `Input(shape)` object as the first layer in the model instead.\n",
      "  super().__init__(activity_regularizer=activity_regularizer, **kwargs)\n"
     ]
    },
    {
     "name": "stdout",
     "output_type": "stream",
     "text": [
      "\u001b[1m54/54\u001b[0m \u001b[32m━━━━━━━━━━━━━━━━━━━━\u001b[0m\u001b[37m\u001b[0m \u001b[1m1s\u001b[0m 3ms/step - accuracy: 0.6462 - loss: 0.6427 - val_accuracy: 0.7429 - val_loss: 0.5793\n",
      "Epoch 2/30\n",
      "\u001b[1m54/54\u001b[0m \u001b[32m━━━━━━━━━━━━━━━━━━━━\u001b[0m\u001b[37m\u001b[0m \u001b[1m0s\u001b[0m 1ms/step - accuracy: 0.7223 - loss: 0.5587 - val_accuracy: 0.7719 - val_loss: 0.5295\n",
      "Epoch 3/30\n",
      "\u001b[1m54/54\u001b[0m \u001b[32m━━━━━━━━━━━━━━━━━━━━\u001b[0m\u001b[37m\u001b[0m \u001b[1m0s\u001b[0m 1ms/step - accuracy: 0.7724 - loss: 0.5103 - val_accuracy: 0.7828 - val_loss: 0.4884\n",
      "Epoch 4/30\n",
      "\u001b[1m54/54\u001b[0m \u001b[32m━━━━━━━━━━━━━━━━━━━━\u001b[0m\u001b[37m\u001b[0m \u001b[1m0s\u001b[0m 1ms/step - accuracy: 0.7986 - loss: 0.4676 - val_accuracy: 0.7958 - val_loss: 0.4591\n",
      "Epoch 5/30\n",
      "\u001b[1m54/54\u001b[0m \u001b[32m━━━━━━━━━━━━━━━━━━━━\u001b[0m\u001b[37m\u001b[0m \u001b[1m0s\u001b[0m 1ms/step - accuracy: 0.8185 - loss: 0.4319 - val_accuracy: 0.8125 - val_loss: 0.4358\n",
      "Epoch 6/30\n",
      "\u001b[1m54/54\u001b[0m \u001b[32m━━━━━━━━━━━━━━━━━━━━\u001b[0m\u001b[37m\u001b[0m \u001b[1m0s\u001b[0m 1ms/step - accuracy: 0.8339 - loss: 0.4028 - val_accuracy: 0.8304 - val_loss: 0.4174\n",
      "Epoch 7/30\n",
      "\u001b[1m54/54\u001b[0m \u001b[32m━━━━━━━━━━━━━━━━━━━━\u001b[0m\u001b[37m\u001b[0m \u001b[1m0s\u001b[0m 1ms/step - accuracy: 0.8478 - loss: 0.3798 - val_accuracy: 0.8440 - val_loss: 0.4017\n",
      "Epoch 8/30\n",
      "\u001b[1m54/54\u001b[0m \u001b[32m━━━━━━━━━━━━━━━━━━━━\u001b[0m\u001b[37m\u001b[0m \u001b[1m0s\u001b[0m 1ms/step - accuracy: 0.8600 - loss: 0.3616 - val_accuracy: 0.8502 - val_loss: 0.3889\n",
      "Epoch 9/30\n",
      "\u001b[1m54/54\u001b[0m \u001b[32m━━━━━━━━━━━━━━━━━━━━\u001b[0m\u001b[37m\u001b[0m \u001b[1m0s\u001b[0m 1ms/step - accuracy: 0.8665 - loss: 0.3472 - val_accuracy: 0.8552 - val_loss: 0.3786\n",
      "Epoch 10/30\n",
      "\u001b[1m54/54\u001b[0m \u001b[32m━━━━━━━━━━━━━━━━━━━━\u001b[0m\u001b[37m\u001b[0m \u001b[1m0s\u001b[0m 1ms/step - accuracy: 0.8741 - loss: 0.3352 - val_accuracy: 0.8607 - val_loss: 0.3692\n",
      "Epoch 11/30\n",
      "\u001b[1m54/54\u001b[0m \u001b[32m━━━━━━━━━━━━━━━━━━━━\u001b[0m\u001b[37m\u001b[0m \u001b[1m0s\u001b[0m 1ms/step - accuracy: 0.8806 - loss: 0.3251 - val_accuracy: 0.8651 - val_loss: 0.3610\n",
      "Epoch 12/30\n",
      "\u001b[1m54/54\u001b[0m \u001b[32m━━━━━━━━━━━━━━━━━━━━\u001b[0m\u001b[37m\u001b[0m \u001b[1m0s\u001b[0m 1ms/step - accuracy: 0.8864 - loss: 0.3164 - val_accuracy: 0.8694 - val_loss: 0.3535\n",
      "Epoch 13/30\n",
      "\u001b[1m54/54\u001b[0m \u001b[32m━━━━━━━━━━━━━━━━━━━━\u001b[0m\u001b[37m\u001b[0m \u001b[1m0s\u001b[0m 1ms/step - accuracy: 0.8913 - loss: 0.3086 - val_accuracy: 0.8732 - val_loss: 0.3465\n",
      "Epoch 14/30\n",
      "\u001b[1m54/54\u001b[0m \u001b[32m━━━━━━━━━━━━━━━━━━━━\u001b[0m\u001b[37m\u001b[0m \u001b[1m0s\u001b[0m 1ms/step - accuracy: 0.8964 - loss: 0.3013 - val_accuracy: 0.8752 - val_loss: 0.3392\n",
      "Epoch 15/30\n",
      "\u001b[1m54/54\u001b[0m \u001b[32m━━━━━━━━━━━━━━━━━━━━\u001b[0m\u001b[37m\u001b[0m \u001b[1m0s\u001b[0m 1ms/step - accuracy: 0.8990 - loss: 0.2946 - val_accuracy: 0.8789 - val_loss: 0.3327\n",
      "Epoch 16/30\n",
      "\u001b[1m54/54\u001b[0m \u001b[32m━━━━━━━━━━━━━━━━━━━━\u001b[0m\u001b[37m\u001b[0m \u001b[1m0s\u001b[0m 1ms/step - accuracy: 0.9022 - loss: 0.2884 - val_accuracy: 0.8836 - val_loss: 0.3267\n",
      "Epoch 17/30\n",
      "\u001b[1m54/54\u001b[0m \u001b[32m━━━━━━━━━━━━━━━━━━━━\u001b[0m\u001b[37m\u001b[0m \u001b[1m0s\u001b[0m 1ms/step - accuracy: 0.9052 - loss: 0.2827 - val_accuracy: 0.8841 - val_loss: 0.3213\n",
      "Epoch 18/30\n",
      "\u001b[1m54/54\u001b[0m \u001b[32m━━━━━━━━━━━━━━━━━━━━\u001b[0m\u001b[37m\u001b[0m \u001b[1m0s\u001b[0m 1ms/step - accuracy: 0.9084 - loss: 0.2774 - val_accuracy: 0.8839 - val_loss: 0.3158\n",
      "Epoch 19/30\n",
      "\u001b[1m54/54\u001b[0m \u001b[32m━━━━━━━━━━━━━━━━━━━━\u001b[0m\u001b[37m\u001b[0m \u001b[1m0s\u001b[0m 1ms/step - accuracy: 0.9097 - loss: 0.2724 - val_accuracy: 0.8833 - val_loss: 0.3102\n",
      "Epoch 20/30\n",
      "\u001b[1m54/54\u001b[0m \u001b[32m━━━━━━━━━━━━━━━━━━━━\u001b[0m\u001b[37m\u001b[0m \u001b[1m0s\u001b[0m 1ms/step - accuracy: 0.9107 - loss: 0.2673 - val_accuracy: 0.8846 - val_loss: 0.3048\n",
      "Epoch 21/30\n",
      "\u001b[1m54/54\u001b[0m \u001b[32m━━━━━━━━━━━━━━━━━━━━\u001b[0m\u001b[37m\u001b[0m \u001b[1m0s\u001b[0m 1ms/step - accuracy: 0.9117 - loss: 0.2623 - val_accuracy: 0.8888 - val_loss: 0.2997\n",
      "Epoch 22/30\n",
      "\u001b[1m54/54\u001b[0m \u001b[32m━━━━━━━━━━━━━━━━━━━━\u001b[0m\u001b[37m\u001b[0m \u001b[1m0s\u001b[0m 1ms/step - accuracy: 0.9133 - loss: 0.2574 - val_accuracy: 0.8894 - val_loss: 0.2954\n",
      "Epoch 23/30\n",
      "\u001b[1m54/54\u001b[0m \u001b[32m━━━━━━━━━━━━━━━━━━━━\u001b[0m\u001b[37m\u001b[0m \u001b[1m0s\u001b[0m 1ms/step - accuracy: 0.9147 - loss: 0.2527 - val_accuracy: 0.8899 - val_loss: 0.2909\n",
      "Epoch 24/30\n",
      "\u001b[1m54/54\u001b[0m \u001b[32m━━━━━━━━━━━━━━━━━━━━\u001b[0m\u001b[37m\u001b[0m \u001b[1m0s\u001b[0m 1ms/step - accuracy: 0.9166 - loss: 0.2481 - val_accuracy: 0.8895 - val_loss: 0.2865\n",
      "Epoch 25/30\n",
      "\u001b[1m54/54\u001b[0m \u001b[32m━━━━━━━━━━━━━━━━━━━━\u001b[0m\u001b[37m\u001b[0m \u001b[1m0s\u001b[0m 1ms/step - accuracy: 0.9175 - loss: 0.2439 - val_accuracy: 0.8900 - val_loss: 0.2826\n",
      "Epoch 26/30\n",
      "\u001b[1m54/54\u001b[0m \u001b[32m━━━━━━━━━━━━━━━━━━━━\u001b[0m\u001b[37m\u001b[0m \u001b[1m0s\u001b[0m 1ms/step - accuracy: 0.9190 - loss: 0.2399 - val_accuracy: 0.8902 - val_loss: 0.2794\n",
      "Epoch 27/30\n",
      "\u001b[1m54/54\u001b[0m \u001b[32m━━━━━━━━━━━━━━━━━━━━\u001b[0m\u001b[37m\u001b[0m \u001b[1m0s\u001b[0m 1ms/step - accuracy: 0.9197 - loss: 0.2359 - val_accuracy: 0.8906 - val_loss: 0.2756\n",
      "Epoch 28/30\n",
      "\u001b[1m54/54\u001b[0m \u001b[32m━━━━━━━━━━━━━━━━━━━━\u001b[0m\u001b[37m\u001b[0m \u001b[1m0s\u001b[0m 1ms/step - accuracy: 0.9210 - loss: 0.2323 - val_accuracy: 0.8916 - val_loss: 0.2725\n",
      "Epoch 29/30\n",
      "\u001b[1m54/54\u001b[0m \u001b[32m━━━━━━━━━━━━━━━━━━━━\u001b[0m\u001b[37m\u001b[0m \u001b[1m0s\u001b[0m 1ms/step - accuracy: 0.9220 - loss: 0.2286 - val_accuracy: 0.8917 - val_loss: 0.2691\n",
      "Epoch 30/30\n",
      "\u001b[1m54/54\u001b[0m \u001b[32m━━━━━━━━━━━━━━━━━━━━\u001b[0m\u001b[37m\u001b[0m \u001b[1m0s\u001b[0m 1ms/step - accuracy: 0.9230 - loss: 0.2252 - val_accuracy: 0.8922 - val_loss: 0.2662\n"
     ]
    },
    {
     "data": {
      "image/png": "[encoded data removed]",
      "text/plain": [
       "<Figure size 640x480 with 1 Axes>"
      ]
     },
     "metadata": {},
     "output_type": "display_data"
    },
    {
     "name": "stdout",
     "output_type": "stream",
     "text": [
      "\u001b[1m201/201\u001b[0m \u001b[32m━━━━━━━━━━━━━━━━━━━━\u001b[0m\u001b[37m\u001b[0m \u001b[1m0s\u001b[0m 595us/step\n",
      "초기 모델 Accuracy: 0.8624\n",
      "초기 모델 F1 Score: 0.8613\n",
      "변경 후 Accuracy: 0.9019\n",
      "변경 후 F1 Score: 0.9046\n"
     ]
    }
   ],
   "source": []
  },
  {
   "attachments": {},
   "cell_type": "markdown",
   "metadata": {
    "id": "BYq8JLs3-phY"
   },
   "source": [
    "### 최종 모델링"
   ]
  },
  {
   "cell_type": "code",
   "execution_count": 254,
   "metadata": {},
   "outputs": [
    {
     "name": "stdout",
     "output_type": "stream",
     "text": [
      "Epoch 1/30\n"
     ]
    },
    {
     "name": "stderr",
     "output_type": "stream",
     "text": [
      "C:\\Users\\Han\\Miniconda3\\envs\\hyundai_equip_6\\lib\\site-packages\\keras\\src\\layers\\core\\dense.py:87: UserWarning: Do not pass an `input_shape`/`input_dim` argument to a layer. When using Sequential models, prefer using an `Input(shape)` object as the first layer in the model instead.\n",
      "  super().__init__(activity_regularizer=activity_regularizer, **kwargs)\n"
     ]
    },
    {
     "name": "stdout",
     "output_type": "stream",
     "text": [
      "\u001b[1m54/54\u001b[0m \u001b[32m━━━━━━━━━━━━━━━━━━━━\u001b[0m\u001b[37m\u001b[0m \u001b[1m1s\u001b[0m 4ms/step - accuracy: 0.6996 - loss: 0.5880 - val_accuracy: 0.8179 - val_loss: 0.4126\n",
      "Epoch 2/30\n",
      "\u001b[1m54/54\u001b[0m \u001b[32m━━━━━━━━━━━━━━━━━━━━\u001b[0m\u001b[37m\u001b[0m \u001b[1m0s\u001b[0m 2ms/step - accuracy: 0.8542 - loss: 0.3779 - val_accuracy: 0.8800 - val_loss: 0.3344\n",
      "Epoch 3/30\n",
      "\u001b[1m54/54\u001b[0m \u001b[32m━━━━━━━━━━━━━━━━━━━━\u001b[0m\u001b[37m\u001b[0m \u001b[1m0s\u001b[0m 3ms/step - accuracy: 0.8817 - loss: 0.3108 - val_accuracy: 0.8860 - val_loss: 0.2972\n",
      "Epoch 4/30\n",
      "\u001b[1m54/54\u001b[0m \u001b[32m━━━━━━━━━━━━━━━━━━━━\u001b[0m\u001b[37m\u001b[0m \u001b[1m0s\u001b[0m 2ms/step - accuracy: 0.9013 - loss: 0.2633 - val_accuracy: 0.8924 - val_loss: 0.2438\n",
      "Epoch 5/30\n",
      "\u001b[1m54/54\u001b[0m \u001b[32m━━━━━━━━━━━━━━━━━━━━\u001b[0m\u001b[37m\u001b[0m \u001b[1m0s\u001b[0m 2ms/step - accuracy: 0.9120 - loss: 0.2298 - val_accuracy: 0.9086 - val_loss: 0.2193\n",
      "Epoch 6/30\n",
      "\u001b[1m54/54\u001b[0m \u001b[32m━━━━━━━━━━━━━━━━━━━━\u001b[0m\u001b[37m\u001b[0m \u001b[1m0s\u001b[0m 2ms/step - accuracy: 0.9221 - loss: 0.2028 - val_accuracy: 0.9051 - val_loss: 0.2128\n",
      "Epoch 7/30\n",
      "\u001b[1m54/54\u001b[0m \u001b[32m━━━━━━━━━━━━━━━━━━━━\u001b[0m\u001b[37m\u001b[0m \u001b[1m0s\u001b[0m 2ms/step - accuracy: 0.9286 - loss: 0.1811 - val_accuracy: 0.9120 - val_loss: 0.2031\n",
      "Epoch 8/30\n",
      "\u001b[1m54/54\u001b[0m \u001b[32m━━━━━━━━━━━━━━━━━━━━\u001b[0m\u001b[37m\u001b[0m \u001b[1m0s\u001b[0m 2ms/step - accuracy: 0.9315 - loss: 0.1699 - val_accuracy: 0.9176 - val_loss: 0.1846\n",
      "Epoch 9/30\n",
      "\u001b[1m54/54\u001b[0m \u001b[32m━━━━━━━━━━━━━━━━━━━━\u001b[0m\u001b[37m\u001b[0m \u001b[1m0s\u001b[0m 2ms/step - accuracy: 0.9335 - loss: 0.1584 - val_accuracy: 0.9114 - val_loss: 0.1917\n",
      "Epoch 10/30\n",
      "\u001b[1m54/54\u001b[0m \u001b[32m━━━━━━━━━━━━━━━━━━━━\u001b[0m\u001b[37m\u001b[0m \u001b[1m0s\u001b[0m 2ms/step - accuracy: 0.9381 - loss: 0.1489 - val_accuracy: 0.9212 - val_loss: 0.1690\n",
      "Epoch 11/30\n",
      "\u001b[1m54/54\u001b[0m \u001b[32m━━━━━━━━━━━━━━━━━━━━\u001b[0m\u001b[37m\u001b[0m \u001b[1m0s\u001b[0m 2ms/step - accuracy: 0.9392 - loss: 0.1432 - val_accuracy: 0.9253 - val_loss: 0.1563\n",
      "Epoch 12/30\n",
      "\u001b[1m54/54\u001b[0m \u001b[32m━━━━━━━━━━━━━━━━━━━━\u001b[0m\u001b[37m\u001b[0m \u001b[1m0s\u001b[0m 2ms/step - accuracy: 0.9413 - loss: 0.1359 - val_accuracy: 0.9331 - val_loss: 0.1404\n",
      "Epoch 13/30\n",
      "\u001b[1m54/54\u001b[0m \u001b[32m━━━━━━━━━━━━━━━━━━━━\u001b[0m\u001b[37m\u001b[0m \u001b[1m0s\u001b[0m 2ms/step - accuracy: 0.9433 - loss: 0.1308 - val_accuracy: 0.9368 - val_loss: 0.1367\n",
      "Epoch 14/30\n",
      "\u001b[1m54/54\u001b[0m \u001b[32m━━━━━━━━━━━━━━━━━━━━\u001b[0m\u001b[37m\u001b[0m \u001b[1m0s\u001b[0m 2ms/step - accuracy: 0.9450 - loss: 0.1288 - val_accuracy: 0.9368 - val_loss: 0.1402\n",
      "Epoch 15/30\n",
      "\u001b[1m54/54\u001b[0m \u001b[32m━━━━━━━━━━━━━━━━━━━━\u001b[0m\u001b[37m\u001b[0m \u001b[1m0s\u001b[0m 2ms/step - accuracy: 0.9473 - loss: 0.1222 - val_accuracy: 0.9399 - val_loss: 0.1309\n",
      "Epoch 16/30\n",
      "\u001b[1m54/54\u001b[0m \u001b[32m━━━━━━━━━━━━━━━━━━━━\u001b[0m\u001b[37m\u001b[0m \u001b[1m0s\u001b[0m 2ms/step - accuracy: 0.9480 - loss: 0.1188 - val_accuracy: 0.9385 - val_loss: 0.1344\n",
      "Epoch 17/30\n",
      "\u001b[1m54/54\u001b[0m \u001b[32m━━━━━━━━━━━━━━━━━━━━\u001b[0m\u001b[37m\u001b[0m \u001b[1m0s\u001b[0m 3ms/step - accuracy: 0.9500 - loss: 0.1146 - val_accuracy: 0.9429 - val_loss: 0.1245\n",
      "Epoch 18/30\n",
      "\u001b[1m54/54\u001b[0m \u001b[32m━━━━━━━━━━━━━━━━━━━━\u001b[0m\u001b[37m\u001b[0m \u001b[1m0s\u001b[0m 2ms/step - accuracy: 0.9513 - loss: 0.1112 - val_accuracy: 0.9427 - val_loss: 0.1250\n",
      "Epoch 19/30\n",
      "\u001b[1m54/54\u001b[0m \u001b[32m━━━━━━━━━━━━━━━━━━━━\u001b[0m\u001b[37m\u001b[0m \u001b[1m0s\u001b[0m 2ms/step - accuracy: 0.9530 - loss: 0.1095 - val_accuracy: 0.9482 - val_loss: 0.1140\n",
      "Epoch 20/30\n",
      "\u001b[1m54/54\u001b[0m \u001b[32m━━━━━━━━━━━━━━━━━━━━\u001b[0m\u001b[37m\u001b[0m \u001b[1m0s\u001b[0m 2ms/step - accuracy: 0.9512 - loss: 0.1121 - val_accuracy: 0.9471 - val_loss: 0.1151\n",
      "Epoch 21/30\n",
      "\u001b[1m54/54\u001b[0m \u001b[32m━━━━━━━━━━━━━━━━━━━━\u001b[0m\u001b[37m\u001b[0m \u001b[1m0s\u001b[0m 2ms/step - accuracy: 0.9531 - loss: 0.1080 - val_accuracy: 0.9502 - val_loss: 0.1130\n",
      "Epoch 22/30\n",
      "\u001b[1m54/54\u001b[0m \u001b[32m━━━━━━━━━━━━━━━━━━━━\u001b[0m\u001b[37m\u001b[0m \u001b[1m0s\u001b[0m 2ms/step - accuracy: 0.9537 - loss: 0.1080 - val_accuracy: 0.9451 - val_loss: 0.1192\n",
      "Epoch 23/30\n",
      "\u001b[1m54/54\u001b[0m \u001b[32m━━━━━━━━━━━━━━━━━━━━\u001b[0m\u001b[37m\u001b[0m \u001b[1m0s\u001b[0m 3ms/step - accuracy: 0.9553 - loss: 0.0998 - val_accuracy: 0.9527 - val_loss: 0.1056\n",
      "Epoch 24/30\n",
      "\u001b[1m54/54\u001b[0m \u001b[32m━━━━━━━━━━━━━━━━━━━━\u001b[0m\u001b[37m\u001b[0m \u001b[1m0s\u001b[0m 3ms/step - accuracy: 0.9555 - loss: 0.1034 - val_accuracy: 0.9462 - val_loss: 0.1173\n",
      "Epoch 25/30\n",
      "\u001b[1m54/54\u001b[0m \u001b[32m━━━━━━━━━━━━━━━━━━━━\u001b[0m\u001b[37m\u001b[0m \u001b[1m0s\u001b[0m 2ms/step - accuracy: 0.9573 - loss: 0.0961 - val_accuracy: 0.9523 - val_loss: 0.1041\n",
      "Epoch 26/30\n",
      "\u001b[1m54/54\u001b[0m \u001b[32m━━━━━━━━━━━━━━━━━━━━\u001b[0m\u001b[37m\u001b[0m \u001b[1m0s\u001b[0m 2ms/step - accuracy: 0.9569 - loss: 0.0955 - val_accuracy: 0.9480 - val_loss: 0.1116\n",
      "Epoch 27/30\n",
      "\u001b[1m54/54\u001b[0m \u001b[32m━━━━━━━━━━━━━━━━━━━━\u001b[0m\u001b[37m\u001b[0m \u001b[1m0s\u001b[0m 2ms/step - accuracy: 0.9597 - loss: 0.0929 - val_accuracy: 0.9543 - val_loss: 0.1058\n",
      "Epoch 28/30\n",
      "\u001b[1m54/54\u001b[0m \u001b[32m━━━━━━━━━━━━━━━━━━━━\u001b[0m\u001b[37m\u001b[0m \u001b[1m0s\u001b[0m 2ms/step - accuracy: 0.9569 - loss: 0.0942 - val_accuracy: 0.9537 - val_loss: 0.1004\n",
      "Epoch 29/30\n",
      "\u001b[1m54/54\u001b[0m \u001b[32m━━━━━━━━━━━━━━━━━━━━\u001b[0m\u001b[37m\u001b[0m \u001b[1m0s\u001b[0m 2ms/step - accuracy: 0.9605 - loss: 0.0885 - val_accuracy: 0.9515 - val_loss: 0.1067\n",
      "Epoch 30/30\n",
      "\u001b[1m54/54\u001b[0m \u001b[32m━━━━━━━━━━━━━━━━━━━━\u001b[0m\u001b[37m\u001b[0m \u001b[1m0s\u001b[0m 2ms/step - accuracy: 0.9621 - loss: 0.0885 - val_accuracy: 0.9518 - val_loss: 0.1043\n"
     ]
    },
    {
     "data": {
      "image/png": "[encoded data removed]",
      "text/plain": [
       "<Figure size 640x480 with 1 Axes>"
      ]
     },
     "metadata": {},
     "output_type": "display_data"
    },
    {
     "name": "stdout",
     "output_type": "stream",
     "text": [
      "\u001b[1m201/201\u001b[0m \u001b[32m━━━━━━━━━━━━━━━━━━━━\u001b[0m\u001b[37m\u001b[0m \u001b[1m0s\u001b[0m 680us/step\n",
      "초기 모델 Accuracy: 0.8624\n",
      "초기 모델 F1 Score: 0.8613\n",
      "변경 후 Accuracy: 0.9633\n",
      "변경 후 F1 Score: 0.9637\n"
     ]
    }
   ],
   "source": []
  }
 ],
 "metadata": {
  "colab": {
   "provenance": [
    {
     "file_id": "https://github.com/jjyjung/ai/blob/gh-pages/torch_rotor_dignostics.ipynb",
     "timestamp": 1705200018481
    }
   ]
  },
  "kernelspec": {
   "display_name": "Python 3 (ipykernel)",
   "language": "python",
   "name": "python3"
  },
  "language_info": {
   "codemirror_mode": {
    "name": "ipython",
    "version": 3
   },
   "file_extension": ".py",
   "mimetype": "text/x-python",
   "name": "python",
   "nbconvert_exporter": "python",
   "pygments_lexer": "ipython3",
   "version": "3.10.12"
  }
 },
 "nbformat": 4,
 "nbformat_minor": 4
}
